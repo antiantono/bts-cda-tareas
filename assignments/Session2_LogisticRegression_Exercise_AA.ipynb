{
  "nbformat": 4,
  "nbformat_minor": 0,
  "metadata": {
    "colab": {
      "name": "Session2_LogisticRegression_Exercise_AA",
      "provenance": [],
      "collapsed_sections": [],
      "toc_visible": true,
      "include_colab_link": true
    },
    "kernelspec": {
      "name": "python3",
      "display_name": "Python 3"
    }
  },
  "cells": [
    {
      "cell_type": "markdown",
      "metadata": {
        "id": "view-in-github",
        "colab_type": "text"
      },
      "source": [
        "<a href=\"https://colab.research.google.com/github/antiantono/bts-cda-tareas/blob/main/assignments/Session2_LogisticRegression_Exercise_AA.ipynb\" target=\"_parent\"><img src=\"https://colab.research.google.com/assets/colab-badge.svg\" alt=\"Open In Colab\"/></a>"
      ]
    },
    {
      "cell_type": "markdown",
      "metadata": {
        "id": "FGwd_FaSM139"
      },
      "source": [
        "![BTS](https://github.com/vfp1/bts-dsf-2020/raw/main/Logo-BTS.jpg)\n",
        "\n",
        "# Session 2: Logistic Regression EXERCISE\n",
        "\n",
        "### Victor F. Pajuelo Madrigal <victor.pajuelo@bts.tech> - Classical Data Analysis\n",
        "\n",
        "\n",
        "**Resources:**\n",
        "* Sklearn documentation"
      ]
    },
    {
      "cell_type": "markdown",
      "metadata": {
        "id": "qhbbL6bgLU_R"
      },
      "source": [
        "# Logistic Regression Assignment"
      ]
    },
    {
      "cell_type": "markdown",
      "metadata": {
        "id": "3n-19MN2LU_T"
      },
      "source": [
        "We are given a dataset of  direct marketing campaigns of a credit institution. **Our goal is to implement a model to predict whether the client will subscribe to a term deposit.**\n",
        "\n",
        "**When working on the assignment there could be multiple ways to explore data or implement specific analysis. Choose that one you retain more appropriate but always justify every choice you make (e.g., why you choose some variables), comment your code, describe the plots and results you obtain.**\n",
        "\n",
        "\n",
        "### Enjoy!"
      ]
    },
    {
      "cell_type": "markdown",
      "metadata": {
        "id": "qLiDiMlzLU_U"
      },
      "source": [
        "DATASET DESCRIPTION\n",
        "\n",
        "- age (numeric)\n",
        "- job : type of job \n",
        "- marital : marital status\n",
        "- education \n",
        "- default: has credit in default? \n",
        "- housing: has housing loan? \n",
        "- loan: has personal loan? \n",
        "- contact: contact communication type \n",
        "- month: last contact month of year \n",
        "- day_of_week: last contact day of the week \n",
        "- duration: last contact duration, in seconds (numeric). Important note: this attribute highly affects the output target (e.g., if duration=0 then y=’no’). The duration is not known before a call is performed, also, after the end of the call, y is obviously known. Thus, this input should only be included for benchmark purposes and should be discarded if the intention is to have a realistic predictive model\n",
        "- campaign: number of contacts performed during this campaign and for this client \n",
        "- pdays: number of days that passed by after the client was last contacted from a previous campaign (999 means client was not previously contacted)\n",
        "- previous: number of contacts performed before this campaign and for this client (numeric)\n",
        "- poutcome: outcome of the previous marketing campaign \n",
        "- emp.var.rate: employment variation rate \n",
        "- cons.price.idx: consumer price index \n",
        "- cons.conf.idx: consumer confidence index \n",
        "- euribor3m: euribor 3 month rate \n",
        "- nr.employed: number of employees \n",
        "- y — Target variable: has the client subscribed a term deposit? "
      ]
    },
    {
      "cell_type": "markdown",
      "metadata": {
        "id": "36LYnxuALU_V"
      },
      "source": [
        "##### Import libraries"
      ]
    },
    {
      "cell_type": "code",
      "metadata": {
        "id": "MGWs5Jw-LU_V"
      },
      "source": [
        "import pandas as pd\n",
        "import numpy as np\n",
        "from sklearn import preprocessing\n",
        "import matplotlib.pyplot as plt \n",
        "plt.rc(\"font\", size=18)\n",
        "from sklearn.linear_model import LogisticRegression\n",
        "from sklearn.model_selection import train_test_split\n",
        "import seaborn as sns\n",
        "\n",
        "sns.set(style=\"white\")\n",
        "sns.set(style=\"whitegrid\", color_codes=True)"
      ],
      "execution_count": null,
      "outputs": []
    },
    {
      "cell_type": "code",
      "metadata": {
        "id": "WYykgapRLU_W",
        "colab": {
          "base_uri": "https://localhost:8080/",
          "height": 162
        },
        "outputId": "a8e3aca0-4552-4aa4-fba7-584d61ca34a4"
      },
      "source": [
        "data = pd.read_csv('https://raw.githubusercontent.com/antiantono/bts-cda-2020/main/Session_2/banking.csv')\n",
        "data.head(3)"
      ],
      "execution_count": null,
      "outputs": [
        {
          "output_type": "execute_result",
          "data": {
            "text/html": [
              "<div>\n",
              "<style scoped>\n",
              "    .dataframe tbody tr th:only-of-type {\n",
              "        vertical-align: middle;\n",
              "    }\n",
              "\n",
              "    .dataframe tbody tr th {\n",
              "        vertical-align: top;\n",
              "    }\n",
              "\n",
              "    .dataframe thead th {\n",
              "        text-align: right;\n",
              "    }\n",
              "</style>\n",
              "<table border=\"1\" class=\"dataframe\">\n",
              "  <thead>\n",
              "    <tr style=\"text-align: right;\">\n",
              "      <th></th>\n",
              "      <th>age</th>\n",
              "      <th>job</th>\n",
              "      <th>marital</th>\n",
              "      <th>education</th>\n",
              "      <th>default</th>\n",
              "      <th>housing</th>\n",
              "      <th>loan</th>\n",
              "      <th>contact</th>\n",
              "      <th>month</th>\n",
              "      <th>day_of_week</th>\n",
              "      <th>duration</th>\n",
              "      <th>campaign</th>\n",
              "      <th>pdays</th>\n",
              "      <th>previous</th>\n",
              "      <th>poutcome</th>\n",
              "      <th>emp_var_rate</th>\n",
              "      <th>cons_price_idx</th>\n",
              "      <th>cons_conf_idx</th>\n",
              "      <th>euribor3m</th>\n",
              "      <th>nr_employed</th>\n",
              "      <th>y</th>\n",
              "    </tr>\n",
              "  </thead>\n",
              "  <tbody>\n",
              "    <tr>\n",
              "      <th>0</th>\n",
              "      <td>44</td>\n",
              "      <td>blue-collar</td>\n",
              "      <td>married</td>\n",
              "      <td>basic.4y</td>\n",
              "      <td>unknown</td>\n",
              "      <td>yes</td>\n",
              "      <td>no</td>\n",
              "      <td>cellular</td>\n",
              "      <td>aug</td>\n",
              "      <td>thu</td>\n",
              "      <td>210</td>\n",
              "      <td>1</td>\n",
              "      <td>999</td>\n",
              "      <td>0</td>\n",
              "      <td>nonexistent</td>\n",
              "      <td>1.4</td>\n",
              "      <td>93.444</td>\n",
              "      <td>-36.1</td>\n",
              "      <td>4.963</td>\n",
              "      <td>5228.1</td>\n",
              "      <td>0</td>\n",
              "    </tr>\n",
              "    <tr>\n",
              "      <th>1</th>\n",
              "      <td>53</td>\n",
              "      <td>technician</td>\n",
              "      <td>married</td>\n",
              "      <td>unknown</td>\n",
              "      <td>no</td>\n",
              "      <td>no</td>\n",
              "      <td>no</td>\n",
              "      <td>cellular</td>\n",
              "      <td>nov</td>\n",
              "      <td>fri</td>\n",
              "      <td>138</td>\n",
              "      <td>1</td>\n",
              "      <td>999</td>\n",
              "      <td>0</td>\n",
              "      <td>nonexistent</td>\n",
              "      <td>-0.1</td>\n",
              "      <td>93.200</td>\n",
              "      <td>-42.0</td>\n",
              "      <td>4.021</td>\n",
              "      <td>5195.8</td>\n",
              "      <td>0</td>\n",
              "    </tr>\n",
              "    <tr>\n",
              "      <th>2</th>\n",
              "      <td>28</td>\n",
              "      <td>management</td>\n",
              "      <td>single</td>\n",
              "      <td>university.degree</td>\n",
              "      <td>no</td>\n",
              "      <td>yes</td>\n",
              "      <td>no</td>\n",
              "      <td>cellular</td>\n",
              "      <td>jun</td>\n",
              "      <td>thu</td>\n",
              "      <td>339</td>\n",
              "      <td>3</td>\n",
              "      <td>6</td>\n",
              "      <td>2</td>\n",
              "      <td>success</td>\n",
              "      <td>-1.7</td>\n",
              "      <td>94.055</td>\n",
              "      <td>-39.8</td>\n",
              "      <td>0.729</td>\n",
              "      <td>4991.6</td>\n",
              "      <td>1</td>\n",
              "    </tr>\n",
              "  </tbody>\n",
              "</table>\n",
              "</div>"
            ],
            "text/plain": [
              "   age          job  marital  ... euribor3m nr_employed  y\n",
              "0   44  blue-collar  married  ...     4.963      5228.1  0\n",
              "1   53   technician  married  ...     4.021      5195.8  0\n",
              "2   28   management   single  ...     0.729      4991.6  1\n",
              "\n",
              "[3 rows x 21 columns]"
            ]
          },
          "metadata": {
            "tags": []
          },
          "execution_count": 69
        }
      ]
    },
    {
      "cell_type": "code",
      "metadata": {
        "colab": {
          "base_uri": "https://localhost:8080/"
        },
        "id": "pj7hlCyt6ooY",
        "outputId": "1d1d95f9-f265-4f7b-943b-22e2ba6b7fbc"
      },
      "source": [
        "data.shape"
      ],
      "execution_count": null,
      "outputs": [
        {
          "output_type": "execute_result",
          "data": {
            "text/plain": [
              "(41188, 21)"
            ]
          },
          "metadata": {
            "tags": []
          },
          "execution_count": 70
        }
      ]
    },
    {
      "cell_type": "code",
      "metadata": {
        "colab": {
          "base_uri": "https://localhost:8080/",
          "height": 390
        },
        "id": "SXpSphEy_bl4",
        "outputId": "bb939db2-d0ff-4c3d-fb90-9005d7d0563f"
      },
      "source": [
        "# check numerics\r\n",
        "data.describe().T"
      ],
      "execution_count": null,
      "outputs": [
        {
          "output_type": "execute_result",
          "data": {
            "text/html": [
              "<div>\n",
              "<style scoped>\n",
              "    .dataframe tbody tr th:only-of-type {\n",
              "        vertical-align: middle;\n",
              "    }\n",
              "\n",
              "    .dataframe tbody tr th {\n",
              "        vertical-align: top;\n",
              "    }\n",
              "\n",
              "    .dataframe thead th {\n",
              "        text-align: right;\n",
              "    }\n",
              "</style>\n",
              "<table border=\"1\" class=\"dataframe\">\n",
              "  <thead>\n",
              "    <tr style=\"text-align: right;\">\n",
              "      <th></th>\n",
              "      <th>count</th>\n",
              "      <th>mean</th>\n",
              "      <th>std</th>\n",
              "      <th>min</th>\n",
              "      <th>25%</th>\n",
              "      <th>50%</th>\n",
              "      <th>75%</th>\n",
              "      <th>max</th>\n",
              "    </tr>\n",
              "  </thead>\n",
              "  <tbody>\n",
              "    <tr>\n",
              "      <th>age</th>\n",
              "      <td>41188.0</td>\n",
              "      <td>40.024060</td>\n",
              "      <td>10.421250</td>\n",
              "      <td>17.000</td>\n",
              "      <td>32.000</td>\n",
              "      <td>38.000</td>\n",
              "      <td>47.000</td>\n",
              "      <td>98.000</td>\n",
              "    </tr>\n",
              "    <tr>\n",
              "      <th>duration</th>\n",
              "      <td>41188.0</td>\n",
              "      <td>258.285010</td>\n",
              "      <td>259.279249</td>\n",
              "      <td>0.000</td>\n",
              "      <td>102.000</td>\n",
              "      <td>180.000</td>\n",
              "      <td>319.000</td>\n",
              "      <td>4918.000</td>\n",
              "    </tr>\n",
              "    <tr>\n",
              "      <th>campaign</th>\n",
              "      <td>41188.0</td>\n",
              "      <td>2.567593</td>\n",
              "      <td>2.770014</td>\n",
              "      <td>1.000</td>\n",
              "      <td>1.000</td>\n",
              "      <td>2.000</td>\n",
              "      <td>3.000</td>\n",
              "      <td>56.000</td>\n",
              "    </tr>\n",
              "    <tr>\n",
              "      <th>pdays</th>\n",
              "      <td>41188.0</td>\n",
              "      <td>962.475454</td>\n",
              "      <td>186.910907</td>\n",
              "      <td>0.000</td>\n",
              "      <td>999.000</td>\n",
              "      <td>999.000</td>\n",
              "      <td>999.000</td>\n",
              "      <td>999.000</td>\n",
              "    </tr>\n",
              "    <tr>\n",
              "      <th>previous</th>\n",
              "      <td>41188.0</td>\n",
              "      <td>0.172963</td>\n",
              "      <td>0.494901</td>\n",
              "      <td>0.000</td>\n",
              "      <td>0.000</td>\n",
              "      <td>0.000</td>\n",
              "      <td>0.000</td>\n",
              "      <td>7.000</td>\n",
              "    </tr>\n",
              "    <tr>\n",
              "      <th>emp_var_rate</th>\n",
              "      <td>41188.0</td>\n",
              "      <td>0.081886</td>\n",
              "      <td>1.570960</td>\n",
              "      <td>-3.400</td>\n",
              "      <td>-1.800</td>\n",
              "      <td>1.100</td>\n",
              "      <td>1.400</td>\n",
              "      <td>1.400</td>\n",
              "    </tr>\n",
              "    <tr>\n",
              "      <th>cons_price_idx</th>\n",
              "      <td>41188.0</td>\n",
              "      <td>93.575664</td>\n",
              "      <td>0.578840</td>\n",
              "      <td>92.201</td>\n",
              "      <td>93.075</td>\n",
              "      <td>93.749</td>\n",
              "      <td>93.994</td>\n",
              "      <td>94.767</td>\n",
              "    </tr>\n",
              "    <tr>\n",
              "      <th>cons_conf_idx</th>\n",
              "      <td>41188.0</td>\n",
              "      <td>-40.502600</td>\n",
              "      <td>4.628198</td>\n",
              "      <td>-50.800</td>\n",
              "      <td>-42.700</td>\n",
              "      <td>-41.800</td>\n",
              "      <td>-36.400</td>\n",
              "      <td>-26.900</td>\n",
              "    </tr>\n",
              "    <tr>\n",
              "      <th>euribor3m</th>\n",
              "      <td>41188.0</td>\n",
              "      <td>3.621291</td>\n",
              "      <td>1.734447</td>\n",
              "      <td>0.634</td>\n",
              "      <td>1.344</td>\n",
              "      <td>4.857</td>\n",
              "      <td>4.961</td>\n",
              "      <td>5.045</td>\n",
              "    </tr>\n",
              "    <tr>\n",
              "      <th>nr_employed</th>\n",
              "      <td>41188.0</td>\n",
              "      <td>5167.035911</td>\n",
              "      <td>72.251528</td>\n",
              "      <td>4963.600</td>\n",
              "      <td>5099.100</td>\n",
              "      <td>5191.000</td>\n",
              "      <td>5228.100</td>\n",
              "      <td>5228.100</td>\n",
              "    </tr>\n",
              "    <tr>\n",
              "      <th>y</th>\n",
              "      <td>41188.0</td>\n",
              "      <td>0.112654</td>\n",
              "      <td>0.316173</td>\n",
              "      <td>0.000</td>\n",
              "      <td>0.000</td>\n",
              "      <td>0.000</td>\n",
              "      <td>0.000</td>\n",
              "      <td>1.000</td>\n",
              "    </tr>\n",
              "  </tbody>\n",
              "</table>\n",
              "</div>"
            ],
            "text/plain": [
              "                  count         mean         std  ...       50%       75%       max\n",
              "age             41188.0    40.024060   10.421250  ...    38.000    47.000    98.000\n",
              "duration        41188.0   258.285010  259.279249  ...   180.000   319.000  4918.000\n",
              "campaign        41188.0     2.567593    2.770014  ...     2.000     3.000    56.000\n",
              "pdays           41188.0   962.475454  186.910907  ...   999.000   999.000   999.000\n",
              "previous        41188.0     0.172963    0.494901  ...     0.000     0.000     7.000\n",
              "emp_var_rate    41188.0     0.081886    1.570960  ...     1.100     1.400     1.400\n",
              "cons_price_idx  41188.0    93.575664    0.578840  ...    93.749    93.994    94.767\n",
              "cons_conf_idx   41188.0   -40.502600    4.628198  ...   -41.800   -36.400   -26.900\n",
              "euribor3m       41188.0     3.621291    1.734447  ...     4.857     4.961     5.045\n",
              "nr_employed     41188.0  5167.035911   72.251528  ...  5191.000  5228.100  5228.100\n",
              "y               41188.0     0.112654    0.316173  ...     0.000     0.000     1.000\n",
              "\n",
              "[11 rows x 8 columns]"
            ]
          },
          "metadata": {
            "tags": []
          },
          "execution_count": 71
        }
      ]
    },
    {
      "cell_type": "code",
      "metadata": {
        "colab": {
          "base_uri": "https://localhost:8080/",
          "height": 359
        },
        "id": "LoTuHp32_mzt",
        "outputId": "0e905ea1-2bdc-43aa-d187-9a06e1a9c91b"
      },
      "source": [
        "# check categoricals\r\n",
        "data.describe(exclude=np.number).T"
      ],
      "execution_count": null,
      "outputs": [
        {
          "output_type": "execute_result",
          "data": {
            "text/html": [
              "<div>\n",
              "<style scoped>\n",
              "    .dataframe tbody tr th:only-of-type {\n",
              "        vertical-align: middle;\n",
              "    }\n",
              "\n",
              "    .dataframe tbody tr th {\n",
              "        vertical-align: top;\n",
              "    }\n",
              "\n",
              "    .dataframe thead th {\n",
              "        text-align: right;\n",
              "    }\n",
              "</style>\n",
              "<table border=\"1\" class=\"dataframe\">\n",
              "  <thead>\n",
              "    <tr style=\"text-align: right;\">\n",
              "      <th></th>\n",
              "      <th>count</th>\n",
              "      <th>unique</th>\n",
              "      <th>top</th>\n",
              "      <th>freq</th>\n",
              "    </tr>\n",
              "  </thead>\n",
              "  <tbody>\n",
              "    <tr>\n",
              "      <th>job</th>\n",
              "      <td>41188</td>\n",
              "      <td>12</td>\n",
              "      <td>admin.</td>\n",
              "      <td>10422</td>\n",
              "    </tr>\n",
              "    <tr>\n",
              "      <th>marital</th>\n",
              "      <td>41188</td>\n",
              "      <td>4</td>\n",
              "      <td>married</td>\n",
              "      <td>24928</td>\n",
              "    </tr>\n",
              "    <tr>\n",
              "      <th>education</th>\n",
              "      <td>41188</td>\n",
              "      <td>8</td>\n",
              "      <td>university.degree</td>\n",
              "      <td>12168</td>\n",
              "    </tr>\n",
              "    <tr>\n",
              "      <th>default</th>\n",
              "      <td>41188</td>\n",
              "      <td>3</td>\n",
              "      <td>no</td>\n",
              "      <td>32588</td>\n",
              "    </tr>\n",
              "    <tr>\n",
              "      <th>housing</th>\n",
              "      <td>41188</td>\n",
              "      <td>3</td>\n",
              "      <td>yes</td>\n",
              "      <td>21576</td>\n",
              "    </tr>\n",
              "    <tr>\n",
              "      <th>loan</th>\n",
              "      <td>41188</td>\n",
              "      <td>3</td>\n",
              "      <td>no</td>\n",
              "      <td>33950</td>\n",
              "    </tr>\n",
              "    <tr>\n",
              "      <th>contact</th>\n",
              "      <td>41188</td>\n",
              "      <td>2</td>\n",
              "      <td>cellular</td>\n",
              "      <td>26144</td>\n",
              "    </tr>\n",
              "    <tr>\n",
              "      <th>month</th>\n",
              "      <td>41188</td>\n",
              "      <td>10</td>\n",
              "      <td>may</td>\n",
              "      <td>13769</td>\n",
              "    </tr>\n",
              "    <tr>\n",
              "      <th>day_of_week</th>\n",
              "      <td>41188</td>\n",
              "      <td>5</td>\n",
              "      <td>thu</td>\n",
              "      <td>8623</td>\n",
              "    </tr>\n",
              "    <tr>\n",
              "      <th>poutcome</th>\n",
              "      <td>41188</td>\n",
              "      <td>3</td>\n",
              "      <td>nonexistent</td>\n",
              "      <td>35563</td>\n",
              "    </tr>\n",
              "  </tbody>\n",
              "</table>\n",
              "</div>"
            ],
            "text/plain": [
              "             count unique                top   freq\n",
              "job          41188     12             admin.  10422\n",
              "marital      41188      4            married  24928\n",
              "education    41188      8  university.degree  12168\n",
              "default      41188      3                 no  32588\n",
              "housing      41188      3                yes  21576\n",
              "loan         41188      3                 no  33950\n",
              "contact      41188      2           cellular  26144\n",
              "month        41188     10                may  13769\n",
              "day_of_week  41188      5                thu   8623\n",
              "poutcome     41188      3        nonexistent  35563"
            ]
          },
          "metadata": {
            "tags": []
          },
          "execution_count": 72
        }
      ]
    },
    {
      "cell_type": "markdown",
      "metadata": {
        "id": "aqpbWf5ZLU_Y"
      },
      "source": [
        "## EDA and Feature Engineering \n",
        "\n",
        "An important requirement for Logistic Regression to function properly is Feature Engineering as it helps to identify independent variables. Without proper identification of independent variables Logistic Regression fails to perform correctly."
      ]
    },
    {
      "cell_type": "markdown",
      "metadata": {
        "id": "BXv9wgqILU_Y"
      },
      "source": [
        "One disadvantage of logistic regression is that it doesn’t handle large number of categorical variables well.\n",
        "\n",
        "```education``` column has many categories, try to reduce the categories for a better modelling. The education column has the following categories.\n"
      ]
    },
    {
      "cell_type": "code",
      "metadata": {
        "id": "DdkrF0WrLU_Y",
        "colab": {
          "base_uri": "https://localhost:8080/"
        },
        "outputId": "6e33cf2a-034e-485e-e5d6-d03623eabeed"
      },
      "source": [
        "data.education.unique()"
      ],
      "execution_count": null,
      "outputs": [
        {
          "output_type": "execute_result",
          "data": {
            "text/plain": [
              "array(['basic.4y', 'unknown', 'university.degree', 'high.school',\n",
              "       'basic.9y', 'professional.course', 'basic.6y', 'illiterate'],\n",
              "      dtype=object)"
            ]
          },
          "metadata": {
            "tags": []
          },
          "execution_count": 73
        }
      ]
    },
    {
      "cell_type": "markdown",
      "metadata": {
        "id": "NXYm8tJZLU_Z"
      },
      "source": [
        "We will group all ```basic.XX``` in a unique value ```basic```"
      ]
    },
    {
      "cell_type": "code",
      "metadata": {
        "colab": {
          "base_uri": "https://localhost:8080/"
        },
        "id": "jqITjsMM-bNI",
        "outputId": "453c274f-b46f-4652-ce1b-e77549f85359"
      },
      "source": [
        "# count before grouping\r\n",
        "data.education.value_counts()"
      ],
      "execution_count": null,
      "outputs": [
        {
          "output_type": "execute_result",
          "data": {
            "text/plain": [
              "university.degree      12168\n",
              "high.school             9515\n",
              "basic.9y                6045\n",
              "professional.course     5243\n",
              "basic.4y                4176\n",
              "basic.6y                2292\n",
              "unknown                 1731\n",
              "illiterate                18\n",
              "Name: education, dtype: int64"
            ]
          },
          "metadata": {
            "tags": []
          },
          "execution_count": 74
        }
      ]
    },
    {
      "cell_type": "code",
      "metadata": {
        "id": "VHeQOjor75F2"
      },
      "source": [
        "# reassign all 'basic.xx' into one 'basic' group\r\n",
        "data.education.replace(to_replace=r'basic.\\w\\w', value='basic', regex=True, inplace=True)"
      ],
      "execution_count": null,
      "outputs": []
    },
    {
      "cell_type": "code",
      "metadata": {
        "colab": {
          "base_uri": "https://localhost:8080/"
        },
        "id": "LZXEoa8J-Wyh",
        "outputId": "86df56ad-1dfa-44ec-df37-dc112e3c332a"
      },
      "source": [
        "# count after grouping\r\n",
        "data.education.value_counts()"
      ],
      "execution_count": null,
      "outputs": [
        {
          "output_type": "execute_result",
          "data": {
            "text/plain": [
              "basic                  12513\n",
              "university.degree      12168\n",
              "high.school             9515\n",
              "professional.course     5243\n",
              "unknown                 1731\n",
              "illiterate                18\n",
              "Name: education, dtype: int64"
            ]
          },
          "metadata": {
            "tags": []
          },
          "execution_count": 76
        }
      ]
    },
    {
      "cell_type": "markdown",
      "metadata": {
        "id": "wY3up1slLU_Z"
      },
      "source": [
        "##### Analyse the distribution of the target variable"
      ]
    },
    {
      "cell_type": "code",
      "metadata": {
        "colab": {
          "base_uri": "https://localhost:8080/",
          "height": 340
        },
        "id": "C29KsUWL-9Ze",
        "outputId": "ff4c0eb1-8f21-47ca-d07c-002e24d2a6c2"
      },
      "source": [
        "ax = sns.countplot(data.y)\r\n",
        "\r\n",
        "for p in ax.patches:\r\n",
        "    height = p.get_height()\r\n",
        "    ax.text(p.get_x() + p.get_width()/2, height + 250,\r\n",
        "            '{:1.0f}'.format(height),\r\n",
        "            ha=\"center\") "
      ],
      "execution_count": null,
      "outputs": [
        {
          "output_type": "stream",
          "text": [
            "/usr/local/lib/python3.6/dist-packages/seaborn/_decorators.py:43: FutureWarning: Pass the following variable as a keyword arg: x. From version 0.12, the only valid positional argument will be `data`, and passing other arguments without an explicit keyword will result in an error or misinterpretation.\n",
            "  FutureWarning\n"
          ],
          "name": "stderr"
        },
        {
          "output_type": "display_data",
          "data": {
            "image/png": "[encoded data removed]",
            "text/plain": [
              "<Figure size 432x288 with 1 Axes>"
            ]
          },
          "metadata": {
            "tags": []
          }
        }
      ]
    },
    {
      "cell_type": "code",
      "metadata": {
        "colab": {
          "base_uri": "https://localhost:8080/",
          "height": 111
        },
        "id": "tnZv2MYnBkQu",
        "outputId": "392ce89c-647b-4eac-ab4c-0b246170357f"
      },
      "source": [
        "ytable = pd.DataFrame(data.value_counts(data.y), columns=['count']).reset_index()\r\n",
        "ytable['perc'] = round(100 * ytable['count'] / ytable['count'].sum(), 2)\r\n",
        "ytable"
      ],
      "execution_count": null,
      "outputs": [
        {
          "output_type": "execute_result",
          "data": {
            "text/html": [
              "<div>\n",
              "<style scoped>\n",
              "    .dataframe tbody tr th:only-of-type {\n",
              "        vertical-align: middle;\n",
              "    }\n",
              "\n",
              "    .dataframe tbody tr th {\n",
              "        vertical-align: top;\n",
              "    }\n",
              "\n",
              "    .dataframe thead th {\n",
              "        text-align: right;\n",
              "    }\n",
              "</style>\n",
              "<table border=\"1\" class=\"dataframe\">\n",
              "  <thead>\n",
              "    <tr style=\"text-align: right;\">\n",
              "      <th></th>\n",
              "      <th>y</th>\n",
              "      <th>count</th>\n",
              "      <th>perc</th>\n",
              "    </tr>\n",
              "  </thead>\n",
              "  <tbody>\n",
              "    <tr>\n",
              "      <th>0</th>\n",
              "      <td>0</td>\n",
              "      <td>36548</td>\n",
              "      <td>88.73</td>\n",
              "    </tr>\n",
              "    <tr>\n",
              "      <th>1</th>\n",
              "      <td>1</td>\n",
              "      <td>4640</td>\n",
              "      <td>11.27</td>\n",
              "    </tr>\n",
              "  </tbody>\n",
              "</table>\n",
              "</div>"
            ],
            "text/plain": [
              "   y  count   perc\n",
              "0  0  36548  88.73\n",
              "1  1   4640  11.27"
            ]
          },
          "metadata": {
            "tags": []
          },
          "execution_count": 78
        }
      ]
    },
    {
      "cell_type": "markdown",
      "metadata": {
        "id": "04i5deoGLU_a"
      },
      "source": [
        "##### What can we observe about the distribution of the target variable"
      ]
    },
    {
      "cell_type": "markdown",
      "metadata": {
        "id": "qR4mRdKrLU_b"
      },
      "source": [
        "*There is a huge class imbalance, almost 9 to 1. The data needs to be weighted, or the minor class needs to be upsampled.*"
      ]
    },
    {
      "cell_type": "markdown",
      "metadata": {
        "id": "ScidMCiJLU_b"
      },
      "source": [
        "##### Observe how the different numeric variables behave for the 2 classes"
      ]
    },
    {
      "cell_type": "code",
      "metadata": {
        "colab": {
          "base_uri": "https://localhost:8080/",
          "height": 142
        },
        "id": "Wz75BFCyEhe-",
        "outputId": "37cfd716-ae18-4b43-b60c-b79d940c733e"
      },
      "source": [
        "ysplit = data.groupby(by='y', axis=0).mean()\r\n",
        "ysplit"
      ],
      "execution_count": null,
      "outputs": [
        {
          "output_type": "execute_result",
          "data": {
            "text/html": [
              "<div>\n",
              "<style scoped>\n",
              "    .dataframe tbody tr th:only-of-type {\n",
              "        vertical-align: middle;\n",
              "    }\n",
              "\n",
              "    .dataframe tbody tr th {\n",
              "        vertical-align: top;\n",
              "    }\n",
              "\n",
              "    .dataframe thead th {\n",
              "        text-align: right;\n",
              "    }\n",
              "</style>\n",
              "<table border=\"1\" class=\"dataframe\">\n",
              "  <thead>\n",
              "    <tr style=\"text-align: right;\">\n",
              "      <th></th>\n",
              "      <th>age</th>\n",
              "      <th>duration</th>\n",
              "      <th>campaign</th>\n",
              "      <th>pdays</th>\n",
              "      <th>previous</th>\n",
              "      <th>emp_var_rate</th>\n",
              "      <th>cons_price_idx</th>\n",
              "      <th>cons_conf_idx</th>\n",
              "      <th>euribor3m</th>\n",
              "      <th>nr_employed</th>\n",
              "    </tr>\n",
              "    <tr>\n",
              "      <th>y</th>\n",
              "      <th></th>\n",
              "      <th></th>\n",
              "      <th></th>\n",
              "      <th></th>\n",
              "      <th></th>\n",
              "      <th></th>\n",
              "      <th></th>\n",
              "      <th></th>\n",
              "      <th></th>\n",
              "      <th></th>\n",
              "    </tr>\n",
              "  </thead>\n",
              "  <tbody>\n",
              "    <tr>\n",
              "      <th>0</th>\n",
              "      <td>39.911185</td>\n",
              "      <td>220.844807</td>\n",
              "      <td>2.633085</td>\n",
              "      <td>984.113878</td>\n",
              "      <td>0.132374</td>\n",
              "      <td>0.248875</td>\n",
              "      <td>93.603757</td>\n",
              "      <td>-40.593097</td>\n",
              "      <td>3.811491</td>\n",
              "      <td>5176.166600</td>\n",
              "    </tr>\n",
              "    <tr>\n",
              "      <th>1</th>\n",
              "      <td>40.913147</td>\n",
              "      <td>553.191164</td>\n",
              "      <td>2.051724</td>\n",
              "      <td>792.035560</td>\n",
              "      <td>0.492672</td>\n",
              "      <td>-1.233448</td>\n",
              "      <td>93.354386</td>\n",
              "      <td>-39.789784</td>\n",
              "      <td>2.123135</td>\n",
              "      <td>5095.115991</td>\n",
              "    </tr>\n",
              "  </tbody>\n",
              "</table>\n",
              "</div>"
            ],
            "text/plain": [
              "         age    duration  campaign  ...  cons_conf_idx  euribor3m  nr_employed\n",
              "y                                   ...                                       \n",
              "0  39.911185  220.844807  2.633085  ...     -40.593097   3.811491  5176.166600\n",
              "1  40.913147  553.191164  2.051724  ...     -39.789784   2.123135  5095.115991\n",
              "\n",
              "[2 rows x 10 columns]"
            ]
          },
          "metadata": {
            "tags": []
          },
          "execution_count": 79
        }
      ]
    },
    {
      "cell_type": "code",
      "metadata": {
        "colab": {
          "base_uri": "https://localhost:8080/",
          "height": 173
        },
        "id": "IZ346aF-FiD2",
        "outputId": "d748321e-0f88-4740-e9a3-0f033aca8b56"
      },
      "source": [
        "# Check the relative difference between the two classes\r\n",
        "ysplit.loc['diff'] = ysplit.loc[1] - ysplit.loc[0]\r\n",
        "ysplit"
      ],
      "execution_count": null,
      "outputs": [
        {
          "output_type": "execute_result",
          "data": {
            "text/html": [
              "<div>\n",
              "<style scoped>\n",
              "    .dataframe tbody tr th:only-of-type {\n",
              "        vertical-align: middle;\n",
              "    }\n",
              "\n",
              "    .dataframe tbody tr th {\n",
              "        vertical-align: top;\n",
              "    }\n",
              "\n",
              "    .dataframe thead th {\n",
              "        text-align: right;\n",
              "    }\n",
              "</style>\n",
              "<table border=\"1\" class=\"dataframe\">\n",
              "  <thead>\n",
              "    <tr style=\"text-align: right;\">\n",
              "      <th></th>\n",
              "      <th>age</th>\n",
              "      <th>duration</th>\n",
              "      <th>campaign</th>\n",
              "      <th>pdays</th>\n",
              "      <th>previous</th>\n",
              "      <th>emp_var_rate</th>\n",
              "      <th>cons_price_idx</th>\n",
              "      <th>cons_conf_idx</th>\n",
              "      <th>euribor3m</th>\n",
              "      <th>nr_employed</th>\n",
              "    </tr>\n",
              "    <tr>\n",
              "      <th>y</th>\n",
              "      <th></th>\n",
              "      <th></th>\n",
              "      <th></th>\n",
              "      <th></th>\n",
              "      <th></th>\n",
              "      <th></th>\n",
              "      <th></th>\n",
              "      <th></th>\n",
              "      <th></th>\n",
              "      <th></th>\n",
              "    </tr>\n",
              "  </thead>\n",
              "  <tbody>\n",
              "    <tr>\n",
              "      <th>0</th>\n",
              "      <td>39.911185</td>\n",
              "      <td>220.844807</td>\n",
              "      <td>2.633085</td>\n",
              "      <td>984.113878</td>\n",
              "      <td>0.132374</td>\n",
              "      <td>0.248875</td>\n",
              "      <td>93.603757</td>\n",
              "      <td>-40.593097</td>\n",
              "      <td>3.811491</td>\n",
              "      <td>5176.166600</td>\n",
              "    </tr>\n",
              "    <tr>\n",
              "      <th>1</th>\n",
              "      <td>40.913147</td>\n",
              "      <td>553.191164</td>\n",
              "      <td>2.051724</td>\n",
              "      <td>792.035560</td>\n",
              "      <td>0.492672</td>\n",
              "      <td>-1.233448</td>\n",
              "      <td>93.354386</td>\n",
              "      <td>-39.789784</td>\n",
              "      <td>2.123135</td>\n",
              "      <td>5095.115991</td>\n",
              "    </tr>\n",
              "    <tr>\n",
              "      <th>diff</th>\n",
              "      <td>1.001961</td>\n",
              "      <td>332.346357</td>\n",
              "      <td>-0.581361</td>\n",
              "      <td>-192.078317</td>\n",
              "      <td>0.360299</td>\n",
              "      <td>-1.482324</td>\n",
              "      <td>-0.249371</td>\n",
              "      <td>0.803312</td>\n",
              "      <td>-1.688356</td>\n",
              "      <td>-81.050609</td>\n",
              "    </tr>\n",
              "  </tbody>\n",
              "</table>\n",
              "</div>"
            ],
            "text/plain": [
              "            age    duration  campaign  ...  cons_conf_idx  euribor3m  nr_employed\n",
              "y                                      ...                                       \n",
              "0     39.911185  220.844807  2.633085  ...     -40.593097   3.811491  5176.166600\n",
              "1     40.913147  553.191164  2.051724  ...     -39.789784   2.123135  5095.115991\n",
              "diff   1.001961  332.346357 -0.581361  ...       0.803312  -1.688356   -81.050609\n",
              "\n",
              "[3 rows x 10 columns]"
            ]
          },
          "metadata": {
            "tags": []
          },
          "execution_count": 80
        }
      ]
    },
    {
      "cell_type": "code",
      "metadata": {
        "colab": {
          "base_uri": "https://localhost:8080/",
          "height": 204
        },
        "id": "tF2ejRQCMjAN",
        "outputId": "6625f636-a7c9-447b-ff51-c0da9ed71dfa"
      },
      "source": [
        "# Use index vs reference (class=0) to make the difference more comparable across various features\r\n",
        "ysplit.loc['index'] = abs(100* ysplit.loc['diff'] / ysplit.loc[0])\r\n",
        "ysplit"
      ],
      "execution_count": null,
      "outputs": [
        {
          "output_type": "execute_result",
          "data": {
            "text/html": [
              "<div>\n",
              "<style scoped>\n",
              "    .dataframe tbody tr th:only-of-type {\n",
              "        vertical-align: middle;\n",
              "    }\n",
              "\n",
              "    .dataframe tbody tr th {\n",
              "        vertical-align: top;\n",
              "    }\n",
              "\n",
              "    .dataframe thead th {\n",
              "        text-align: right;\n",
              "    }\n",
              "</style>\n",
              "<table border=\"1\" class=\"dataframe\">\n",
              "  <thead>\n",
              "    <tr style=\"text-align: right;\">\n",
              "      <th></th>\n",
              "      <th>age</th>\n",
              "      <th>duration</th>\n",
              "      <th>campaign</th>\n",
              "      <th>pdays</th>\n",
              "      <th>previous</th>\n",
              "      <th>emp_var_rate</th>\n",
              "      <th>cons_price_idx</th>\n",
              "      <th>cons_conf_idx</th>\n",
              "      <th>euribor3m</th>\n",
              "      <th>nr_employed</th>\n",
              "    </tr>\n",
              "    <tr>\n",
              "      <th>y</th>\n",
              "      <th></th>\n",
              "      <th></th>\n",
              "      <th></th>\n",
              "      <th></th>\n",
              "      <th></th>\n",
              "      <th></th>\n",
              "      <th></th>\n",
              "      <th></th>\n",
              "      <th></th>\n",
              "      <th></th>\n",
              "    </tr>\n",
              "  </thead>\n",
              "  <tbody>\n",
              "    <tr>\n",
              "      <th>0</th>\n",
              "      <td>39.911185</td>\n",
              "      <td>220.844807</td>\n",
              "      <td>2.633085</td>\n",
              "      <td>984.113878</td>\n",
              "      <td>0.132374</td>\n",
              "      <td>0.248875</td>\n",
              "      <td>93.603757</td>\n",
              "      <td>-40.593097</td>\n",
              "      <td>3.811491</td>\n",
              "      <td>5176.166600</td>\n",
              "    </tr>\n",
              "    <tr>\n",
              "      <th>1</th>\n",
              "      <td>40.913147</td>\n",
              "      <td>553.191164</td>\n",
              "      <td>2.051724</td>\n",
              "      <td>792.035560</td>\n",
              "      <td>0.492672</td>\n",
              "      <td>-1.233448</td>\n",
              "      <td>93.354386</td>\n",
              "      <td>-39.789784</td>\n",
              "      <td>2.123135</td>\n",
              "      <td>5095.115991</td>\n",
              "    </tr>\n",
              "    <tr>\n",
              "      <th>diff</th>\n",
              "      <td>1.001961</td>\n",
              "      <td>332.346357</td>\n",
              "      <td>-0.581361</td>\n",
              "      <td>-192.078317</td>\n",
              "      <td>0.360299</td>\n",
              "      <td>-1.482324</td>\n",
              "      <td>-0.249371</td>\n",
              "      <td>0.803312</td>\n",
              "      <td>-1.688356</td>\n",
              "      <td>-81.050609</td>\n",
              "    </tr>\n",
              "    <tr>\n",
              "      <th>index</th>\n",
              "      <td>2.510477</td>\n",
              "      <td>150.488645</td>\n",
              "      <td>22.079085</td>\n",
              "      <td>19.517895</td>\n",
              "      <td>272.182542</td>\n",
              "      <td>595.608654</td>\n",
              "      <td>0.266411</td>\n",
              "      <td>1.978938</td>\n",
              "      <td>44.296470</td>\n",
              "      <td>1.565842</td>\n",
              "    </tr>\n",
              "  </tbody>\n",
              "</table>\n",
              "</div>"
            ],
            "text/plain": [
              "             age    duration   campaign  ...  cons_conf_idx  euribor3m  nr_employed\n",
              "y                                        ...                                       \n",
              "0      39.911185  220.844807   2.633085  ...     -40.593097   3.811491  5176.166600\n",
              "1      40.913147  553.191164   2.051724  ...     -39.789784   2.123135  5095.115991\n",
              "diff    1.001961  332.346357  -0.581361  ...       0.803312  -1.688356   -81.050609\n",
              "index   2.510477  150.488645  22.079085  ...       1.978938  44.296470     1.565842\n",
              "\n",
              "[4 rows x 10 columns]"
            ]
          },
          "metadata": {
            "tags": []
          },
          "execution_count": 81
        }
      ]
    },
    {
      "cell_type": "code",
      "metadata": {
        "colab": {
          "base_uri": "https://localhost:8080/",
          "height": 268
        },
        "id": "V0l_ejxpK16r",
        "outputId": "09cae357-b8ed-4bd8-ab29-f61e7d384456"
      },
      "source": [
        "# Visualize to check the biggest differences\r\n",
        "ysplit.loc['index'].plot(kind='barh')\r\n",
        "_= plt.vlines(x=100, ymin=0, ymax=len(ysplit.columns))"
      ],
      "execution_count": null,
      "outputs": [
        {
          "output_type": "display_data",
          "data": {
            "image/png": "[encoded data removed]",
            "text/plain": [
              "<Figure size 432x288 with 1 Axes>"
            ]
          },
          "metadata": {
            "tags": []
          }
        }
      ]
    },
    {
      "cell_type": "markdown",
      "metadata": {
        "id": "-X1VvXz7LU_b"
      },
      "source": [
        "**OBSERVATION**\n",
        "\n",
        "**There are three numerical features that make the most difference between the two classes (1= customers with term deposit, 0= customers without). These are:**\n",
        "* ```emp_var_rate``` (employment variation rate)\n",
        "* ```previous``` (number of previous contacts)\n",
        "* ```duration``` (duration of the last contact)"
      ]
    },
    {
      "cell_type": "markdown",
      "metadata": {
        "id": "EAnRy0CvLU_c"
      },
      "source": [
        "##### Analyse other variables - Make some plots and discuss them"
      ]
    },
    {
      "cell_type": "markdown",
      "metadata": {
        "id": "hPoBECggLU_c"
      },
      "source": [
        "- **Job title**"
      ]
    },
    {
      "cell_type": "code",
      "metadata": {
        "colab": {
          "base_uri": "https://localhost:8080/"
        },
        "id": "jdWH1iQDZneb",
        "outputId": "53b4eece-b2ff-4bbe-949d-655d994e5528"
      },
      "source": [
        "data.job.value_counts()"
      ],
      "execution_count": null,
      "outputs": [
        {
          "output_type": "execute_result",
          "data": {
            "text/plain": [
              "admin.           10422\n",
              "blue-collar       9254\n",
              "technician        6743\n",
              "services          3969\n",
              "management        2924\n",
              "retired           1720\n",
              "entrepreneur      1456\n",
              "self-employed     1421\n",
              "housemaid         1060\n",
              "unemployed        1014\n",
              "student            875\n",
              "unknown            330\n",
              "Name: job, dtype: int64"
            ]
          },
          "metadata": {
            "tags": []
          },
          "execution_count": 83
        }
      ]
    },
    {
      "cell_type": "code",
      "metadata": {
        "colab": {
          "base_uri": "https://localhost:8080/",
          "height": 369
        },
        "id": "-RHP9762RdlH",
        "outputId": "b6f6a137-2f32-4418-99ce-e81cd459607c"
      },
      "source": [
        "sns.countplot(data=data, x='job', hue='y', order=sorted(data.job.unique().tolist()))\r\n",
        "_= plt.title('Subscription by Job title')\r\n",
        "_= plt.ylabel('Frequency of Subscription')\r\n",
        "_= plt.xticks(rotation=90)"
      ],
      "execution_count": null,
      "outputs": [
        {
          "output_type": "display_data",
          "data": {
            "image/png": "[encoded data removed]",
            "text/plain": [
              "<Figure size 432x288 with 1 Axes>"
            ]
          },
          "metadata": {
            "tags": []
          }
        }
      ]
    },
    {
      "cell_type": "code",
      "metadata": {
        "colab": {
          "base_uri": "https://localhost:8080/",
          "height": 452
        },
        "id": "eFsLU6TeXL9T",
        "outputId": "503f51a9-8321-447e-ee7b-f3f995eaf7d4"
      },
      "source": [
        "by_job = pd.crosstab(data.job, data.y)\r\n",
        "by_job"
      ],
      "execution_count": null,
      "outputs": [
        {
          "output_type": "execute_result",
          "data": {
            "text/html": [
              "<div>\n",
              "<style scoped>\n",
              "    .dataframe tbody tr th:only-of-type {\n",
              "        vertical-align: middle;\n",
              "    }\n",
              "\n",
              "    .dataframe tbody tr th {\n",
              "        vertical-align: top;\n",
              "    }\n",
              "\n",
              "    .dataframe thead th {\n",
              "        text-align: right;\n",
              "    }\n",
              "</style>\n",
              "<table border=\"1\" class=\"dataframe\">\n",
              "  <thead>\n",
              "    <tr style=\"text-align: right;\">\n",
              "      <th>y</th>\n",
              "      <th>0</th>\n",
              "      <th>1</th>\n",
              "    </tr>\n",
              "    <tr>\n",
              "      <th>job</th>\n",
              "      <th></th>\n",
              "      <th></th>\n",
              "    </tr>\n",
              "  </thead>\n",
              "  <tbody>\n",
              "    <tr>\n",
              "      <th>admin.</th>\n",
              "      <td>9070</td>\n",
              "      <td>1352</td>\n",
              "    </tr>\n",
              "    <tr>\n",
              "      <th>blue-collar</th>\n",
              "      <td>8616</td>\n",
              "      <td>638</td>\n",
              "    </tr>\n",
              "    <tr>\n",
              "      <th>entrepreneur</th>\n",
              "      <td>1332</td>\n",
              "      <td>124</td>\n",
              "    </tr>\n",
              "    <tr>\n",
              "      <th>housemaid</th>\n",
              "      <td>954</td>\n",
              "      <td>106</td>\n",
              "    </tr>\n",
              "    <tr>\n",
              "      <th>management</th>\n",
              "      <td>2596</td>\n",
              "      <td>328</td>\n",
              "    </tr>\n",
              "    <tr>\n",
              "      <th>retired</th>\n",
              "      <td>1286</td>\n",
              "      <td>434</td>\n",
              "    </tr>\n",
              "    <tr>\n",
              "      <th>self-employed</th>\n",
              "      <td>1272</td>\n",
              "      <td>149</td>\n",
              "    </tr>\n",
              "    <tr>\n",
              "      <th>services</th>\n",
              "      <td>3646</td>\n",
              "      <td>323</td>\n",
              "    </tr>\n",
              "    <tr>\n",
              "      <th>student</th>\n",
              "      <td>600</td>\n",
              "      <td>275</td>\n",
              "    </tr>\n",
              "    <tr>\n",
              "      <th>technician</th>\n",
              "      <td>6013</td>\n",
              "      <td>730</td>\n",
              "    </tr>\n",
              "    <tr>\n",
              "      <th>unemployed</th>\n",
              "      <td>870</td>\n",
              "      <td>144</td>\n",
              "    </tr>\n",
              "    <tr>\n",
              "      <th>unknown</th>\n",
              "      <td>293</td>\n",
              "      <td>37</td>\n",
              "    </tr>\n",
              "  </tbody>\n",
              "</table>\n",
              "</div>"
            ],
            "text/plain": [
              "y                 0     1\n",
              "job                      \n",
              "admin.         9070  1352\n",
              "blue-collar    8616   638\n",
              "entrepreneur   1332   124\n",
              "housemaid       954   106\n",
              "management     2596   328\n",
              "retired        1286   434\n",
              "self-employed  1272   149\n",
              "services       3646   323\n",
              "student         600   275\n",
              "technician     6013   730\n",
              "unemployed      870   144\n",
              "unknown         293    37"
            ]
          },
          "metadata": {
            "tags": []
          },
          "execution_count": 85
        }
      ]
    },
    {
      "cell_type": "code",
      "metadata": {
        "colab": {
          "base_uri": "https://localhost:8080/",
          "height": 369
        },
        "id": "CanrPFANX9tD",
        "outputId": "b36baa66-0f4a-4c22-feda-f7ceb60c9342"
      },
      "source": [
        "by_job.div(by_job.sum(axis=1), axis=0).plot(kind='bar')\r\n",
        "_= plt.title('Subscription by Job title')\r\n",
        "_= plt.ylabel('% Subscription')"
      ],
      "execution_count": null,
      "outputs": [
        {
          "output_type": "display_data",
          "data": {
            "image/png": "[encoded data removed]",
            "text/plain": [
              "<Figure size 432x288 with 1 Axes>"
            ]
          },
          "metadata": {
            "tags": []
          }
        }
      ]
    },
    {
      "cell_type": "markdown",
      "metadata": {
        "id": "6tdEsmKELU_d"
      },
      "source": [
        "**OBSERVATION**\r\n",
        "\r\n",
        "**The proportion of customers who subscribe to term deposit is highest among students (a relatively smaller group) and retirees. Still, across most groups there isn't too big difference in the subscription rate.**"
      ]
    },
    {
      "cell_type": "markdown",
      "metadata": {
        "id": "LQTy4Oc7LU_d"
      },
      "source": [
        "- **Marital status**"
      ]
    },
    {
      "cell_type": "code",
      "metadata": {
        "colab": {
          "base_uri": "https://localhost:8080/"
        },
        "id": "leJy-n5iaN6H",
        "outputId": "7013b6bb-1ac7-419e-b10e-5e12ecbc52f5"
      },
      "source": [
        "data.marital.value_counts()"
      ],
      "execution_count": null,
      "outputs": [
        {
          "output_type": "execute_result",
          "data": {
            "text/plain": [
              "married     24928\n",
              "single      11568\n",
              "divorced     4612\n",
              "unknown        80\n",
              "Name: marital, dtype: int64"
            ]
          },
          "metadata": {
            "tags": []
          },
          "execution_count": 87
        }
      ]
    },
    {
      "cell_type": "code",
      "metadata": {
        "colab": {
          "base_uri": "https://localhost:8080/",
          "height": 204
        },
        "id": "G-k3jQ0Xac0y",
        "outputId": "7e5c5b3d-8691-4da4-a96a-6b2976881882"
      },
      "source": [
        "by_marital = pd.crosstab(data.marital, data.y)\r\n",
        "by_marital"
      ],
      "execution_count": null,
      "outputs": [
        {
          "output_type": "execute_result",
          "data": {
            "text/html": [
              "<div>\n",
              "<style scoped>\n",
              "    .dataframe tbody tr th:only-of-type {\n",
              "        vertical-align: middle;\n",
              "    }\n",
              "\n",
              "    .dataframe tbody tr th {\n",
              "        vertical-align: top;\n",
              "    }\n",
              "\n",
              "    .dataframe thead th {\n",
              "        text-align: right;\n",
              "    }\n",
              "</style>\n",
              "<table border=\"1\" class=\"dataframe\">\n",
              "  <thead>\n",
              "    <tr style=\"text-align: right;\">\n",
              "      <th>y</th>\n",
              "      <th>0</th>\n",
              "      <th>1</th>\n",
              "    </tr>\n",
              "    <tr>\n",
              "      <th>marital</th>\n",
              "      <th></th>\n",
              "      <th></th>\n",
              "    </tr>\n",
              "  </thead>\n",
              "  <tbody>\n",
              "    <tr>\n",
              "      <th>divorced</th>\n",
              "      <td>4136</td>\n",
              "      <td>476</td>\n",
              "    </tr>\n",
              "    <tr>\n",
              "      <th>married</th>\n",
              "      <td>22396</td>\n",
              "      <td>2532</td>\n",
              "    </tr>\n",
              "    <tr>\n",
              "      <th>single</th>\n",
              "      <td>9948</td>\n",
              "      <td>1620</td>\n",
              "    </tr>\n",
              "    <tr>\n",
              "      <th>unknown</th>\n",
              "      <td>68</td>\n",
              "      <td>12</td>\n",
              "    </tr>\n",
              "  </tbody>\n",
              "</table>\n",
              "</div>"
            ],
            "text/plain": [
              "y             0     1\n",
              "marital              \n",
              "divorced   4136   476\n",
              "married   22396  2532\n",
              "single     9948  1620\n",
              "unknown      68    12"
            ]
          },
          "metadata": {
            "tags": []
          },
          "execution_count": 88
        }
      ]
    },
    {
      "cell_type": "code",
      "metadata": {
        "colab": {
          "base_uri": "https://localhost:8080/",
          "height": 341
        },
        "id": "zJskgGRVaSDn",
        "outputId": "b4111b8d-5a7c-489b-f39f-fd27f2c9eed6"
      },
      "source": [
        "by_marital.div(by_marital.sum(axis=1), axis=0).plot(kind='bar')\r\n",
        "_= plt.title('Subscription by Marital Status')\r\n",
        "_= plt.ylabel('% Subscription')"
      ],
      "execution_count": null,
      "outputs": [
        {
          "output_type": "display_data",
          "data": {
            "image/png": "[encoded data removed]",
            "text/plain": [
              "<Figure size 432x288 with 1 Axes>"
            ]
          },
          "metadata": {
            "tags": []
          }
        }
      ]
    },
    {
      "cell_type": "markdown",
      "metadata": {
        "id": "giant_HZLU_d"
      },
      "source": [
        "**OBSERVATION**\r\n",
        "\r\n",
        "**The proportion of customers who subscribe to term deposit doesn't vary that much across different categories of marital status.**"
      ]
    },
    {
      "cell_type": "markdown",
      "metadata": {
        "id": "KVqKM9E4LU_e"
      },
      "source": [
        "- **Education**"
      ]
    },
    {
      "cell_type": "code",
      "metadata": {
        "colab": {
          "base_uri": "https://localhost:8080/"
        },
        "id": "Pnjyi2Pua16x",
        "outputId": "45db5103-5303-410a-e3f7-811b91672c38"
      },
      "source": [
        "data.education.value_counts()"
      ],
      "execution_count": null,
      "outputs": [
        {
          "output_type": "execute_result",
          "data": {
            "text/plain": [
              "basic                  12513\n",
              "university.degree      12168\n",
              "high.school             9515\n",
              "professional.course     5243\n",
              "unknown                 1731\n",
              "illiterate                18\n",
              "Name: education, dtype: int64"
            ]
          },
          "metadata": {
            "tags": []
          },
          "execution_count": 90
        }
      ]
    },
    {
      "cell_type": "code",
      "metadata": {
        "colab": {
          "base_uri": "https://localhost:8080/",
          "height": 266
        },
        "id": "HCSBwmYXa50X",
        "outputId": "66770aee-4524-4c53-f266-1a4530f038f0"
      },
      "source": [
        "by_educ = pd.crosstab(data.education, data.y)\r\n",
        "by_educ"
      ],
      "execution_count": null,
      "outputs": [
        {
          "output_type": "execute_result",
          "data": {
            "text/html": [
              "<div>\n",
              "<style scoped>\n",
              "    .dataframe tbody tr th:only-of-type {\n",
              "        vertical-align: middle;\n",
              "    }\n",
              "\n",
              "    .dataframe tbody tr th {\n",
              "        vertical-align: top;\n",
              "    }\n",
              "\n",
              "    .dataframe thead th {\n",
              "        text-align: right;\n",
              "    }\n",
              "</style>\n",
              "<table border=\"1\" class=\"dataframe\">\n",
              "  <thead>\n",
              "    <tr style=\"text-align: right;\">\n",
              "      <th>y</th>\n",
              "      <th>0</th>\n",
              "      <th>1</th>\n",
              "    </tr>\n",
              "    <tr>\n",
              "      <th>education</th>\n",
              "      <th></th>\n",
              "      <th></th>\n",
              "    </tr>\n",
              "  </thead>\n",
              "  <tbody>\n",
              "    <tr>\n",
              "      <th>basic</th>\n",
              "      <td>11424</td>\n",
              "      <td>1089</td>\n",
              "    </tr>\n",
              "    <tr>\n",
              "      <th>high.school</th>\n",
              "      <td>8484</td>\n",
              "      <td>1031</td>\n",
              "    </tr>\n",
              "    <tr>\n",
              "      <th>illiterate</th>\n",
              "      <td>14</td>\n",
              "      <td>4</td>\n",
              "    </tr>\n",
              "    <tr>\n",
              "      <th>professional.course</th>\n",
              "      <td>4648</td>\n",
              "      <td>595</td>\n",
              "    </tr>\n",
              "    <tr>\n",
              "      <th>university.degree</th>\n",
              "      <td>10498</td>\n",
              "      <td>1670</td>\n",
              "    </tr>\n",
              "    <tr>\n",
              "      <th>unknown</th>\n",
              "      <td>1480</td>\n",
              "      <td>251</td>\n",
              "    </tr>\n",
              "  </tbody>\n",
              "</table>\n",
              "</div>"
            ],
            "text/plain": [
              "y                        0     1\n",
              "education                       \n",
              "basic                11424  1089\n",
              "high.school           8484  1031\n",
              "illiterate              14     4\n",
              "professional.course   4648   595\n",
              "university.degree    10498  1670\n",
              "unknown               1480   251"
            ]
          },
          "metadata": {
            "tags": []
          },
          "execution_count": 91
        }
      ]
    },
    {
      "cell_type": "code",
      "metadata": {
        "colab": {
          "base_uri": "https://localhost:8080/",
          "height": 398
        },
        "id": "c4-614y2bAsS",
        "outputId": "1cdec1e1-153a-4392-d45f-57d8fa88f227"
      },
      "source": [
        "by_educ.div(by_educ.sum(axis=1), axis=0).plot(kind='bar')\r\n",
        "_= plt.title('Subscription by Education')\r\n",
        "_= plt.ylabel('% Subscription')"
      ],
      "execution_count": null,
      "outputs": [
        {
          "output_type": "display_data",
          "data": {
            "image/png": "[encoded data removed]",
            "text/plain": [
              "<Figure size 432x288 with 1 Axes>"
            ]
          },
          "metadata": {
            "tags": []
          }
        }
      ]
    },
    {
      "cell_type": "markdown",
      "metadata": {
        "id": "ff_FIEFOLU_e"
      },
      "source": [
        "**OBSERVATION**\r\n",
        "\r\n",
        "**The proportion of customers who subscribe to term deposit doesn't vary hugely across different levels of education, if a little higher among illiterates (this is rather counter-intuitive).**"
      ]
    },
    {
      "cell_type": "markdown",
      "metadata": {
        "id": "FerTcHjzLU_e"
      },
      "source": [
        "- **Day of Week**"
      ]
    },
    {
      "cell_type": "code",
      "metadata": {
        "colab": {
          "base_uri": "https://localhost:8080/"
        },
        "id": "08CtdsoPbk4Y",
        "outputId": "89b35e77-c7fa-4573-ed67-9d93f22407b1"
      },
      "source": [
        "data.day_of_week.value_counts()"
      ],
      "execution_count": null,
      "outputs": [
        {
          "output_type": "execute_result",
          "data": {
            "text/plain": [
              "thu    8623\n",
              "mon    8514\n",
              "wed    8134\n",
              "tue    8090\n",
              "fri    7827\n",
              "Name: day_of_week, dtype: int64"
            ]
          },
          "metadata": {
            "tags": []
          },
          "execution_count": 93
        }
      ]
    },
    {
      "cell_type": "code",
      "metadata": {
        "colab": {
          "base_uri": "https://localhost:8080/",
          "height": 235
        },
        "id": "tdQ8LStEbvnq",
        "outputId": "69d30816-7c5b-4758-ec21-5c33e22ab09c"
      },
      "source": [
        "by_day = pd.crosstab(data.day_of_week, data.y)\r\n",
        "by_day"
      ],
      "execution_count": null,
      "outputs": [
        {
          "output_type": "execute_result",
          "data": {
            "text/html": [
              "<div>\n",
              "<style scoped>\n",
              "    .dataframe tbody tr th:only-of-type {\n",
              "        vertical-align: middle;\n",
              "    }\n",
              "\n",
              "    .dataframe tbody tr th {\n",
              "        vertical-align: top;\n",
              "    }\n",
              "\n",
              "    .dataframe thead th {\n",
              "        text-align: right;\n",
              "    }\n",
              "</style>\n",
              "<table border=\"1\" class=\"dataframe\">\n",
              "  <thead>\n",
              "    <tr style=\"text-align: right;\">\n",
              "      <th>y</th>\n",
              "      <th>0</th>\n",
              "      <th>1</th>\n",
              "    </tr>\n",
              "    <tr>\n",
              "      <th>day_of_week</th>\n",
              "      <th></th>\n",
              "      <th></th>\n",
              "    </tr>\n",
              "  </thead>\n",
              "  <tbody>\n",
              "    <tr>\n",
              "      <th>fri</th>\n",
              "      <td>6981</td>\n",
              "      <td>846</td>\n",
              "    </tr>\n",
              "    <tr>\n",
              "      <th>mon</th>\n",
              "      <td>7667</td>\n",
              "      <td>847</td>\n",
              "    </tr>\n",
              "    <tr>\n",
              "      <th>thu</th>\n",
              "      <td>7578</td>\n",
              "      <td>1045</td>\n",
              "    </tr>\n",
              "    <tr>\n",
              "      <th>tue</th>\n",
              "      <td>7137</td>\n",
              "      <td>953</td>\n",
              "    </tr>\n",
              "    <tr>\n",
              "      <th>wed</th>\n",
              "      <td>7185</td>\n",
              "      <td>949</td>\n",
              "    </tr>\n",
              "  </tbody>\n",
              "</table>\n",
              "</div>"
            ],
            "text/plain": [
              "y               0     1\n",
              "day_of_week            \n",
              "fri          6981   846\n",
              "mon          7667   847\n",
              "thu          7578  1045\n",
              "tue          7137   953\n",
              "wed          7185   949"
            ]
          },
          "metadata": {
            "tags": []
          },
          "execution_count": 94
        }
      ]
    },
    {
      "cell_type": "code",
      "metadata": {
        "colab": {
          "base_uri": "https://localhost:8080/",
          "height": 315
        },
        "id": "TWHwSCJYb48s",
        "outputId": "d7b00229-66c5-43cf-b6fc-92813e00d3a7"
      },
      "source": [
        "by_day.div(by_day.sum(axis=1), axis=0).plot(kind='bar')\r\n",
        "_= plt.title('Subscription by Day of Last Contact')\r\n",
        "_= plt.ylabel('% Subscription')"
      ],
      "execution_count": null,
      "outputs": [
        {
          "output_type": "display_data",
          "data": {
            "image/png": "[encoded data removed]",
            "text/plain": [
              "<Figure size 432x288 with 1 Axes>"
            ]
          },
          "metadata": {
            "tags": []
          }
        }
      ]
    },
    {
      "cell_type": "markdown",
      "metadata": {
        "id": "4ka5wZrwLU_f"
      },
      "source": [
        "**OBSERVATION**\r\n",
        "\r\n",
        "**The day of last contact doesn't have any bearing to proportion of customers who subscribe to term deposit.**"
      ]
    },
    {
      "cell_type": "markdown",
      "metadata": {
        "id": "JPtwRD0gLU_f"
      },
      "source": [
        "- **Month**"
      ]
    },
    {
      "cell_type": "code",
      "metadata": {
        "colab": {
          "base_uri": "https://localhost:8080/",
          "height": 390
        },
        "id": "hx3Ac3hMcRYw",
        "outputId": "946048c4-e905-45c8-b97e-21c029370344"
      },
      "source": [
        "by_month = pd.crosstab(data.month, data.y)\r\n",
        "by_month"
      ],
      "execution_count": null,
      "outputs": [
        {
          "output_type": "execute_result",
          "data": {
            "text/html": [
              "<div>\n",
              "<style scoped>\n",
              "    .dataframe tbody tr th:only-of-type {\n",
              "        vertical-align: middle;\n",
              "    }\n",
              "\n",
              "    .dataframe tbody tr th {\n",
              "        vertical-align: top;\n",
              "    }\n",
              "\n",
              "    .dataframe thead th {\n",
              "        text-align: right;\n",
              "    }\n",
              "</style>\n",
              "<table border=\"1\" class=\"dataframe\">\n",
              "  <thead>\n",
              "    <tr style=\"text-align: right;\">\n",
              "      <th>y</th>\n",
              "      <th>0</th>\n",
              "      <th>1</th>\n",
              "    </tr>\n",
              "    <tr>\n",
              "      <th>month</th>\n",
              "      <th></th>\n",
              "      <th></th>\n",
              "    </tr>\n",
              "  </thead>\n",
              "  <tbody>\n",
              "    <tr>\n",
              "      <th>apr</th>\n",
              "      <td>2093</td>\n",
              "      <td>539</td>\n",
              "    </tr>\n",
              "    <tr>\n",
              "      <th>aug</th>\n",
              "      <td>5523</td>\n",
              "      <td>655</td>\n",
              "    </tr>\n",
              "    <tr>\n",
              "      <th>dec</th>\n",
              "      <td>93</td>\n",
              "      <td>89</td>\n",
              "    </tr>\n",
              "    <tr>\n",
              "      <th>jul</th>\n",
              "      <td>6525</td>\n",
              "      <td>649</td>\n",
              "    </tr>\n",
              "    <tr>\n",
              "      <th>jun</th>\n",
              "      <td>4759</td>\n",
              "      <td>559</td>\n",
              "    </tr>\n",
              "    <tr>\n",
              "      <th>mar</th>\n",
              "      <td>270</td>\n",
              "      <td>276</td>\n",
              "    </tr>\n",
              "    <tr>\n",
              "      <th>may</th>\n",
              "      <td>12883</td>\n",
              "      <td>886</td>\n",
              "    </tr>\n",
              "    <tr>\n",
              "      <th>nov</th>\n",
              "      <td>3685</td>\n",
              "      <td>416</td>\n",
              "    </tr>\n",
              "    <tr>\n",
              "      <th>oct</th>\n",
              "      <td>403</td>\n",
              "      <td>315</td>\n",
              "    </tr>\n",
              "    <tr>\n",
              "      <th>sep</th>\n",
              "      <td>314</td>\n",
              "      <td>256</td>\n",
              "    </tr>\n",
              "  </tbody>\n",
              "</table>\n",
              "</div>"
            ],
            "text/plain": [
              "y          0    1\n",
              "month            \n",
              "apr     2093  539\n",
              "aug     5523  655\n",
              "dec       93   89\n",
              "jul     6525  649\n",
              "jun     4759  559\n",
              "mar      270  276\n",
              "may    12883  886\n",
              "nov     3685  416\n",
              "oct      403  315\n",
              "sep      314  256"
            ]
          },
          "metadata": {
            "tags": []
          },
          "execution_count": 96
        }
      ]
    },
    {
      "cell_type": "code",
      "metadata": {
        "colab": {
          "base_uri": "https://localhost:8080/",
          "height": 315
        },
        "id": "JWkSq80PcZNE",
        "outputId": "ec0309a8-dddf-4dc9-be34-4890a9dabf9c"
      },
      "source": [
        "by_month.div(by_month.sum(axis=1), axis=0).plot(kind='bar')\r\n",
        "_= plt.title('Subscription by Month of Last Contact')\r\n",
        "_= plt.ylabel('% Subscription')"
      ],
      "execution_count": null,
      "outputs": [
        {
          "output_type": "display_data",
          "data": {
            "image/png": "[encoded data removed]",
            "text/plain": [
              "<Figure size 432x288 with 1 Axes>"
            ]
          },
          "metadata": {
            "tags": []
          }
        }
      ]
    },
    {
      "cell_type": "markdown",
      "metadata": {
        "id": "tiE35FEVLU_f"
      },
      "source": [
        "**OBSERVATION**\r\n",
        "\r\n",
        "**There is *some* variation of subscription rate across different months of the year, but there isn't an obvious pattern through the year (subscriptions are highests in Mar, Sep, Oct, Dec)**"
      ]
    },
    {
      "cell_type": "markdown",
      "metadata": {
        "id": "MkYKh1AtLU_g"
      },
      "source": [
        "- **poutcome**"
      ]
    },
    {
      "cell_type": "code",
      "metadata": {
        "colab": {
          "base_uri": "https://localhost:8080/",
          "height": 173
        },
        "id": "j4v8wdNMc4oO",
        "outputId": "aaceb50d-4d90-4156-eb87-b2e851fb9fb8"
      },
      "source": [
        "by_prev = pd.crosstab(data.poutcome, data.y)\r\n",
        "by_prev"
      ],
      "execution_count": null,
      "outputs": [
        {
          "output_type": "execute_result",
          "data": {
            "text/html": [
              "<div>\n",
              "<style scoped>\n",
              "    .dataframe tbody tr th:only-of-type {\n",
              "        vertical-align: middle;\n",
              "    }\n",
              "\n",
              "    .dataframe tbody tr th {\n",
              "        vertical-align: top;\n",
              "    }\n",
              "\n",
              "    .dataframe thead th {\n",
              "        text-align: right;\n",
              "    }\n",
              "</style>\n",
              "<table border=\"1\" class=\"dataframe\">\n",
              "  <thead>\n",
              "    <tr style=\"text-align: right;\">\n",
              "      <th>y</th>\n",
              "      <th>0</th>\n",
              "      <th>1</th>\n",
              "    </tr>\n",
              "    <tr>\n",
              "      <th>poutcome</th>\n",
              "      <th></th>\n",
              "      <th></th>\n",
              "    </tr>\n",
              "  </thead>\n",
              "  <tbody>\n",
              "    <tr>\n",
              "      <th>failure</th>\n",
              "      <td>3647</td>\n",
              "      <td>605</td>\n",
              "    </tr>\n",
              "    <tr>\n",
              "      <th>nonexistent</th>\n",
              "      <td>32422</td>\n",
              "      <td>3141</td>\n",
              "    </tr>\n",
              "    <tr>\n",
              "      <th>success</th>\n",
              "      <td>479</td>\n",
              "      <td>894</td>\n",
              "    </tr>\n",
              "  </tbody>\n",
              "</table>\n",
              "</div>"
            ],
            "text/plain": [
              "y                0     1\n",
              "poutcome                \n",
              "failure       3647   605\n",
              "nonexistent  32422  3141\n",
              "success        479   894"
            ]
          },
          "metadata": {
            "tags": []
          },
          "execution_count": 98
        }
      ]
    },
    {
      "cell_type": "code",
      "metadata": {
        "colab": {
          "base_uri": "https://localhost:8080/",
          "height": 356
        },
        "id": "RMmfHTv8dBsu",
        "outputId": "1ff8436e-c735-4fba-c55e-854b1cb048ac"
      },
      "source": [
        "by_prev.div(by_prev.sum(axis=1), axis=0).plot(kind='bar')\r\n",
        "_= plt.title('Subscription by Outcome of Previous Campaign')\r\n",
        "_= plt.ylabel('% Subscription')"
      ],
      "execution_count": null,
      "outputs": [
        {
          "output_type": "display_data",
          "data": {
            "image/png": "[encoded data removed]",
            "text/plain": [
              "<Figure size 432x288 with 1 Axes>"
            ]
          },
          "metadata": {
            "tags": []
          }
        }
      ]
    },
    {
      "cell_type": "markdown",
      "metadata": {
        "id": "kMBQWpvQLU_g"
      },
      "source": [
        "**OBSERVATION**\r\n",
        "\r\n",
        "**There is a clear association between the outcome of the last campaign and  term deposit subscription: if the last campaign was succesful, customers are more likely to sign up for term deposit.**\r\n",
        "\r\n",
        "**It is worth including the** \r\n",
        "```outcome of the last campaign``` **as a feature in the model.**"
      ]
    },
    {
      "cell_type": "markdown",
      "metadata": {
        "id": "amfENYJPLU_g"
      },
      "source": [
        "### Create dummy variables"
      ]
    },
    {
      "cell_type": "code",
      "metadata": {
        "colab": {
          "base_uri": "https://localhost:8080/",
          "height": 204
        },
        "id": "niyHfu-7_5Eo",
        "outputId": "3158e9bb-3149-4f53-8d6f-990cf8239959"
      },
      "source": [
        "# Isolate the variable to be converted to dummies (poutcome)\r\n",
        "poutcome = data.poutcome\r\n",
        "poutcome = pd.get_dummies(poutcome, prefix='poutcome', drop_first=False)\r\n",
        "poutcome.head()"
      ],
      "execution_count": null,
      "outputs": [
        {
          "output_type": "execute_result",
          "data": {
            "text/html": [
              "<div>\n",
              "<style scoped>\n",
              "    .dataframe tbody tr th:only-of-type {\n",
              "        vertical-align: middle;\n",
              "    }\n",
              "\n",
              "    .dataframe tbody tr th {\n",
              "        vertical-align: top;\n",
              "    }\n",
              "\n",
              "    .dataframe thead th {\n",
              "        text-align: right;\n",
              "    }\n",
              "</style>\n",
              "<table border=\"1\" class=\"dataframe\">\n",
              "  <thead>\n",
              "    <tr style=\"text-align: right;\">\n",
              "      <th></th>\n",
              "      <th>poutcome_failure</th>\n",
              "      <th>poutcome_nonexistent</th>\n",
              "      <th>poutcome_success</th>\n",
              "    </tr>\n",
              "  </thead>\n",
              "  <tbody>\n",
              "    <tr>\n",
              "      <th>0</th>\n",
              "      <td>0</td>\n",
              "      <td>1</td>\n",
              "      <td>0</td>\n",
              "    </tr>\n",
              "    <tr>\n",
              "      <th>1</th>\n",
              "      <td>0</td>\n",
              "      <td>1</td>\n",
              "      <td>0</td>\n",
              "    </tr>\n",
              "    <tr>\n",
              "      <th>2</th>\n",
              "      <td>0</td>\n",
              "      <td>0</td>\n",
              "      <td>1</td>\n",
              "    </tr>\n",
              "    <tr>\n",
              "      <th>3</th>\n",
              "      <td>0</td>\n",
              "      <td>1</td>\n",
              "      <td>0</td>\n",
              "    </tr>\n",
              "    <tr>\n",
              "      <th>4</th>\n",
              "      <td>0</td>\n",
              "      <td>0</td>\n",
              "      <td>1</td>\n",
              "    </tr>\n",
              "  </tbody>\n",
              "</table>\n",
              "</div>"
            ],
            "text/plain": [
              "   poutcome_failure  poutcome_nonexistent  poutcome_success\n",
              "0                 0                     1                 0\n",
              "1                 0                     1                 0\n",
              "2                 0                     0                 1\n",
              "3                 0                     1                 0\n",
              "4                 0                     0                 1"
            ]
          },
          "metadata": {
            "tags": []
          },
          "execution_count": 100
        }
      ]
    },
    {
      "cell_type": "code",
      "metadata": {
        "colab": {
          "base_uri": "https://localhost:8080/",
          "height": 224
        },
        "id": "QE8R1RqiA1Mb",
        "outputId": "969ad6b5-6b46-4863-dcaf-082193cf4a61"
      },
      "source": [
        "# Join the data frames\r\n",
        "data = pd.concat([data, poutcome], axis=1)\r\n",
        "data.head()"
      ],
      "execution_count": null,
      "outputs": [
        {
          "output_type": "execute_result",
          "data": {
            "text/html": [
              "<div>\n",
              "<style scoped>\n",
              "    .dataframe tbody tr th:only-of-type {\n",
              "        vertical-align: middle;\n",
              "    }\n",
              "\n",
              "    .dataframe tbody tr th {\n",
              "        vertical-align: top;\n",
              "    }\n",
              "\n",
              "    .dataframe thead th {\n",
              "        text-align: right;\n",
              "    }\n",
              "</style>\n",
              "<table border=\"1\" class=\"dataframe\">\n",
              "  <thead>\n",
              "    <tr style=\"text-align: right;\">\n",
              "      <th></th>\n",
              "      <th>age</th>\n",
              "      <th>job</th>\n",
              "      <th>marital</th>\n",
              "      <th>education</th>\n",
              "      <th>default</th>\n",
              "      <th>housing</th>\n",
              "      <th>loan</th>\n",
              "      <th>contact</th>\n",
              "      <th>month</th>\n",
              "      <th>day_of_week</th>\n",
              "      <th>duration</th>\n",
              "      <th>campaign</th>\n",
              "      <th>pdays</th>\n",
              "      <th>previous</th>\n",
              "      <th>poutcome</th>\n",
              "      <th>emp_var_rate</th>\n",
              "      <th>cons_price_idx</th>\n",
              "      <th>cons_conf_idx</th>\n",
              "      <th>euribor3m</th>\n",
              "      <th>nr_employed</th>\n",
              "      <th>y</th>\n",
              "      <th>poutcome_failure</th>\n",
              "      <th>poutcome_nonexistent</th>\n",
              "      <th>poutcome_success</th>\n",
              "    </tr>\n",
              "  </thead>\n",
              "  <tbody>\n",
              "    <tr>\n",
              "      <th>0</th>\n",
              "      <td>44</td>\n",
              "      <td>blue-collar</td>\n",
              "      <td>married</td>\n",
              "      <td>basic</td>\n",
              "      <td>unknown</td>\n",
              "      <td>yes</td>\n",
              "      <td>no</td>\n",
              "      <td>cellular</td>\n",
              "      <td>aug</td>\n",
              "      <td>thu</td>\n",
              "      <td>210</td>\n",
              "      <td>1</td>\n",
              "      <td>999</td>\n",
              "      <td>0</td>\n",
              "      <td>nonexistent</td>\n",
              "      <td>1.4</td>\n",
              "      <td>93.444</td>\n",
              "      <td>-36.1</td>\n",
              "      <td>4.963</td>\n",
              "      <td>5228.1</td>\n",
              "      <td>0</td>\n",
              "      <td>0</td>\n",
              "      <td>1</td>\n",
              "      <td>0</td>\n",
              "    </tr>\n",
              "    <tr>\n",
              "      <th>1</th>\n",
              "      <td>53</td>\n",
              "      <td>technician</td>\n",
              "      <td>married</td>\n",
              "      <td>unknown</td>\n",
              "      <td>no</td>\n",
              "      <td>no</td>\n",
              "      <td>no</td>\n",
              "      <td>cellular</td>\n",
              "      <td>nov</td>\n",
              "      <td>fri</td>\n",
              "      <td>138</td>\n",
              "      <td>1</td>\n",
              "      <td>999</td>\n",
              "      <td>0</td>\n",
              "      <td>nonexistent</td>\n",
              "      <td>-0.1</td>\n",
              "      <td>93.200</td>\n",
              "      <td>-42.0</td>\n",
              "      <td>4.021</td>\n",
              "      <td>5195.8</td>\n",
              "      <td>0</td>\n",
              "      <td>0</td>\n",
              "      <td>1</td>\n",
              "      <td>0</td>\n",
              "    </tr>\n",
              "    <tr>\n",
              "      <th>2</th>\n",
              "      <td>28</td>\n",
              "      <td>management</td>\n",
              "      <td>single</td>\n",
              "      <td>university.degree</td>\n",
              "      <td>no</td>\n",
              "      <td>yes</td>\n",
              "      <td>no</td>\n",
              "      <td>cellular</td>\n",
              "      <td>jun</td>\n",
              "      <td>thu</td>\n",
              "      <td>339</td>\n",
              "      <td>3</td>\n",
              "      <td>6</td>\n",
              "      <td>2</td>\n",
              "      <td>success</td>\n",
              "      <td>-1.7</td>\n",
              "      <td>94.055</td>\n",
              "      <td>-39.8</td>\n",
              "      <td>0.729</td>\n",
              "      <td>4991.6</td>\n",
              "      <td>1</td>\n",
              "      <td>0</td>\n",
              "      <td>0</td>\n",
              "      <td>1</td>\n",
              "    </tr>\n",
              "    <tr>\n",
              "      <th>3</th>\n",
              "      <td>39</td>\n",
              "      <td>services</td>\n",
              "      <td>married</td>\n",
              "      <td>high.school</td>\n",
              "      <td>no</td>\n",
              "      <td>no</td>\n",
              "      <td>no</td>\n",
              "      <td>cellular</td>\n",
              "      <td>apr</td>\n",
              "      <td>fri</td>\n",
              "      <td>185</td>\n",
              "      <td>2</td>\n",
              "      <td>999</td>\n",
              "      <td>0</td>\n",
              "      <td>nonexistent</td>\n",
              "      <td>-1.8</td>\n",
              "      <td>93.075</td>\n",
              "      <td>-47.1</td>\n",
              "      <td>1.405</td>\n",
              "      <td>5099.1</td>\n",
              "      <td>0</td>\n",
              "      <td>0</td>\n",
              "      <td>1</td>\n",
              "      <td>0</td>\n",
              "    </tr>\n",
              "    <tr>\n",
              "      <th>4</th>\n",
              "      <td>55</td>\n",
              "      <td>retired</td>\n",
              "      <td>married</td>\n",
              "      <td>basic</td>\n",
              "      <td>no</td>\n",
              "      <td>yes</td>\n",
              "      <td>no</td>\n",
              "      <td>cellular</td>\n",
              "      <td>aug</td>\n",
              "      <td>fri</td>\n",
              "      <td>137</td>\n",
              "      <td>1</td>\n",
              "      <td>3</td>\n",
              "      <td>1</td>\n",
              "      <td>success</td>\n",
              "      <td>-2.9</td>\n",
              "      <td>92.201</td>\n",
              "      <td>-31.4</td>\n",
              "      <td>0.869</td>\n",
              "      <td>5076.2</td>\n",
              "      <td>1</td>\n",
              "      <td>0</td>\n",
              "      <td>0</td>\n",
              "      <td>1</td>\n",
              "    </tr>\n",
              "  </tbody>\n",
              "</table>\n",
              "</div>"
            ],
            "text/plain": [
              "   age          job  ... poutcome_nonexistent poutcome_success\n",
              "0   44  blue-collar  ...                    1                0\n",
              "1   53   technician  ...                    1                0\n",
              "2   28   management  ...                    0                1\n",
              "3   39     services  ...                    1                0\n",
              "4   55      retired  ...                    0                1\n",
              "\n",
              "[5 rows x 24 columns]"
            ]
          },
          "metadata": {
            "tags": []
          },
          "execution_count": 101
        }
      ]
    },
    {
      "cell_type": "markdown",
      "metadata": {
        "id": "dJEn6OPkLU_h"
      },
      "source": [
        "### Implement the Logistic Regression Model"
      ]
    },
    {
      "cell_type": "markdown",
      "metadata": {
        "id": "LR9CdWKPLU_h"
      },
      "source": [
        "##### Prepare the dataset for training"
      ]
    },
    {
      "cell_type": "markdown",
      "metadata": {
        "id": "WHpN4BQ0CQ01"
      },
      "source": [
        "**NOTES**\r\n",
        "\r\n",
        "**Chosen features:** \r\n",
        "* ```emp_var_rate``` (employment variation rate)\r\n",
        "* ```previous``` (number of previous contacts)\r\n",
        "* ```duration``` (duration of the last contact)\r\n",
        "* ```poutcome_nonexistent``` (dummy; outcome of previous campaign)\r\n",
        "* ```poutcome_success``` (dummy; outcome of previous campaign)\r\n",
        "\r\n",
        "**The first dummy variable** ```poutcome_failure``` **is not included, so we use (k-1) dummy features to avoid redundancy.**"
      ]
    },
    {
      "cell_type": "code",
      "metadata": {
        "colab": {
          "base_uri": "https://localhost:8080/",
          "height": 204
        },
        "id": "fy7-Sg_eWRIL",
        "outputId": "0edcf50a-da0e-47b3-ef89-d37b7d4a26d5"
      },
      "source": [
        "# Final dataset\r\n",
        "data_final = data[['emp_var_rate', 'previous', 'duration', 'poutcome_nonexistent', 'poutcome_nonexistent', 'y']]\r\n",
        "data_final.head()"
      ],
      "execution_count": null,
      "outputs": [
        {
          "output_type": "execute_result",
          "data": {
            "text/html": [
              "<div>\n",
              "<style scoped>\n",
              "    .dataframe tbody tr th:only-of-type {\n",
              "        vertical-align: middle;\n",
              "    }\n",
              "\n",
              "    .dataframe tbody tr th {\n",
              "        vertical-align: top;\n",
              "    }\n",
              "\n",
              "    .dataframe thead th {\n",
              "        text-align: right;\n",
              "    }\n",
              "</style>\n",
              "<table border=\"1\" class=\"dataframe\">\n",
              "  <thead>\n",
              "    <tr style=\"text-align: right;\">\n",
              "      <th></th>\n",
              "      <th>emp_var_rate</th>\n",
              "      <th>previous</th>\n",
              "      <th>duration</th>\n",
              "      <th>poutcome_nonexistent</th>\n",
              "      <th>poutcome_nonexistent</th>\n",
              "      <th>y</th>\n",
              "    </tr>\n",
              "  </thead>\n",
              "  <tbody>\n",
              "    <tr>\n",
              "      <th>0</th>\n",
              "      <td>1.4</td>\n",
              "      <td>0</td>\n",
              "      <td>210</td>\n",
              "      <td>1</td>\n",
              "      <td>1</td>\n",
              "      <td>0</td>\n",
              "    </tr>\n",
              "    <tr>\n",
              "      <th>1</th>\n",
              "      <td>-0.1</td>\n",
              "      <td>0</td>\n",
              "      <td>138</td>\n",
              "      <td>1</td>\n",
              "      <td>1</td>\n",
              "      <td>0</td>\n",
              "    </tr>\n",
              "    <tr>\n",
              "      <th>2</th>\n",
              "      <td>-1.7</td>\n",
              "      <td>2</td>\n",
              "      <td>339</td>\n",
              "      <td>0</td>\n",
              "      <td>0</td>\n",
              "      <td>1</td>\n",
              "    </tr>\n",
              "    <tr>\n",
              "      <th>3</th>\n",
              "      <td>-1.8</td>\n",
              "      <td>0</td>\n",
              "      <td>185</td>\n",
              "      <td>1</td>\n",
              "      <td>1</td>\n",
              "      <td>0</td>\n",
              "    </tr>\n",
              "    <tr>\n",
              "      <th>4</th>\n",
              "      <td>-2.9</td>\n",
              "      <td>1</td>\n",
              "      <td>137</td>\n",
              "      <td>0</td>\n",
              "      <td>0</td>\n",
              "      <td>1</td>\n",
              "    </tr>\n",
              "  </tbody>\n",
              "</table>\n",
              "</div>"
            ],
            "text/plain": [
              "   emp_var_rate  previous  ...  poutcome_nonexistent  y\n",
              "0           1.4         0  ...                     1  0\n",
              "1          -0.1         0  ...                     1  0\n",
              "2          -1.7         2  ...                     0  1\n",
              "3          -1.8         0  ...                     1  0\n",
              "4          -2.9         1  ...                     0  1\n",
              "\n",
              "[5 rows x 6 columns]"
            ]
          },
          "metadata": {
            "tags": []
          },
          "execution_count": 102
        }
      ]
    },
    {
      "cell_type": "code",
      "metadata": {
        "id": "PRpvVgh-DmMh"
      },
      "source": [
        "# Set of features\r\n",
        "X = data_final.drop(columns='y', axis=1)\r\n",
        "\r\n",
        "# Target\r\n",
        "y = data_final.y"
      ],
      "execution_count": null,
      "outputs": []
    },
    {
      "cell_type": "code",
      "metadata": {
        "colab": {
          "base_uri": "https://localhost:8080/"
        },
        "id": "2MnzOZFrEeLb",
        "outputId": "15bdbebe-2006-49ed-a0bf-aa0b6bdaff79"
      },
      "source": [
        "from sklearn.model_selection import train_test_split\r\n",
        "\r\n",
        "# Split training and test\r\n",
        "X_train, X_test, y_train, y_test = train_test_split(X, y, test_size=0.30, random_state= 0)\r\n",
        "\r\n",
        "X_train.shape, X_test.shape, y_train.shape, y_test.shape"
      ],
      "execution_count": null,
      "outputs": [
        {
          "output_type": "execute_result",
          "data": {
            "text/plain": [
              "((28831, 5), (12357, 5), (28831,), (12357,))"
            ]
          },
          "metadata": {
            "tags": []
          },
          "execution_count": 104
        }
      ]
    },
    {
      "cell_type": "code",
      "metadata": {
        "colab": {
          "base_uri": "https://localhost:8080/",
          "height": 381
        },
        "id": "9QMeo67dFr9L",
        "outputId": "b6e174bc-8039-4629-a2cd-bdc08c79ff2b"
      },
      "source": [
        "# Just a reminder - we still have unbalanced classes!\r\n",
        "plt.subplots(1,2,figsize=(10,4))\r\n",
        "plt.subplot(121); sns.countplot(y_train); plt.title('y_train')    \r\n",
        "plt.subplot(122); sns.countplot(y_test); plt.title('y_test')\r\n",
        "plt.tight_layout()"
      ],
      "execution_count": null,
      "outputs": [
        {
          "output_type": "stream",
          "text": [
            "/usr/local/lib/python3.6/dist-packages/seaborn/_decorators.py:43: FutureWarning: Pass the following variable as a keyword arg: x. From version 0.12, the only valid positional argument will be `data`, and passing other arguments without an explicit keyword will result in an error or misinterpretation.\n",
            "  FutureWarning\n",
            "/usr/local/lib/python3.6/dist-packages/seaborn/_decorators.py:43: FutureWarning: Pass the following variable as a keyword arg: x. From version 0.12, the only valid positional argument will be `data`, and passing other arguments without an explicit keyword will result in an error or misinterpretation.\n",
            "  FutureWarning\n"
          ],
          "name": "stderr"
        },
        {
          "output_type": "display_data",
          "data": {
            "image/png": "[encoded data removed]",
            "text/plain": [
              "<Figure size 720x288 with 2 Axes>"
            ]
          },
          "metadata": {
            "tags": []
          }
        }
      ]
    },
    {
      "cell_type": "code",
      "metadata": {
        "id": "ubSP1-1tLU_h"
      },
      "source": [
        "# Import model and evaluation tools\n",
        "from sklearn.linear_model import LogisticRegression\n",
        "from sklearn import metrics\n",
        "from sklearn.metrics import classification_report"
      ],
      "execution_count": null,
      "outputs": []
    },
    {
      "cell_type": "code",
      "metadata": {
        "colab": {
          "base_uri": "https://localhost:8080/"
        },
        "id": "KPwCPSwCIZmg",
        "outputId": "b7a3a916-42d9-4dc0-a438-ef72b73c467f"
      },
      "source": [
        "# Create model instance with default settings\r\n",
        "lr = LogisticRegression()\r\n",
        "\r\n",
        "# Fit the model\r\n",
        "lr.fit(X_train, y_train)"
      ],
      "execution_count": null,
      "outputs": [
        {
          "output_type": "execute_result",
          "data": {
            "text/plain": [
              "LogisticRegression(C=1.0, class_weight=None, dual=False, fit_intercept=True,\n",
              "                   intercept_scaling=1, l1_ratio=None, max_iter=100,\n",
              "                   multi_class='auto', n_jobs=None, penalty='l2',\n",
              "                   random_state=None, solver='lbfgs', tol=0.0001, verbose=0,\n",
              "                   warm_start=False)"
            ]
          },
          "metadata": {
            "tags": []
          },
          "execution_count": 107
        }
      ]
    },
    {
      "cell_type": "markdown",
      "metadata": {
        "id": "_Fszc4z0LU_h"
      },
      "source": [
        "##### Compute predictions and accuracy using the accuracy score provided by the sklearn library"
      ]
    },
    {
      "cell_type": "code",
      "metadata": {
        "colab": {
          "base_uri": "https://localhost:8080/"
        },
        "id": "nXOg1eFYJnI7",
        "outputId": "c2f10e28-23d1-4e30-f78f-16678103d3f2"
      },
      "source": [
        "# Predict\r\n",
        "y_pred = lr.predict(X_test)\r\n",
        "\r\n",
        "# Evaluate\r\n",
        "print('Accuracy of logistic regression classifier on test set: {:.2f}'.format(metrics.accuracy_score(y_test,y_pred)))"
      ],
      "execution_count": null,
      "outputs": [
        {
          "output_type": "stream",
          "text": [
            "Accuracy of logistic regression classifier on test set: 0.90\n"
          ],
          "name": "stdout"
        }
      ]
    },
    {
      "cell_type": "markdown",
      "metadata": {
        "id": "7Y7jbJq2Kj6h"
      },
      "source": [
        "**Note: my result is slightly different vs the reference (91%); maybe I included different features.**"
      ]
    },
    {
      "cell_type": "markdown",
      "metadata": {
        "id": "RhYjoyANLU_i"
      },
      "source": [
        "##### An accuracy of **91%** looks quite a good result, but have a look more in detail observing the confusion matrix and other metrics you consider interesting.\n",
        "\n",
        "\n",
        "##### EXPLAIN WHY ACCURACY IS NOT ENOUGH TO EVALUATE THE PERFORMANCE OF A CLASSIFIER AND WHY IT MIGHT FAIL IN CASE OF IMBALANCED DATASET\n"
      ]
    },
    {
      "cell_type": "markdown",
      "metadata": {
        "id": "gOyza8U9LU_i"
      },
      "source": [
        "**EXPLANATION**\n",
        "\n",
        "**The `accuracy` metric looks at the overall correct prediction across all classes being predicted.** \n",
        "\n",
        "**In the case of an unbalanced dataset (like ours), the high accuracy may be attributed to a lot of the majority class being predicted correctly, and overlooks model performance among the minority class. Our model may not be so good at predicting the minority class, simply because it hasn't seen enough of this class compared to the majority class!**\n",
        "\n",
        "**To check how the model really performs, we need to look at both the majority and minority classes, and evaluate other metrics such as:**\n",
        "* **`recall` (how many of all true cases are predicted correctly)**\n",
        "* **`precision` (out of the predicted cases, how many are correct)**\n",
        "* **`f1 score` (combination of recall and precision)**\n",
        "\n",
        "\n",
        "\n"
      ]
    },
    {
      "cell_type": "markdown",
      "metadata": {
        "id": "9LyjcIJWLU_i"
      },
      "source": [
        "The confusion matrics gives an interesting overview of how well a model is doing and it is a great starting point for any classification model evaluation.\n",
        "\n",
        "![](https://skappal7.files.wordpress.com/2018/08/confusion-matrix.jpg?w=748)"
      ]
    },
    {
      "cell_type": "code",
      "metadata": {
        "colab": {
          "base_uri": "https://localhost:8080/"
        },
        "id": "HJ7RJs-qDpL-",
        "outputId": "65af55b6-8289-4c95-b69c-27b22094969d"
      },
      "source": [
        "# Confusion matrix, counts\r\n",
        "print(\"Confusion Matrix\\n\", metrics.confusion_matrix(y_test, y_pred))\r\n",
        "\r\n",
        "# Normalized on true cases (= recall)\r\n",
        "print(\"\\nRecall Matrix\\n\", metrics.confusion_matrix(y_test, y_pred, normalize='true'))\r\n",
        "\r\n",
        "# Normalized on predicted cases (= precision)\r\n",
        "print(\"\\nPrecision Matrix\\n\", metrics.confusion_matrix(y_test, y_pred, normalize='pred'))"
      ],
      "execution_count": null,
      "outputs": [
        {
          "output_type": "stream",
          "text": [
            "Confusion Matrix\n",
            " [[10724   257]\n",
            " [  998   378]]\n",
            "\n",
            "Recall Matrix\n",
            " [[0.97659594 0.02340406]\n",
            " [0.7252907  0.2747093 ]]\n",
            "\n",
            "Precision Matrix\n",
            " [[0.91486095 0.40472441]\n",
            " [0.08513905 0.59527559]]\n"
          ],
          "name": "stdout"
        }
      ]
    },
    {
      "cell_type": "markdown",
      "metadata": {
        "id": "83E3eSOELU_j"
      },
      "source": [
        "**Is our model obtaining good results or is it failing in some specific case?**"
      ]
    },
    {
      "cell_type": "markdown",
      "metadata": {
        "id": "MsLAYc3KLU_j"
      },
      "source": [
        "**ANSWER**\n",
        "\n",
        "**As we can see in the above confusion matrices, our model is much better at predicting the majority class i.e. those who did not subscribe to term deposit. We reached a ```recall``` of 98% and ```precision``` of 91% for this group.**\n",
        "\n",
        "**On the other hand, the performance among the minority class i.e. those who sign up for term deposit is poorer : a ```recall``` of only 27% (!) and ```precision``` of 60% for this group.**\n",
        "\n",
        "**If what we care about is predicting subscription i.e. positive classes, then we'll need to improve the model substantially.**\n",
        "\n",
        "\n"
      ]
    },
    {
      "cell_type": "markdown",
      "metadata": {
        "id": "BaH6pLMqLU_j"
      },
      "source": [
        "##### Compute other metrics using classification report"
      ]
    },
    {
      "cell_type": "code",
      "metadata": {
        "colab": {
          "base_uri": "https://localhost:8080/"
        },
        "id": "b2aGxJ53RIqQ",
        "outputId": "1677388d-5d71-43af-c2b2-04b39db962e5"
      },
      "source": [
        "print(classification_report(y_test, y_pred))"
      ],
      "execution_count": null,
      "outputs": [
        {
          "output_type": "stream",
          "text": [
            "              precision    recall  f1-score   support\n",
            "\n",
            "           0       0.91      0.98      0.94     10981\n",
            "           1       0.60      0.27      0.38      1376\n",
            "\n",
            "    accuracy                           0.90     12357\n",
            "   macro avg       0.76      0.63      0.66     12357\n",
            "weighted avg       0.88      0.90      0.88     12357\n",
            "\n"
          ],
          "name": "stdout"
        }
      ]
    },
    {
      "cell_type": "markdown",
      "metadata": {
        "id": "nLACLe5xLU_k"
      },
      "source": [
        "#### Remember:\n",
        "    \n",
        "**Precision:** percentage of your results which are relevant. Among all the elements that your model classify as positive, how many are really positive examples?\n",
        "\n",
        "$\\frac{TP}{TP+FP}$\n",
        "                                            \n",
        "\n",
        "**Recall:** percentage of total relevant results correctly classified by your algorithm.\n",
        "\n",
        "$\\frac{TP}{TP+FN}$                                            "
      ]
    },
    {
      "cell_type": "markdown",
      "metadata": {
        "id": "uBE-2GcmLU_l"
      },
      "source": [
        "## Imbalanced Classes\n",
        "\n",
        "Imbalanced data typically refers to a problem with classification problems where the classes are not represented equally.\n",
        "\n",
        "\n",
        "##### Explain why imbalanced data can be a problem "
      ]
    },
    {
      "cell_type": "markdown",
      "metadata": {
        "id": "Ua1gGuA1LU_l"
      },
      "source": [
        "**ANSWER**\n",
        "\n",
        "**In our case, if we wrongly predict someone to be uninterested in term deposit, it could be a lost opportunity -- that person may not be followed up with better marketing efforts.**\n",
        "\n",
        "**In other fields such as medicine or fraud detection, the impact can be worse -- failure to detect a disease can lead to the patient being untreated, and failure to detect a fraud can result in the business losing money.**\n"
      ]
    },
    {
      "cell_type": "markdown",
      "metadata": {
        "id": "qxZGpzNKLU_l"
      },
      "source": [
        "##### SMOTE\n",
        "\n",
        "During the exploratory data analysis we have seen that we have **Imbalanced Classes**, i.e.,the percentage of negative examples is much higher with respect to the percentage of positiv examples. Indeed, observing the confusion matrix we saw that the implmented model face some problem in predict the positive examples (if a client will subscribe a term deposit).\n",
        "\n",
        "\n",
        "To face this problem we will apply an over-sampling technique trying to balance our dataset generating **Synthetic Samples:** it consists in creating new synthetic points from the minority class to increase its cardinality.\n",
        "\n",
        "we will use the **SMOTE** Algorithm [see here for more details](https://arxiv.org/pdf/1106.1813.pdf)."
      ]
    },
    {
      "cell_type": "markdown",
      "metadata": {
        "id": "OTsHhZRsLU_m"
      },
      "source": [
        "In order to apply SMOTE **install the imblearn python library** (if you already have it you do not need to reinstall):\n",
        "\n",
        "[Follow this instructions](https://imbalanced-learn.readthedocs.io/en/stable/install.html)\n"
      ]
    },
    {
      "cell_type": "markdown",
      "metadata": {
        "id": "eyLx8ndgLU_m"
      },
      "source": [
        "### Now implent again the model following all the steps\n",
        "\n",
        "Prepare the data"
      ]
    },
    {
      "cell_type": "markdown",
      "metadata": {
        "id": "kCdWxWeLx5Mi"
      },
      "source": [
        "**Note: We will use the same X_train and y_train data from before**"
      ]
    },
    {
      "cell_type": "code",
      "metadata": {
        "colab": {
          "base_uri": "https://localhost:8080/"
        },
        "id": "vmYQ20XEx0UB",
        "outputId": "6d0e7089-762b-471d-e32a-daf63ed53b6b"
      },
      "source": [
        "X_train.columns"
      ],
      "execution_count": null,
      "outputs": [
        {
          "output_type": "execute_result",
          "data": {
            "text/plain": [
              "Index(['emp_var_rate', 'previous', 'duration', 'poutcome_nonexistent',\n",
              "       'poutcome_nonexistent'],\n",
              "      dtype='object')"
            ]
          },
          "metadata": {
            "tags": []
          },
          "execution_count": 113
        }
      ]
    },
    {
      "cell_type": "code",
      "metadata": {
        "colab": {
          "base_uri": "https://localhost:8080/"
        },
        "id": "JKzrdJiBx-hd",
        "outputId": "dab8ce6e-82a8-4111-c74c-d4bc853e3bf0"
      },
      "source": [
        "len(X_train), len(y_train)"
      ],
      "execution_count": null,
      "outputs": [
        {
          "output_type": "execute_result",
          "data": {
            "text/plain": [
              "(28831, 28831)"
            ]
          },
          "metadata": {
            "tags": []
          },
          "execution_count": 114
        }
      ]
    },
    {
      "cell_type": "code",
      "metadata": {
        "colab": {
          "base_uri": "https://localhost:8080/"
        },
        "id": "avJSUcpVyIiT",
        "outputId": "bdff52cc-1202-4d7f-9180-fbc4b4c034b1"
      },
      "source": [
        "# The imbalanced data\r\n",
        "y_train.value_counts()"
      ],
      "execution_count": null,
      "outputs": [
        {
          "output_type": "execute_result",
          "data": {
            "text/plain": [
              "0    25567\n",
              "1     3264\n",
              "Name: y, dtype: int64"
            ]
          },
          "metadata": {
            "tags": []
          },
          "execution_count": 115
        }
      ]
    },
    {
      "cell_type": "markdown",
      "metadata": {
        "id": "r0bHTAJgLU_m"
      },
      "source": [
        "##### Apply SMOTE to generate synthetic data"
      ]
    },
    {
      "cell_type": "code",
      "metadata": {
        "id": "VDBLeuPWXGdZ"
      },
      "source": [
        "# Import & initiate SMOTE\r\n",
        "from imblearn.over_sampling import SMOTE\r\n",
        "os = SMOTE(random_state=0)"
      ],
      "execution_count": null,
      "outputs": []
    },
    {
      "cell_type": "code",
      "metadata": {
        "colab": {
          "base_uri": "https://localhost:8080/"
        },
        "id": "UtgXBWglXTv2",
        "outputId": "51aaa4f5-2186-4e60-8c08-8afb36ad564c"
      },
      "source": [
        "# Apply oversampling ONLY ON training data\r\n",
        "os_data_X, os_data_y= os.fit_sample(X_train, y_train)"
      ],
      "execution_count": null,
      "outputs": [
        {
          "output_type": "stream",
          "text": [
            "/usr/local/lib/python3.6/dist-packages/sklearn/utils/deprecation.py:87: FutureWarning: Function safe_indexing is deprecated; safe_indexing is deprecated in version 0.22 and will be removed in version 0.24.\n",
            "  warnings.warn(msg, category=FutureWarning)\n"
          ],
          "name": "stderr"
        }
      ]
    },
    {
      "cell_type": "code",
      "metadata": {
        "id": "p4hsYAf0y3dP"
      },
      "source": [
        "# Tidy up into dataframes\r\n",
        "os_data_X = pd.DataFrame(os_data_X, columns= X_train.columns)\r\n",
        "os_data_y = pd.DataFrame(os_data_y, columns= ['y'])"
      ],
      "execution_count": null,
      "outputs": []
    },
    {
      "cell_type": "code",
      "metadata": {
        "colab": {
          "base_uri": "https://localhost:8080/",
          "height": 381
        },
        "id": "LZd8oktpwQr4",
        "outputId": "533926aa-ea88-4245-c2a3-85050defc107"
      },
      "source": [
        "# Now our classes have been balanced in the new dataset generated with SMOTE\r\n",
        "plt.subplots(1,2,figsize=(10,4))\r\n",
        "plt.subplot(121); sns.countplot(y_train); plt.title('y_train original')\r\n",
        "plt.subplot(122); sns.countplot(os_data_y['y']); plt.title('y_train oversampled')\r\n",
        "plt.tight_layout()"
      ],
      "execution_count": null,
      "outputs": [
        {
          "output_type": "stream",
          "text": [
            "/usr/local/lib/python3.6/dist-packages/seaborn/_decorators.py:43: FutureWarning: Pass the following variable as a keyword arg: x. From version 0.12, the only valid positional argument will be `data`, and passing other arguments without an explicit keyword will result in an error or misinterpretation.\n",
            "  FutureWarning\n",
            "/usr/local/lib/python3.6/dist-packages/seaborn/_decorators.py:43: FutureWarning: Pass the following variable as a keyword arg: x. From version 0.12, the only valid positional argument will be `data`, and passing other arguments without an explicit keyword will result in an error or misinterpretation.\n",
            "  FutureWarning\n"
          ],
          "name": "stderr"
        },
        {
          "output_type": "display_data",
          "data": {
            "image/png": "[encoded data removed]",
            "text/plain": [
              "<Figure size 720x288 with 2 Axes>"
            ]
          },
          "metadata": {
            "tags": []
          }
        }
      ]
    },
    {
      "cell_type": "code",
      "metadata": {
        "colab": {
          "base_uri": "https://localhost:8080/"
        },
        "id": "E9nTJLLi14uu",
        "outputId": "4d16c24c-0440-4905-def3-9d6d6e4fffbd"
      },
      "source": [
        "# Check the counts of training data before and after SMOTE\r\n",
        "print(\"ORIGINAL DATA\", \r\n",
        "      \"\\nTotal length:  \", len(y_train),\r\n",
        "      \"\\nClass sizes:\", \r\n",
        "      \"\\tNo subscription =\", sum(y_train == 0), \"\\tSubscription =\", sum(y_train == 1),\r\n",
        "      \"\\nProportion:\", \r\n",
        "      \"\\tNo subscription = {:.0f}%\".format(100*sum(y_train == 0)/len(y_train)),\r\n",
        "      \"\\t\\tSubscription = {:.0f}%\".format(100*sum(y_train == 1)/len(y_train)))\r\n",
        "print(\"\")\r\n",
        "print(\"OVERSAMPLED DATA\", \r\n",
        "      \"\\nTotal length:  \", len(os_data_y),\r\n",
        "      \"\\nClass sizes:\", \r\n",
        "      \"\\tNo subscription =\", len(os_data_y[os_data_y['y']==0]), \"\\tSubscription =\", len(os_data_y[os_data_y['y']==1]),\r\n",
        "      \"\\nProportion:\", \r\n",
        "      \"\\tNo subscription = {:.0f}%\".format(100*len(os_data_y[os_data_y['y']==0])/len(os_data_y)),\r\n",
        "      \"\\t\\tSubscription = {:.0f}%\".format(100*len(os_data_y[os_data_y['y']==1])/len(os_data_y)))"
      ],
      "execution_count": null,
      "outputs": [
        {
          "output_type": "stream",
          "text": [
            "ORIGINAL DATA \n",
            "Total length:   28831 \n",
            "Class sizes: \tNo subscription = 25567 \tSubscription = 3264 \n",
            "Proportion: \tNo subscription = 89% \t\tSubscription = 11%\n",
            "\n",
            "OVERSAMPLED DATA \n",
            "Total length:   51134 \n",
            "Class sizes: \tNo subscription = 25567 \tSubscription = 25567 \n",
            "Proportion: \tNo subscription = 50% \t\tSubscription = 50%\n"
          ],
          "name": "stdout"
        }
      ]
    },
    {
      "cell_type": "markdown",
      "metadata": {
        "id": "bvOQCbn5LU_n"
      },
      "source": [
        "**Notice that we over-sampled only on the training data**"
      ]
    },
    {
      "cell_type": "markdown",
      "metadata": {
        "id": "ldI7OWYULU_o"
      },
      "source": [
        "##### Check if the classes in the dataset now are balanced"
      ]
    },
    {
      "cell_type": "code",
      "metadata": {
        "colab": {
          "base_uri": "https://localhost:8080/",
          "height": 111
        },
        "id": "sQhg9_Lq57tO",
        "outputId": "8b8e7b5b-f25f-49a1-b57e-c244b657ad89"
      },
      "source": [
        "os_y_count = pd.DataFrame(os_data_y.value_counts(), columns=['count']).sort_values(by= 'y').reset_index()\r\n",
        "os_y_count['perc'] = os_y_count['count'].div(sum(os_y_count['count']), axis=0)\r\n",
        "os_y_count"
      ],
      "execution_count": null,
      "outputs": [
        {
          "output_type": "execute_result",
          "data": {
            "text/html": [
              "<div>\n",
              "<style scoped>\n",
              "    .dataframe tbody tr th:only-of-type {\n",
              "        vertical-align: middle;\n",
              "    }\n",
              "\n",
              "    .dataframe tbody tr th {\n",
              "        vertical-align: top;\n",
              "    }\n",
              "\n",
              "    .dataframe thead th {\n",
              "        text-align: right;\n",
              "    }\n",
              "</style>\n",
              "<table border=\"1\" class=\"dataframe\">\n",
              "  <thead>\n",
              "    <tr style=\"text-align: right;\">\n",
              "      <th></th>\n",
              "      <th>y</th>\n",
              "      <th>count</th>\n",
              "      <th>perc</th>\n",
              "    </tr>\n",
              "  </thead>\n",
              "  <tbody>\n",
              "    <tr>\n",
              "      <th>0</th>\n",
              "      <td>0</td>\n",
              "      <td>25567</td>\n",
              "      <td>0.5</td>\n",
              "    </tr>\n",
              "    <tr>\n",
              "      <th>1</th>\n",
              "      <td>1</td>\n",
              "      <td>25567</td>\n",
              "      <td>0.5</td>\n",
              "    </tr>\n",
              "  </tbody>\n",
              "</table>\n",
              "</div>"
            ],
            "text/plain": [
              "   y  count  perc\n",
              "0  0  25567   0.5\n",
              "1  1  25567   0.5"
            ]
          },
          "metadata": {
            "tags": []
          },
          "execution_count": 267
        }
      ]
    },
    {
      "cell_type": "markdown",
      "metadata": {
        "id": "_oZ6JA2-LU_o"
      },
      "source": [
        "They are prefectly distributed!!"
      ]
    },
    {
      "cell_type": "markdown",
      "metadata": {
        "id": "LdRfnfcNLU_o"
      },
      "source": [
        "##### Implement the model"
      ]
    },
    {
      "cell_type": "code",
      "metadata": {
        "colab": {
          "base_uri": "https://localhost:8080/"
        },
        "id": "KU91B28oBaFg",
        "outputId": "e7664571-cfab-44ef-9a91-5a36adf6ba17"
      },
      "source": [
        "# Split training and test from oversampled data\r\n",
        "os_X_train, os_X_test, os_y_train, os_y_test = train_test_split(os_data_X, os_data_y, test_size=0.30, random_state= 0)\r\n",
        "\r\n",
        "os_X_train.shape, os_X_test.shape, os_y_train.shape, os_y_test.shape"
      ],
      "execution_count": null,
      "outputs": [
        {
          "output_type": "execute_result",
          "data": {
            "text/plain": [
              "((35793, 5), (15341, 5), (35793, 1), (15341, 1))"
            ]
          },
          "metadata": {
            "tags": []
          },
          "execution_count": 274
        }
      ]
    },
    {
      "cell_type": "code",
      "metadata": {
        "colab": {
          "base_uri": "https://localhost:8080/"
        },
        "id": "zXNspvqhB19H",
        "outputId": "d7ef4238-cce6-4686-d226-8a30e2995018"
      },
      "source": [
        "# Create model instance with default settings\r\n",
        "lr = LogisticRegression()\r\n",
        "\r\n",
        "# Fit the model\r\n",
        "lr.fit(os_X_train, os_y_train)"
      ],
      "execution_count": null,
      "outputs": [
        {
          "output_type": "stream",
          "text": [
            "/usr/local/lib/python3.6/dist-packages/sklearn/utils/validation.py:760: DataConversionWarning: A column-vector y was passed when a 1d array was expected. Please change the shape of y to (n_samples, ), for example using ravel().\n",
            "  y = column_or_1d(y, warn=True)\n"
          ],
          "name": "stderr"
        },
        {
          "output_type": "execute_result",
          "data": {
            "text/plain": [
              "LogisticRegression(C=1.0, class_weight=None, dual=False, fit_intercept=True,\n",
              "                   intercept_scaling=1, l1_ratio=None, max_iter=100,\n",
              "                   multi_class='auto', n_jobs=None, penalty='l2',\n",
              "                   random_state=None, solver='lbfgs', tol=0.0001, verbose=0,\n",
              "                   warm_start=False)"
            ]
          },
          "metadata": {
            "tags": []
          },
          "execution_count": 275
        }
      ]
    },
    {
      "cell_type": "markdown",
      "metadata": {
        "id": "AGn8UB5uLU_p"
      },
      "source": [
        "#### Model Evaluation: evaluate the model and compare with previous implmentation/evaluation"
      ]
    },
    {
      "cell_type": "code",
      "metadata": {
        "colab": {
          "base_uri": "https://localhost:8080/"
        },
        "id": "JucllSudCF7R",
        "outputId": "1593f9a4-cba7-4cef-c458-456af2da0af0"
      },
      "source": [
        "# Predict\r\n",
        "os_y_pred = lr.predict(os_X_test)\r\n",
        "\r\n",
        "# Evaluate\r\n",
        "print('Accuracy of logistic regression classifier on test set: {:.2f}'.format(metrics.accuracy_score(os_y_test, os_y_pred)))"
      ],
      "execution_count": null,
      "outputs": [
        {
          "output_type": "stream",
          "text": [
            "Accuracy of logistic regression classifier on test set: 0.84\n"
          ],
          "name": "stdout"
        }
      ]
    },
    {
      "cell_type": "markdown",
      "metadata": {
        "id": "CVLISUX8LU_p"
      },
      "source": [
        "The total accuracy decreases. Is our model obtaining poorer results? Have a deeper look analysing confusion matrix and classification report"
      ]
    },
    {
      "cell_type": "code",
      "metadata": {
        "colab": {
          "base_uri": "https://localhost:8080/"
        },
        "id": "7F0v_yb1C7AX",
        "outputId": "d87d0af2-e0fd-4496-c530-37e5f9804e8a"
      },
      "source": [
        "# Confusion matrix, counts\r\n",
        "print(\"Confusion Matrix\\n\", metrics.confusion_matrix(os_y_test, os_y_pred))\r\n",
        "\r\n",
        "# Normalized on true cases (= recall)\r\n",
        "print(\"\\nRecall Matrix\\n\", metrics.confusion_matrix(os_y_test, os_y_pred, normalize='true'))\r\n",
        "\r\n",
        "# Normalized on predicted cases (= precision)\r\n",
        "print(\"\\nPrecision Matrix\\n\", metrics.confusion_matrix(os_y_test, os_y_pred, normalize='pred'))"
      ],
      "execution_count": null,
      "outputs": [
        {
          "output_type": "stream",
          "text": [
            "Confusion Matrix\n",
            " [[6235 1431]\n",
            " [1067 6608]]\n",
            "\n",
            "Recall Matrix\n",
            " [[0.81333159 0.18666841]\n",
            " [0.1390228  0.8609772 ]]\n",
            "\n",
            "Precision Matrix\n",
            " [[0.85387565 0.17800721]\n",
            " [0.14612435 0.82199279]]\n"
          ],
          "name": "stdout"
        }
      ]
    },
    {
      "cell_type": "markdown",
      "metadata": {
        "id": "ONQdjT7qLU_q"
      },
      "source": [
        "Analysing the confusion matrix we can observe that now our model is able to predict quite well both positive and negative examples!! Let's see if this is also confirmed looking at precision and recall"
      ]
    },
    {
      "cell_type": "code",
      "metadata": {
        "colab": {
          "base_uri": "https://localhost:8080/"
        },
        "id": "qWwQu74GEniG",
        "outputId": "a2b86d1f-8b5c-452b-b981-426821d8e81b"
      },
      "source": [
        "print(classification_report(os_y_test, os_y_pred))"
      ],
      "execution_count": null,
      "outputs": [
        {
          "output_type": "stream",
          "text": [
            "              precision    recall  f1-score   support\n",
            "\n",
            "           0       0.85      0.81      0.83      7666\n",
            "           1       0.82      0.86      0.84      7675\n",
            "\n",
            "    accuracy                           0.84     15341\n",
            "   macro avg       0.84      0.84      0.84     15341\n",
            "weighted avg       0.84      0.84      0.84     15341\n",
            "\n"
          ],
          "name": "stdout"
        }
      ]
    },
    {
      "cell_type": "markdown",
      "metadata": {
        "id": "SE9Tmds3LU_q"
      },
      "source": [
        "The support is the number of occurrences of each class in y_test.\n",
        "\n",
        "\n",
        "\n",
        "##### Discuss the obtained results!"
      ]
    },
    {
      "cell_type": "markdown",
      "metadata": {
        "id": "of5BWL0ZD9jl"
      },
      "source": [
        "**NOTES ON MODEL WITH OVERSAMPLED TRAINING DATA**\r\n",
        "\r\n",
        "**As we can see in the above confusion matrices, our model is now showing much better performance among the minority class i.e. those with term subscriptions. We have improved ```recall``` from 27% to 86% (wow!) and ```precision``` from 60% to 82%.**\r\n",
        "\r\n",
        "**This is a better model to be used for our purpose of predicting term subscription, so we will stick to this second model generated with oversampled training data for more balanced classes.**"
      ]
    },
    {
      "cell_type": "markdown",
      "metadata": {
        "id": "FxTT01uMF3uN"
      },
      "source": [
        "## BONUS MODEL\r\n",
        "**I'm curious to see what happens if we don't oversample the training data, but simply use the `class_weight` parameter to weight the data while fitting the model. According to [the documentation](https://scikit-learn.org/stable/modules/generated/sklearn.linear_model.LogisticRegression.html), the 'balanced' mode uses class proportions in the training data to adjust the weights inversely proportional to class frequencies.**"
      ]
    },
    {
      "cell_type": "code",
      "metadata": {
        "colab": {
          "base_uri": "https://localhost:8080/"
        },
        "id": "u3YSgzewE-ts",
        "outputId": "7b3e037a-dc16-46a9-8bb1-3508601ffa4c"
      },
      "source": [
        "# Create model instance with default settings\r\n",
        "lrbl = LogisticRegression(class_weight='balanced')\r\n",
        "\r\n",
        "# Fit the model\r\n",
        "lrbl.fit(X_train, y_train)"
      ],
      "execution_count": null,
      "outputs": [
        {
          "output_type": "execute_result",
          "data": {
            "text/plain": [
              "LogisticRegression(C=1.0, class_weight='balanced', dual=False,\n",
              "                   fit_intercept=True, intercept_scaling=1, l1_ratio=None,\n",
              "                   max_iter=100, multi_class='auto', n_jobs=None, penalty='l2',\n",
              "                   random_state=None, solver='lbfgs', tol=0.0001, verbose=0,\n",
              "                   warm_start=False)"
            ]
          },
          "metadata": {
            "tags": []
          },
          "execution_count": 290
        }
      ]
    },
    {
      "cell_type": "code",
      "metadata": {
        "id": "Uja9WnORFcok"
      },
      "source": [
        "# Predict\r\n",
        "bl_y_pred = lrbl.predict(X_test)"
      ],
      "execution_count": null,
      "outputs": []
    },
    {
      "cell_type": "code",
      "metadata": {
        "colab": {
          "base_uri": "https://localhost:8080/"
        },
        "id": "aDJyXLx3FlEg",
        "outputId": "bd0cee7e-52f7-46ce-b515-dda40d54e745"
      },
      "source": [
        "# Result\r\n",
        "print(classification_report(y_test, bl_y_pred))"
      ],
      "execution_count": null,
      "outputs": [
        {
          "output_type": "stream",
          "text": [
            "              precision    recall  f1-score   support\n",
            "\n",
            "           0       0.98      0.82      0.89     10981\n",
            "           1       0.37      0.85      0.52      1376\n",
            "\n",
            "    accuracy                           0.82     12357\n",
            "   macro avg       0.68      0.84      0.71     12357\n",
            "weighted avg       0.91      0.82      0.85     12357\n",
            "\n"
          ],
          "name": "stdout"
        }
      ]
    },
    {
      "cell_type": "markdown",
      "metadata": {
        "id": "7dVNsKKcHSc4"
      },
      "source": [
        "**NOTES ON MODEL WITH WEIGHTED TRAINING DATA**\r\n",
        "\r\n",
        "**It turns out adjusting the model instance with a weighting parameter does help improve recall significantly, to a similar level of the result from oversampled data (from 27% to 85%). However, the precision for the minority class dropped -- so this doesn't seem to be a sufficient approach.**"
      ]
    }
  ]
}