{
  "nbformat": 4,
  "nbformat_minor": 0,
  "metadata": {
    "colab": {
      "name": "Session3_Regularization_PolyReg_Exercise_AA.ipynb",
      "provenance": [],
      "collapsed_sections": [],
      "toc_visible": true,
      "include_colab_link": true
    },
    "kernelspec": {
      "name": "python3",
      "display_name": "Python 3"
    }
  },
  "cells": [
    {
      "cell_type": "markdown",
      "metadata": {
        "id": "view-in-github",
        "colab_type": "text"
      },
      "source": [
        "<a href=\"https://colab.research.google.com/github/antiantono/bts-cda-tareas/blob/main/assignments/Session3_Regularization_PolyReg_Exercise_AA.ipynb\" target=\"_parent\"><img src=\"https://colab.research.google.com/assets/colab-badge.svg\" alt=\"Open In Colab\"/></a>"
      ]
    },
    {
      "cell_type": "markdown",
      "metadata": {
        "id": "T_U6YCp9QD33"
      },
      "source": [
        "\n",
        "![BTS](https://github.com/vfp1/bts-dsf-2020/raw/main/Logo-BTS.jpg)\n",
        "\n",
        "# Session 3: Logistic Regression EXERCISE\n",
        "\n",
        "### Victor F. Pajuelo Madrigal <victor.pajuelo@bts.tech> - Classical Data Analysis (2020-12-21)\n",
        "\n",
        "**Resources:**\n",
        "* Auréliene Géron, Hands On ML with SKlearn, Keras and TF"
      ]
    },
    {
      "cell_type": "markdown",
      "metadata": {
        "id": "47cNdF6xP5eF"
      },
      "source": [
        "# REGRESSION WITH REGULARIZATION"
      ]
    },
    {
      "cell_type": "markdown",
      "metadata": {
        "id": "Frx3TwraLGRt"
      },
      "source": [
        "## Prepare Dataset"
      ]
    },
    {
      "cell_type": "markdown",
      "metadata": {
        "id": "I-2OcibZP5eH"
      },
      "source": [
        "We will using the Boston Housing Dataset available in sklearn and we will extend it with  5 additional features of random noise to test each algorithm’s ability to filter out irrelevant information:\n",
        "\n",
        "- **Examine the results of applying Linear Regression, Lasso Regression, Ridge Regression and Elastic Net on the features scores**\n",
        "- **Try to modify the hyperparameters lambda and describe how it affects the parmeter scores**\n",
        "\n",
        "This is the very same exercise that we did in class, try to go in depth into the tradeoffs of lambda (alpha) and others"
      ]
    },
    {
      "cell_type": "markdown",
      "metadata": {
        "id": "oGLVXZSyP5eH"
      },
      "source": [
        "### Import libraries + data"
      ]
    },
    {
      "cell_type": "code",
      "metadata": {
        "id": "YfgiMb3fP5eI",
        "colab": {
          "base_uri": "https://localhost:8080/",
          "height": 204
        },
        "outputId": "0fb8c3ce-376e-4fff-c13c-858b8a2bf828"
      },
      "source": [
        "import matplotlib.pyplot as plt\n",
        "import numpy as np \n",
        "import pandas as pd\n",
        "import matplotlib\n",
        "matplotlib.rcParams.update({'font.size': 12})\n",
        "from sklearn.datasets import load_boston\n",
        "from sklearn.model_selection import train_test_split\n",
        "from sklearn.linear_model import LinearRegression\n",
        "from sklearn.linear_model import Ridge\n",
        "from sklearn import metrics\n",
        "from sklearn.metrics import mean_squared_error\n",
        "\n",
        "boston=load_boston()\n",
        "boston_df=pd.DataFrame(boston.data,columns=boston.feature_names)\n",
        "\n",
        "boston_df.head()"
      ],
      "execution_count": 1,
      "outputs": [
        {
          "output_type": "execute_result",
          "data": {
            "text/html": [
              "<div>\n",
              "<style scoped>\n",
              "    .dataframe tbody tr th:only-of-type {\n",
              "        vertical-align: middle;\n",
              "    }\n",
              "\n",
              "    .dataframe tbody tr th {\n",
              "        vertical-align: top;\n",
              "    }\n",
              "\n",
              "    .dataframe thead th {\n",
              "        text-align: right;\n",
              "    }\n",
              "</style>\n",
              "<table border=\"1\" class=\"dataframe\">\n",
              "  <thead>\n",
              "    <tr style=\"text-align: right;\">\n",
              "      <th></th>\n",
              "      <th>CRIM</th>\n",
              "      <th>ZN</th>\n",
              "      <th>INDUS</th>\n",
              "      <th>CHAS</th>\n",
              "      <th>NOX</th>\n",
              "      <th>RM</th>\n",
              "      <th>AGE</th>\n",
              "      <th>DIS</th>\n",
              "      <th>RAD</th>\n",
              "      <th>TAX</th>\n",
              "      <th>PTRATIO</th>\n",
              "      <th>B</th>\n",
              "      <th>LSTAT</th>\n",
              "    </tr>\n",
              "  </thead>\n",
              "  <tbody>\n",
              "    <tr>\n",
              "      <th>0</th>\n",
              "      <td>0.00632</td>\n",
              "      <td>18.0</td>\n",
              "      <td>2.31</td>\n",
              "      <td>0.0</td>\n",
              "      <td>0.538</td>\n",
              "      <td>6.575</td>\n",
              "      <td>65.2</td>\n",
              "      <td>4.0900</td>\n",
              "      <td>1.0</td>\n",
              "      <td>296.0</td>\n",
              "      <td>15.3</td>\n",
              "      <td>396.90</td>\n",
              "      <td>4.98</td>\n",
              "    </tr>\n",
              "    <tr>\n",
              "      <th>1</th>\n",
              "      <td>0.02731</td>\n",
              "      <td>0.0</td>\n",
              "      <td>7.07</td>\n",
              "      <td>0.0</td>\n",
              "      <td>0.469</td>\n",
              "      <td>6.421</td>\n",
              "      <td>78.9</td>\n",
              "      <td>4.9671</td>\n",
              "      <td>2.0</td>\n",
              "      <td>242.0</td>\n",
              "      <td>17.8</td>\n",
              "      <td>396.90</td>\n",
              "      <td>9.14</td>\n",
              "    </tr>\n",
              "    <tr>\n",
              "      <th>2</th>\n",
              "      <td>0.02729</td>\n",
              "      <td>0.0</td>\n",
              "      <td>7.07</td>\n",
              "      <td>0.0</td>\n",
              "      <td>0.469</td>\n",
              "      <td>7.185</td>\n",
              "      <td>61.1</td>\n",
              "      <td>4.9671</td>\n",
              "      <td>2.0</td>\n",
              "      <td>242.0</td>\n",
              "      <td>17.8</td>\n",
              "      <td>392.83</td>\n",
              "      <td>4.03</td>\n",
              "    </tr>\n",
              "    <tr>\n",
              "      <th>3</th>\n",
              "      <td>0.03237</td>\n",
              "      <td>0.0</td>\n",
              "      <td>2.18</td>\n",
              "      <td>0.0</td>\n",
              "      <td>0.458</td>\n",
              "      <td>6.998</td>\n",
              "      <td>45.8</td>\n",
              "      <td>6.0622</td>\n",
              "      <td>3.0</td>\n",
              "      <td>222.0</td>\n",
              "      <td>18.7</td>\n",
              "      <td>394.63</td>\n",
              "      <td>2.94</td>\n",
              "    </tr>\n",
              "    <tr>\n",
              "      <th>4</th>\n",
              "      <td>0.06905</td>\n",
              "      <td>0.0</td>\n",
              "      <td>2.18</td>\n",
              "      <td>0.0</td>\n",
              "      <td>0.458</td>\n",
              "      <td>7.147</td>\n",
              "      <td>54.2</td>\n",
              "      <td>6.0622</td>\n",
              "      <td>3.0</td>\n",
              "      <td>222.0</td>\n",
              "      <td>18.7</td>\n",
              "      <td>396.90</td>\n",
              "      <td>5.33</td>\n",
              "    </tr>\n",
              "  </tbody>\n",
              "</table>\n",
              "</div>"
            ],
            "text/plain": [
              "      CRIM    ZN  INDUS  CHAS    NOX  ...  RAD    TAX  PTRATIO       B  LSTAT\n",
              "0  0.00632  18.0   2.31   0.0  0.538  ...  1.0  296.0     15.3  396.90   4.98\n",
              "1  0.02731   0.0   7.07   0.0  0.469  ...  2.0  242.0     17.8  396.90   9.14\n",
              "2  0.02729   0.0   7.07   0.0  0.469  ...  2.0  242.0     17.8  392.83   4.03\n",
              "3  0.03237   0.0   2.18   0.0  0.458  ...  3.0  222.0     18.7  394.63   2.94\n",
              "4  0.06905   0.0   2.18   0.0  0.458  ...  3.0  222.0     18.7  396.90   5.33\n",
              "\n",
              "[5 rows x 13 columns]"
            ]
          },
          "metadata": {
            "tags": []
          },
          "execution_count": 1
        }
      ]
    },
    {
      "cell_type": "code",
      "metadata": {
        "id": "kAFzeugPP5eJ",
        "colab": {
          "base_uri": "https://localhost:8080/"
        },
        "outputId": "b5b80fe7-9b78-4194-aeeb-7151be8a883a"
      },
      "source": [
        "print(boston.DESCR)"
      ],
      "execution_count": null,
      "outputs": [
        {
          "output_type": "stream",
          "text": [
            ".. _boston_dataset:\n",
            "\n",
            "Boston house prices dataset\n",
            "---------------------------\n",
            "\n",
            "**Data Set Characteristics:**  \n",
            "\n",
            "    :Number of Instances: 506 \n",
            "\n",
            "    :Number of Attributes: 13 numeric/categorical predictive. Median Value (attribute 14) is usually the target.\n",
            "\n",
            "    :Attribute Information (in order):\n",
            "        - CRIM     per capita crime rate by town\n",
            "        - ZN       proportion of residential land zoned for lots over 25,000 sq.ft.\n",
            "        - INDUS    proportion of non-retail business acres per town\n",
            "        - CHAS     Charles River dummy variable (= 1 if tract bounds river; 0 otherwise)\n",
            "        - NOX      nitric oxides concentration (parts per 10 million)\n",
            "        - RM       average number of rooms per dwelling\n",
            "        - AGE      proportion of owner-occupied units built prior to 1940\n",
            "        - DIS      weighted distances to five Boston employment centres\n",
            "        - RAD      index of accessibility to radial highways\n",
            "        - TAX      full-value property-tax rate per $10,000\n",
            "        - PTRATIO  pupil-teacher ratio by town\n",
            "        - B        1000(Bk - 0.63)^2 where Bk is the proportion of blacks by town\n",
            "        - LSTAT    % lower status of the population\n",
            "        - MEDV     Median value of owner-occupied homes in $1000's\n",
            "\n",
            "    :Missing Attribute Values: None\n",
            "\n",
            "    :Creator: Harrison, D. and Rubinfeld, D.L.\n",
            "\n",
            "This is a copy of UCI ML housing dataset.\n",
            "https://archive.ics.uci.edu/ml/machine-learning-databases/housing/\n",
            "\n",
            "\n",
            "This dataset was taken from the StatLib library which is maintained at Carnegie Mellon University.\n",
            "\n",
            "The Boston house-price data of Harrison, D. and Rubinfeld, D.L. 'Hedonic\n",
            "prices and the demand for clean air', J. Environ. Economics & Management,\n",
            "vol.5, 81-102, 1978.   Used in Belsley, Kuh & Welsch, 'Regression diagnostics\n",
            "...', Wiley, 1980.   N.B. Various transformations are used in the table on\n",
            "pages 244-261 of the latter.\n",
            "\n",
            "The Boston house-price data has been used in many machine learning papers that address regression\n",
            "problems.   \n",
            "     \n",
            ".. topic:: References\n",
            "\n",
            "   - Belsley, Kuh & Welsch, 'Regression diagnostics: Identifying Influential Data and Sources of Collinearity', Wiley, 1980. 244-261.\n",
            "   - Quinlan,R. (1993). Combining Instance-Based and Model-Based Learning. In Proceedings on the Tenth International Conference of Machine Learning, 236-243, University of Massachusetts, Amherst. Morgan Kaufmann.\n",
            "\n"
          ],
          "name": "stdout"
        }
      ]
    },
    {
      "cell_type": "markdown",
      "metadata": {
        "id": "W7fJX1LuP5eK"
      },
      "source": [
        "### Add noise"
      ]
    },
    {
      "cell_type": "code",
      "metadata": {
        "id": "xj9y_uMuY-Rr"
      },
      "source": [
        "np.random.seed(8)"
      ],
      "execution_count": 2,
      "outputs": []
    },
    {
      "cell_type": "code",
      "metadata": {
        "id": "kOCkhsAZP5eK"
      },
      "source": [
        "n_houses = boston_df.shape[0]\n",
        "rand_noise = np.random.rand(n_houses, 5)\n",
        "\n",
        "rand_noise_df = pd.DataFrame(data=rand_noise, columns=['Noise_1', 'Noise_2', 'Noise_3', 'Noise_4', 'Noise_5'])\n",
        "X = pd.concat([boston_df, rand_noise_df], axis=1)\n",
        "y = boston['target']"
      ],
      "execution_count": 3,
      "outputs": []
    },
    {
      "cell_type": "code",
      "metadata": {
        "id": "cG1PjrYhP5eK",
        "colab": {
          "base_uri": "https://localhost:8080/",
          "height": 204
        },
        "outputId": "b36d0f12-cd51-4fb1-9d03-66b8a0f12f94"
      },
      "source": [
        "X.head()"
      ],
      "execution_count": 4,
      "outputs": [
        {
          "output_type": "execute_result",
          "data": {
            "text/html": [
              "<div>\n",
              "<style scoped>\n",
              "    .dataframe tbody tr th:only-of-type {\n",
              "        vertical-align: middle;\n",
              "    }\n",
              "\n",
              "    .dataframe tbody tr th {\n",
              "        vertical-align: top;\n",
              "    }\n",
              "\n",
              "    .dataframe thead th {\n",
              "        text-align: right;\n",
              "    }\n",
              "</style>\n",
              "<table border=\"1\" class=\"dataframe\">\n",
              "  <thead>\n",
              "    <tr style=\"text-align: right;\">\n",
              "      <th></th>\n",
              "      <th>CRIM</th>\n",
              "      <th>ZN</th>\n",
              "      <th>INDUS</th>\n",
              "      <th>CHAS</th>\n",
              "      <th>NOX</th>\n",
              "      <th>RM</th>\n",
              "      <th>AGE</th>\n",
              "      <th>DIS</th>\n",
              "      <th>RAD</th>\n",
              "      <th>TAX</th>\n",
              "      <th>PTRATIO</th>\n",
              "      <th>B</th>\n",
              "      <th>LSTAT</th>\n",
              "      <th>Noise_1</th>\n",
              "      <th>Noise_2</th>\n",
              "      <th>Noise_3</th>\n",
              "      <th>Noise_4</th>\n",
              "      <th>Noise_5</th>\n",
              "    </tr>\n",
              "  </thead>\n",
              "  <tbody>\n",
              "    <tr>\n",
              "      <th>0</th>\n",
              "      <td>0.00632</td>\n",
              "      <td>18.0</td>\n",
              "      <td>2.31</td>\n",
              "      <td>0.0</td>\n",
              "      <td>0.538</td>\n",
              "      <td>6.575</td>\n",
              "      <td>65.2</td>\n",
              "      <td>4.0900</td>\n",
              "      <td>1.0</td>\n",
              "      <td>296.0</td>\n",
              "      <td>15.3</td>\n",
              "      <td>396.90</td>\n",
              "      <td>4.98</td>\n",
              "      <td>0.873429</td>\n",
              "      <td>0.968541</td>\n",
              "      <td>0.869195</td>\n",
              "      <td>0.530856</td>\n",
              "      <td>0.232728</td>\n",
              "    </tr>\n",
              "    <tr>\n",
              "      <th>1</th>\n",
              "      <td>0.02731</td>\n",
              "      <td>0.0</td>\n",
              "      <td>7.07</td>\n",
              "      <td>0.0</td>\n",
              "      <td>0.469</td>\n",
              "      <td>6.421</td>\n",
              "      <td>78.9</td>\n",
              "      <td>4.9671</td>\n",
              "      <td>2.0</td>\n",
              "      <td>242.0</td>\n",
              "      <td>17.8</td>\n",
              "      <td>396.90</td>\n",
              "      <td>9.14</td>\n",
              "      <td>0.011399</td>\n",
              "      <td>0.430469</td>\n",
              "      <td>0.402351</td>\n",
              "      <td>0.522675</td>\n",
              "      <td>0.478392</td>\n",
              "    </tr>\n",
              "    <tr>\n",
              "      <th>2</th>\n",
              "      <td>0.02729</td>\n",
              "      <td>0.0</td>\n",
              "      <td>7.07</td>\n",
              "      <td>0.0</td>\n",
              "      <td>0.469</td>\n",
              "      <td>7.185</td>\n",
              "      <td>61.1</td>\n",
              "      <td>4.9671</td>\n",
              "      <td>2.0</td>\n",
              "      <td>242.0</td>\n",
              "      <td>17.8</td>\n",
              "      <td>392.83</td>\n",
              "      <td>4.03</td>\n",
              "      <td>0.555356</td>\n",
              "      <td>0.543386</td>\n",
              "      <td>0.760896</td>\n",
              "      <td>0.712375</td>\n",
              "      <td>0.619682</td>\n",
              "    </tr>\n",
              "    <tr>\n",
              "      <th>3</th>\n",
              "      <td>0.03237</td>\n",
              "      <td>0.0</td>\n",
              "      <td>2.18</td>\n",
              "      <td>0.0</td>\n",
              "      <td>0.458</td>\n",
              "      <td>6.998</td>\n",
              "      <td>45.8</td>\n",
              "      <td>6.0622</td>\n",
              "      <td>3.0</td>\n",
              "      <td>222.0</td>\n",
              "      <td>18.7</td>\n",
              "      <td>394.63</td>\n",
              "      <td>2.94</td>\n",
              "      <td>0.426092</td>\n",
              "      <td>0.289075</td>\n",
              "      <td>0.973855</td>\n",
              "      <td>0.333774</td>\n",
              "      <td>0.218801</td>\n",
              "    </tr>\n",
              "    <tr>\n",
              "      <th>4</th>\n",
              "      <td>0.06905</td>\n",
              "      <td>0.0</td>\n",
              "      <td>2.18</td>\n",
              "      <td>0.0</td>\n",
              "      <td>0.458</td>\n",
              "      <td>7.147</td>\n",
              "      <td>54.2</td>\n",
              "      <td>6.0622</td>\n",
              "      <td>3.0</td>\n",
              "      <td>222.0</td>\n",
              "      <td>18.7</td>\n",
              "      <td>396.90</td>\n",
              "      <td>5.33</td>\n",
              "      <td>0.065808</td>\n",
              "      <td>0.982871</td>\n",
              "      <td>0.127856</td>\n",
              "      <td>0.322131</td>\n",
              "      <td>0.070943</td>\n",
              "    </tr>\n",
              "  </tbody>\n",
              "</table>\n",
              "</div>"
            ],
            "text/plain": [
              "      CRIM    ZN  INDUS  CHAS  ...   Noise_2   Noise_3   Noise_4   Noise_5\n",
              "0  0.00632  18.0   2.31   0.0  ...  0.968541  0.869195  0.530856  0.232728\n",
              "1  0.02731   0.0   7.07   0.0  ...  0.430469  0.402351  0.522675  0.478392\n",
              "2  0.02729   0.0   7.07   0.0  ...  0.543386  0.760896  0.712375  0.619682\n",
              "3  0.03237   0.0   2.18   0.0  ...  0.289075  0.973855  0.333774  0.218801\n",
              "4  0.06905   0.0   2.18   0.0  ...  0.982871  0.127856  0.322131  0.070943\n",
              "\n",
              "[5 rows x 18 columns]"
            ]
          },
          "metadata": {
            "tags": []
          },
          "execution_count": 4
        }
      ]
    },
    {
      "cell_type": "code",
      "metadata": {
        "id": "wfKjAvf4P5eL",
        "colab": {
          "base_uri": "https://localhost:8080/"
        },
        "outputId": "b513eba2-664b-40ca-fec0-348263da2ff4"
      },
      "source": [
        "y[0:5]"
      ],
      "execution_count": null,
      "outputs": [
        {
          "output_type": "execute_result",
          "data": {
            "text/plain": [
              "array([24. , 21.6, 34.7, 33.4, 36.2])"
            ]
          },
          "metadata": {
            "tags": []
          },
          "execution_count": 21
        }
      ]
    },
    {
      "cell_type": "markdown",
      "metadata": {
        "id": "_XrQuJtKLLeo"
      },
      "source": [
        "## Default Hyperparameters \r\n",
        "* Implement classical linear regression, Lasso, Ridge and ElasticNet (use the default parameter of sklearn) \r\n",
        "* Describe how the scores of the features change"
      ]
    },
    {
      "cell_type": "markdown",
      "metadata": {
        "id": "hx6KUx1kP5eL"
      },
      "source": [
        "### Import & instantiate models"
      ]
    },
    {
      "cell_type": "code",
      "metadata": {
        "id": "YWVwV1sHP5eM"
      },
      "source": [
        "from sklearn.linear_model import LinearRegression, Lasso, Ridge, ElasticNet\n",
        "\n",
        "# CREATE MODEL INSTANCES\n",
        "linrg = LinearRegression()\n",
        "lasso = Lasso()\n",
        "ridge = Ridge()\n",
        "elast = ElasticNet()"
      ],
      "execution_count": 5,
      "outputs": []
    },
    {
      "cell_type": "code",
      "metadata": {
        "id": "qlQobR8hWF_W"
      },
      "source": [
        "# MODEL COLLECTION\r\n",
        "models = [(linrg, 'Linear Regression'),\r\n",
        "          (lasso, 'Lasso'),\r\n",
        "          (ridge, 'Ridge'),\r\n",
        "          (elast, 'Elastic Net')]"
      ],
      "execution_count": 6,
      "outputs": []
    },
    {
      "cell_type": "markdown",
      "metadata": {
        "id": "Vp3_wR5CP5eM"
      },
      "source": [
        "### Normalize data\r\n",
        "Use `StandardScaler` from Sklearn"
      ]
    },
    {
      "cell_type": "code",
      "metadata": {
        "id": "Ftfk1EaAP5eM"
      },
      "source": [
        "from sklearn.preprocessing import StandardScaler\n",
        "\n",
        "boston_ss = StandardScaler()\n",
        "X_scaled = boston_ss.fit_transform(X=X)\n",
        "\n",
        "X_train, X_test, y_train, y_test = train_test_split(X_scaled, y, test_size=0.25, random_state=235)"
      ],
      "execution_count": 7,
      "outputs": []
    },
    {
      "cell_type": "code",
      "metadata": {
        "colab": {
          "base_uri": "https://localhost:8080/"
        },
        "id": "HyW-f-ruQ6UM",
        "outputId": "d9c3e5b2-2aea-477b-e499-0b247b873bb2"
      },
      "source": [
        "X_train.shape, X_test.shape, y_train.shape, y_test.shape"
      ],
      "execution_count": 56,
      "outputs": [
        {
          "output_type": "execute_result",
          "data": {
            "text/plain": [
              "((379, 18), (127, 18), (379,), (127,))"
            ]
          },
          "metadata": {
            "tags": []
          },
          "execution_count": 56
        }
      ]
    },
    {
      "cell_type": "code",
      "metadata": {
        "colab": {
          "base_uri": "https://localhost:8080/",
          "height": 1000
        },
        "id": "B8VUceJEXJRS",
        "outputId": "ce401aef-76a6-40cd-9ad4-7cf64183bef3"
      },
      "source": [
        "# FIT THE MODELS + VISUAL RESULTS\r\n",
        "for model in models:\r\n",
        "    model[0].fit(X_train, y_train)\r\n",
        "    model_coefs = pd.Series(model[0].coef_, index=X.columns)\r\n",
        "    model_coefs.plot(kind='barh')\r\n",
        "    plt.xlim((-5,5))\r\n",
        "    plt.xlabel('Coefficient Values')\r\n",
        "    plt.ylabel('Feature Names')\r\n",
        "    plt.title(model[1])\r\n",
        "    plt.show()\r\n",
        "    print(\"\\n\")"
      ],
      "execution_count": 8,
      "outputs": [
        {
          "output_type": "display_data",
          "data": {
            "image/png": "[encoded data removed]",
            "text/plain": [
              "<Figure size 432x288 with 1 Axes>"
            ]
          },
          "metadata": {
            "tags": [],
            "needs_background": "light"
          }
        },
        {
          "output_type": "stream",
          "text": [
            "\n",
            "\n"
          ],
          "name": "stdout"
        },
        {
          "output_type": "display_data",
          "data": {
            "image/png": "[encoded data removed]",
            "text/plain": [
              "<Figure size 432x288 with 1 Axes>"
            ]
          },
          "metadata": {
            "tags": [],
            "needs_background": "light"
          }
        },
        {
          "output_type": "stream",
          "text": [
            "\n",
            "\n"
          ],
          "name": "stdout"
        },
        {
          "output_type": "display_data",
          "data": {
            "image/png": "[encoded data removed]",
            "text/plain": [
              "<Figure size 432x288 with 1 Axes>"
            ]
          },
          "metadata": {
            "tags": [],
            "needs_background": "light"
          }
        },
        {
          "output_type": "stream",
          "text": [
            "\n",
            "\n"
          ],
          "name": "stdout"
        },
        {
          "output_type": "display_data",
          "data": {
            "image/png": "[encoded data removed]",
            "text/plain": [
              "<Figure size 432x288 with 1 Axes>"
            ]
          },
          "metadata": {
            "tags": [],
            "needs_background": "light"
          }
        },
        {
          "output_type": "stream",
          "text": [
            "\n",
            "\n"
          ],
          "name": "stdout"
        }
      ]
    },
    {
      "cell_type": "code",
      "metadata": {
        "colab": {
          "base_uri": "https://localhost:8080/",
          "height": 607
        },
        "id": "YiYwiedTXt3Y",
        "outputId": "d59737ad-4183-48fe-8335-ccea06eafaf3"
      },
      "source": [
        "# MODEL COEFS IN DATAFRAME\r\n",
        "df = pd.DataFrame()\r\n",
        "df['Feature Name'] = X.columns\r\n",
        "\r\n",
        "for model in models:\r\n",
        "    column_name = model[1]\r\n",
        "    df[column_name] = model[0].coef_\r\n",
        "\r\n",
        "df"
      ],
      "execution_count": 9,
      "outputs": [
        {
          "output_type": "execute_result",
          "data": {
            "text/html": [
              "<div>\n",
              "<style scoped>\n",
              "    .dataframe tbody tr th:only-of-type {\n",
              "        vertical-align: middle;\n",
              "    }\n",
              "\n",
              "    .dataframe tbody tr th {\n",
              "        vertical-align: top;\n",
              "    }\n",
              "\n",
              "    .dataframe thead th {\n",
              "        text-align: right;\n",
              "    }\n",
              "</style>\n",
              "<table border=\"1\" class=\"dataframe\">\n",
              "  <thead>\n",
              "    <tr style=\"text-align: right;\">\n",
              "      <th></th>\n",
              "      <th>Feature Name</th>\n",
              "      <th>Linear Regression</th>\n",
              "      <th>Lasso</th>\n",
              "      <th>Ridge</th>\n",
              "      <th>Elastic Net</th>\n",
              "    </tr>\n",
              "  </thead>\n",
              "  <tbody>\n",
              "    <tr>\n",
              "      <th>0</th>\n",
              "      <td>CRIM</td>\n",
              "      <td>-0.298771</td>\n",
              "      <td>-0.000000</td>\n",
              "      <td>-0.288903</td>\n",
              "      <td>-0.000000</td>\n",
              "    </tr>\n",
              "    <tr>\n",
              "      <th>1</th>\n",
              "      <td>ZN</td>\n",
              "      <td>0.759257</td>\n",
              "      <td>0.000000</td>\n",
              "      <td>0.742092</td>\n",
              "      <td>0.000000</td>\n",
              "    </tr>\n",
              "    <tr>\n",
              "      <th>2</th>\n",
              "      <td>INDUS</td>\n",
              "      <td>0.288886</td>\n",
              "      <td>-0.000000</td>\n",
              "      <td>0.262506</td>\n",
              "      <td>-0.112192</td>\n",
              "    </tr>\n",
              "    <tr>\n",
              "      <th>3</th>\n",
              "      <td>CHAS</td>\n",
              "      <td>1.032671</td>\n",
              "      <td>0.340719</td>\n",
              "      <td>1.036135</td>\n",
              "      <td>0.635905</td>\n",
              "    </tr>\n",
              "    <tr>\n",
              "      <th>4</th>\n",
              "      <td>NOX</td>\n",
              "      <td>-2.118227</td>\n",
              "      <td>-0.000000</td>\n",
              "      <td>-2.076934</td>\n",
              "      <td>-0.202282</td>\n",
              "    </tr>\n",
              "    <tr>\n",
              "      <th>5</th>\n",
              "      <td>RM</td>\n",
              "      <td>2.956020</td>\n",
              "      <td>3.075163</td>\n",
              "      <td>2.969606</td>\n",
              "      <td>2.618869</td>\n",
              "    </tr>\n",
              "    <tr>\n",
              "      <th>6</th>\n",
              "      <td>AGE</td>\n",
              "      <td>0.325363</td>\n",
              "      <td>-0.000000</td>\n",
              "      <td>0.309942</td>\n",
              "      <td>-0.000000</td>\n",
              "    </tr>\n",
              "    <tr>\n",
              "      <th>7</th>\n",
              "      <td>DIS</td>\n",
              "      <td>-2.839544</td>\n",
              "      <td>-0.000000</td>\n",
              "      <td>-2.807758</td>\n",
              "      <td>-0.014043</td>\n",
              "    </tr>\n",
              "    <tr>\n",
              "      <th>8</th>\n",
              "      <td>RAD</td>\n",
              "      <td>2.362071</td>\n",
              "      <td>-0.000000</td>\n",
              "      <td>2.277344</td>\n",
              "      <td>-0.000000</td>\n",
              "    </tr>\n",
              "    <tr>\n",
              "      <th>9</th>\n",
              "      <td>TAX</td>\n",
              "      <td>-1.723557</td>\n",
              "      <td>-0.000000</td>\n",
              "      <td>-1.649841</td>\n",
              "      <td>-0.224970</td>\n",
              "    </tr>\n",
              "    <tr>\n",
              "      <th>10</th>\n",
              "      <td>PTRATIO</td>\n",
              "      <td>-2.203327</td>\n",
              "      <td>-1.231897</td>\n",
              "      <td>-2.191017</td>\n",
              "      <td>-1.333656</td>\n",
              "    </tr>\n",
              "    <tr>\n",
              "      <th>11</th>\n",
              "      <td>B</td>\n",
              "      <td>1.015733</td>\n",
              "      <td>0.172007</td>\n",
              "      <td>1.016695</td>\n",
              "      <td>0.590854</td>\n",
              "    </tr>\n",
              "    <tr>\n",
              "      <th>12</th>\n",
              "      <td>LSTAT</td>\n",
              "      <td>-4.067449</td>\n",
              "      <td>-3.480674</td>\n",
              "      <td>-4.046703</td>\n",
              "      <td>-2.496310</td>\n",
              "    </tr>\n",
              "    <tr>\n",
              "      <th>13</th>\n",
              "      <td>Noise_1</td>\n",
              "      <td>0.296619</td>\n",
              "      <td>0.000000</td>\n",
              "      <td>0.297147</td>\n",
              "      <td>0.000000</td>\n",
              "    </tr>\n",
              "    <tr>\n",
              "      <th>14</th>\n",
              "      <td>Noise_2</td>\n",
              "      <td>0.409994</td>\n",
              "      <td>0.000000</td>\n",
              "      <td>0.403430</td>\n",
              "      <td>0.000000</td>\n",
              "    </tr>\n",
              "    <tr>\n",
              "      <th>15</th>\n",
              "      <td>Noise_3</td>\n",
              "      <td>-0.219797</td>\n",
              "      <td>-0.000000</td>\n",
              "      <td>-0.221195</td>\n",
              "      <td>-0.000000</td>\n",
              "    </tr>\n",
              "    <tr>\n",
              "      <th>16</th>\n",
              "      <td>Noise_4</td>\n",
              "      <td>-0.089720</td>\n",
              "      <td>-0.000000</td>\n",
              "      <td>-0.087726</td>\n",
              "      <td>-0.000000</td>\n",
              "    </tr>\n",
              "    <tr>\n",
              "      <th>17</th>\n",
              "      <td>Noise_5</td>\n",
              "      <td>-0.271118</td>\n",
              "      <td>-0.000000</td>\n",
              "      <td>-0.269958</td>\n",
              "      <td>-0.000000</td>\n",
              "    </tr>\n",
              "  </tbody>\n",
              "</table>\n",
              "</div>"
            ],
            "text/plain": [
              "   Feature Name  Linear Regression     Lasso     Ridge  Elastic Net\n",
              "0          CRIM          -0.298771 -0.000000 -0.288903    -0.000000\n",
              "1            ZN           0.759257  0.000000  0.742092     0.000000\n",
              "2         INDUS           0.288886 -0.000000  0.262506    -0.112192\n",
              "3          CHAS           1.032671  0.340719  1.036135     0.635905\n",
              "4           NOX          -2.118227 -0.000000 -2.076934    -0.202282\n",
              "5            RM           2.956020  3.075163  2.969606     2.618869\n",
              "6           AGE           0.325363 -0.000000  0.309942    -0.000000\n",
              "7           DIS          -2.839544 -0.000000 -2.807758    -0.014043\n",
              "8           RAD           2.362071 -0.000000  2.277344    -0.000000\n",
              "9           TAX          -1.723557 -0.000000 -1.649841    -0.224970\n",
              "10      PTRATIO          -2.203327 -1.231897 -2.191017    -1.333656\n",
              "11            B           1.015733  0.172007  1.016695     0.590854\n",
              "12        LSTAT          -4.067449 -3.480674 -4.046703    -2.496310\n",
              "13      Noise_1           0.296619  0.000000  0.297147     0.000000\n",
              "14      Noise_2           0.409994  0.000000  0.403430     0.000000\n",
              "15      Noise_3          -0.219797 -0.000000 -0.221195    -0.000000\n",
              "16      Noise_4          -0.089720 -0.000000 -0.087726    -0.000000\n",
              "17      Noise_5          -0.271118 -0.000000 -0.269958    -0.000000"
            ]
          },
          "metadata": {
            "tags": []
          },
          "execution_count": 9
        }
      ]
    },
    {
      "cell_type": "markdown",
      "metadata": {
        "id": "vCaYnamIP5eN"
      },
      "source": [
        "### Decribe results"
      ]
    },
    {
      "cell_type": "markdown",
      "metadata": {
        "id": "BJRGjHfBP5eN"
      },
      "source": [
        "- We can see that linear regression assigned non-zero values to all 5 of our noise features, despite none of them having any predictive power. Interestingly, these noise features have coefficients with magnitudes similar to some of the real features in the dataset.\n",
        "- As we hoped, Lasso did a good job of reducing all 5 of our noise features to 0, as well as many of the real features from the dataset. This is indeed a much simpler model than given by linear regression\n",
        "- Ridge Regression makes a similar mistake that unregularized linear regression, assigning coefficient values to our noise features. We also see some features have very small coefficients.\n",
        "- Much like Lasso, Elastic Net makes the coefficients of several features 0. It however does not make as many coefficients 0 as Lasso does."
      ]
    },
    {
      "cell_type": "markdown",
      "metadata": {
        "id": "68pMwN4BP5eO"
      },
      "source": [
        "### Evaluate model scores"
      ]
    },
    {
      "cell_type": "code",
      "metadata": {
        "colab": {
          "base_uri": "https://localhost:8080/"
        },
        "id": "IeKI8A4qZpiy",
        "outputId": "0b8b4c7d-9ca2-4f1e-80d4-b06a34c81a19"
      },
      "source": [
        "# MODEL MSEs\r\n",
        "from sklearn.metrics import mean_squared_error\r\n",
        "\r\n",
        "for model in models:\r\n",
        "    y_test_predict = model[0].predict(X_test)\r\n",
        "    print(\"Mean Squared Error of {}: {:.2f}\".format(model[1], mean_squared_error(y_test, y_test_predict)))"
      ],
      "execution_count": 15,
      "outputs": [
        {
          "output_type": "stream",
          "text": [
            "Mean Squared Error of Linear Regression: 24.01\n",
            "Mean Squared Error of Lasso: 24.91\n",
            "Mean Squared Error of Ridge: 24.00\n",
            "Mean Squared Error of Elastic Net: 24.63\n"
          ],
          "name": "stdout"
        }
      ]
    },
    {
      "cell_type": "markdown",
      "metadata": {
        "id": "komlDuMgP5eO"
      },
      "source": [
        "This might seem counter-intuitive, but it is important to remember the ridge regression model traded some variance for bias, which ultimately lead to an overall smaller error. The Lasso and Elastic Net models traded a significant amount of variance for bias, and we see that our error has increased.\n",
        "Interestingly, Lasso and Elastic Net had a higher MSE than Linear Regression. But does that mean that these models are unequivocally worse? I would argue not, as the Lasso and Elastic Net models also performed feature selection, which gives us better interpretability of the models. Coefficients are interpreted as the change in dependent variable with a one unit increase in predictor value, with all other predictors held constant. In the case of complex models, the assumption of holding all other predictors constant cannot reasonably be met."
      ]
    },
    {
      "cell_type": "markdown",
      "metadata": {
        "id": "QzLlTv1eL-WB"
      },
      "source": [
        "## Varying Regularization Levels\r\n",
        "Fit models with different levels of regularization by varying the values of **alpha**, and describe how the parameters scores change\r\n",
        "\r\n",
        "* Complete the function and apply it to the following values: [0, .0001, .5, 10]\r\n",
        "* Describe the results"
      ]
    },
    {
      "cell_type": "markdown",
      "metadata": {
        "id": "uGEyFZxRP5eP"
      },
      "source": [
        "### Lasso"
      ]
    },
    {
      "cell_type": "code",
      "metadata": {
        "id": "3d3m1027P5eP"
      },
      "source": [
        "names = X.columns\n",
        "\n",
        "def lasso(alphas):\n",
        "    '''\n",
        "    Takes in a list of alphas. Outputs a dataframe containing the coefficients of lasso regressions from each alpha.\n",
        "    '''\n",
        "    df = pd.DataFrame()\n",
        "    df['Feature Name'] = names\n",
        "    \n",
        "    for alpha in alphas:\n",
        "        lasso = Lasso(alpha=alpha)\n",
        "        lasso.fit(X_scaled, y)\n",
        "        column_name = 'alpha= %.4f' % alpha\n",
        "        df[column_name] = lasso.coef_\n",
        "        \n",
        "    return df"
      ],
      "execution_count": 46,
      "outputs": []
    },
    {
      "cell_type": "code",
      "metadata": {
        "id": "BJPHSvw9P5eQ",
        "colab": {
          "base_uri": "https://localhost:8080/",
          "height": 729
        },
        "outputId": "14a960e5-c613-4979-a5be-cb127310c6ac"
      },
      "source": [
        "lasso([0, .0001, .5, 10])"
      ],
      "execution_count": 47,
      "outputs": [
        {
          "output_type": "stream",
          "text": [
            "/usr/local/lib/python3.6/dist-packages/ipykernel_launcher.py:12: UserWarning: With alpha=0, this algorithm does not converge well. You are advised to use the LinearRegression estimator\n",
            "  if sys.path[0] == '':\n",
            "/usr/local/lib/python3.6/dist-packages/sklearn/linear_model/_coordinate_descent.py:476: UserWarning: Coordinate descent with no regularization may lead to unexpected results and is discouraged.\n",
            "  positive)\n",
            "/usr/local/lib/python3.6/dist-packages/sklearn/linear_model/_coordinate_descent.py:476: ConvergenceWarning: Objective did not converge. You might want to increase the number of iterations. Duality gap: 5494.715375525261, tolerance: 4.2716295415019765\n",
            "  positive)\n"
          ],
          "name": "stderr"
        },
        {
          "output_type": "execute_result",
          "data": {
            "text/html": [
              "<div>\n",
              "<style scoped>\n",
              "    .dataframe tbody tr th:only-of-type {\n",
              "        vertical-align: middle;\n",
              "    }\n",
              "\n",
              "    .dataframe tbody tr th {\n",
              "        vertical-align: top;\n",
              "    }\n",
              "\n",
              "    .dataframe thead th {\n",
              "        text-align: right;\n",
              "    }\n",
              "</style>\n",
              "<table border=\"1\" class=\"dataframe\">\n",
              "  <thead>\n",
              "    <tr style=\"text-align: right;\">\n",
              "      <th></th>\n",
              "      <th>Feature Name</th>\n",
              "      <th>alpha= 0.0000</th>\n",
              "      <th>alpha= 0.0001</th>\n",
              "      <th>alpha= 0.5000</th>\n",
              "      <th>alpha= 10.0000</th>\n",
              "    </tr>\n",
              "  </thead>\n",
              "  <tbody>\n",
              "    <tr>\n",
              "      <th>0</th>\n",
              "      <td>CRIM</td>\n",
              "      <td>-0.970956</td>\n",
              "      <td>-0.970650</td>\n",
              "      <td>-0.115265</td>\n",
              "      <td>-0.0</td>\n",
              "    </tr>\n",
              "    <tr>\n",
              "      <th>1</th>\n",
              "      <td>ZN</td>\n",
              "      <td>1.085205</td>\n",
              "      <td>1.084723</td>\n",
              "      <td>0.000000</td>\n",
              "      <td>0.0</td>\n",
              "    </tr>\n",
              "    <tr>\n",
              "      <th>2</th>\n",
              "      <td>INDUS</td>\n",
              "      <td>0.162550</td>\n",
              "      <td>0.161602</td>\n",
              "      <td>-0.000000</td>\n",
              "      <td>-0.0</td>\n",
              "    </tr>\n",
              "    <tr>\n",
              "      <th>3</th>\n",
              "      <td>CHAS</td>\n",
              "      <td>0.692123</td>\n",
              "      <td>0.692144</td>\n",
              "      <td>0.397079</td>\n",
              "      <td>0.0</td>\n",
              "    </tr>\n",
              "    <tr>\n",
              "      <th>4</th>\n",
              "      <td>NOX</td>\n",
              "      <td>-2.081694</td>\n",
              "      <td>-2.080838</td>\n",
              "      <td>-0.000000</td>\n",
              "      <td>-0.0</td>\n",
              "    </tr>\n",
              "    <tr>\n",
              "      <th>5</th>\n",
              "      <td>RM</td>\n",
              "      <td>2.642885</td>\n",
              "      <td>2.643068</td>\n",
              "      <td>2.974259</td>\n",
              "      <td>0.0</td>\n",
              "    </tr>\n",
              "    <tr>\n",
              "      <th>6</th>\n",
              "      <td>AGE</td>\n",
              "      <td>0.060165</td>\n",
              "      <td>0.059707</td>\n",
              "      <td>-0.000000</td>\n",
              "      <td>-0.0</td>\n",
              "    </tr>\n",
              "    <tr>\n",
              "      <th>7</th>\n",
              "      <td>DIS</td>\n",
              "      <td>-3.103699</td>\n",
              "      <td>-3.103321</td>\n",
              "      <td>-0.170569</td>\n",
              "      <td>0.0</td>\n",
              "    </tr>\n",
              "    <tr>\n",
              "      <th>8</th>\n",
              "      <td>RAD</td>\n",
              "      <td>2.662255</td>\n",
              "      <td>2.660414</td>\n",
              "      <td>-0.000000</td>\n",
              "      <td>-0.0</td>\n",
              "    </tr>\n",
              "    <tr>\n",
              "      <th>9</th>\n",
              "      <td>TAX</td>\n",
              "      <td>-2.098670</td>\n",
              "      <td>-2.096860</td>\n",
              "      <td>-0.000000</td>\n",
              "      <td>-0.0</td>\n",
              "    </tr>\n",
              "    <tr>\n",
              "      <th>10</th>\n",
              "      <td>PTRATIO</td>\n",
              "      <td>-2.044880</td>\n",
              "      <td>-2.044661</td>\n",
              "      <td>-1.598449</td>\n",
              "      <td>-0.0</td>\n",
              "    </tr>\n",
              "    <tr>\n",
              "      <th>11</th>\n",
              "      <td>B</td>\n",
              "      <td>0.795999</td>\n",
              "      <td>0.795952</td>\n",
              "      <td>0.543139</td>\n",
              "      <td>0.0</td>\n",
              "    </tr>\n",
              "    <tr>\n",
              "      <th>12</th>\n",
              "      <td>LSTAT</td>\n",
              "      <td>-3.798198</td>\n",
              "      <td>-3.797966</td>\n",
              "      <td>-3.666144</td>\n",
              "      <td>-0.0</td>\n",
              "    </tr>\n",
              "    <tr>\n",
              "      <th>13</th>\n",
              "      <td>Noise_1</td>\n",
              "      <td>0.156179</td>\n",
              "      <td>0.156058</td>\n",
              "      <td>0.000000</td>\n",
              "      <td>0.0</td>\n",
              "    </tr>\n",
              "    <tr>\n",
              "      <th>14</th>\n",
              "      <td>Noise_2</td>\n",
              "      <td>0.244551</td>\n",
              "      <td>0.244392</td>\n",
              "      <td>0.000000</td>\n",
              "      <td>0.0</td>\n",
              "    </tr>\n",
              "    <tr>\n",
              "      <th>15</th>\n",
              "      <td>Noise_3</td>\n",
              "      <td>-0.096878</td>\n",
              "      <td>-0.096803</td>\n",
              "      <td>-0.000000</td>\n",
              "      <td>-0.0</td>\n",
              "    </tr>\n",
              "    <tr>\n",
              "      <th>16</th>\n",
              "      <td>Noise_4</td>\n",
              "      <td>0.041054</td>\n",
              "      <td>0.040971</td>\n",
              "      <td>0.000000</td>\n",
              "      <td>-0.0</td>\n",
              "    </tr>\n",
              "    <tr>\n",
              "      <th>17</th>\n",
              "      <td>Noise_5</td>\n",
              "      <td>-0.288286</td>\n",
              "      <td>-0.288186</td>\n",
              "      <td>-0.000000</td>\n",
              "      <td>-0.0</td>\n",
              "    </tr>\n",
              "  </tbody>\n",
              "</table>\n",
              "</div>"
            ],
            "text/plain": [
              "   Feature Name  alpha= 0.0000  alpha= 0.0001  alpha= 0.5000  alpha= 10.0000\n",
              "0          CRIM      -0.970956      -0.970650      -0.115265            -0.0\n",
              "1            ZN       1.085205       1.084723       0.000000             0.0\n",
              "2         INDUS       0.162550       0.161602      -0.000000            -0.0\n",
              "3          CHAS       0.692123       0.692144       0.397079             0.0\n",
              "4           NOX      -2.081694      -2.080838      -0.000000            -0.0\n",
              "5            RM       2.642885       2.643068       2.974259             0.0\n",
              "6           AGE       0.060165       0.059707      -0.000000            -0.0\n",
              "7           DIS      -3.103699      -3.103321      -0.170569             0.0\n",
              "8           RAD       2.662255       2.660414      -0.000000            -0.0\n",
              "9           TAX      -2.098670      -2.096860      -0.000000            -0.0\n",
              "10      PTRATIO      -2.044880      -2.044661      -1.598449            -0.0\n",
              "11            B       0.795999       0.795952       0.543139             0.0\n",
              "12        LSTAT      -3.798198      -3.797966      -3.666144            -0.0\n",
              "13      Noise_1       0.156179       0.156058       0.000000             0.0\n",
              "14      Noise_2       0.244551       0.244392       0.000000             0.0\n",
              "15      Noise_3      -0.096878      -0.096803      -0.000000            -0.0\n",
              "16      Noise_4       0.041054       0.040971       0.000000            -0.0\n",
              "17      Noise_5      -0.288286      -0.288186      -0.000000            -0.0"
            ]
          },
          "metadata": {
            "tags": []
          },
          "execution_count": 47
        }
      ]
    },
    {
      "cell_type": "markdown",
      "metadata": {
        "id": "jKvZzeT5F2QO"
      },
      "source": [
        "#### **Result : Lasso**\r\n",
        "\r\n",
        "**For Lasso Regression, the optimal alpha falls between .0001 and .5000. Up to $\\alpha$= .0001, the lasso regression still fit weights for the noise features. At $\\alpha$= .5, the noise (along with some other features) were reduced to zero weights. However, at $\\alpha$= 10.0 the regularization became to strong and all features were deemed unimportant.**"
      ]
    },
    {
      "cell_type": "markdown",
      "metadata": {
        "id": "htviX3D9P5eS"
      },
      "source": [
        "In practice, we will not manually look for the best alpha coefficient. Both in Lasso and ridge regression, the alpha is a hyperparameter. Therefore, we will find the best one via crossvalidation. Fortunately, sklearn has a function that performs CV to find the optimal alpha automatically. "
      ]
    },
    {
      "cell_type": "code",
      "metadata": {
        "id": "uRFc3rLAP5eT",
        "colab": {
          "base_uri": "https://localhost:8080/"
        },
        "outputId": "aebc129c-465e-4b56-9f2d-72a4eeddf51f"
      },
      "source": [
        "from sklearn.linear_model import LassoCV\n",
        "\n",
        "# Opted for leave-one-out (cv=none), with standardized data as above (fit X_scaled without normalization)  \n",
        "lasso_opt = LassoCV(cv = None, normalize=False).fit(X_scaled, y)\n",
        "lasso_opt.alpha_"
      ],
      "execution_count": 77,
      "outputs": [
        {
          "output_type": "execute_result",
          "data": {
            "text/plain": [
              "0.1565725898128637"
            ]
          },
          "metadata": {
            "tags": []
          },
          "execution_count": 77
        }
      ]
    },
    {
      "cell_type": "code",
      "metadata": {
        "colab": {
          "base_uri": "https://localhost:8080/",
          "height": 607
        },
        "id": "CvJpUsn9VPkT",
        "outputId": "bff404a5-3ed8-4161-9bd1-c8d71ff60b63"
      },
      "source": [
        "lasso([0.1565725898128637])"
      ],
      "execution_count": 102,
      "outputs": [
        {
          "output_type": "execute_result",
          "data": {
            "text/html": [
              "<div>\n",
              "<style scoped>\n",
              "    .dataframe tbody tr th:only-of-type {\n",
              "        vertical-align: middle;\n",
              "    }\n",
              "\n",
              "    .dataframe tbody tr th {\n",
              "        vertical-align: top;\n",
              "    }\n",
              "\n",
              "    .dataframe thead th {\n",
              "        text-align: right;\n",
              "    }\n",
              "</style>\n",
              "<table border=\"1\" class=\"dataframe\">\n",
              "  <thead>\n",
              "    <tr style=\"text-align: right;\">\n",
              "      <th></th>\n",
              "      <th>Feature Name</th>\n",
              "      <th>alpha= 0.1566</th>\n",
              "    </tr>\n",
              "  </thead>\n",
              "  <tbody>\n",
              "    <tr>\n",
              "      <th>0</th>\n",
              "      <td>CRIM</td>\n",
              "      <td>-0.466706</td>\n",
              "    </tr>\n",
              "    <tr>\n",
              "      <th>1</th>\n",
              "      <td>ZN</td>\n",
              "      <td>0.499231</td>\n",
              "    </tr>\n",
              "    <tr>\n",
              "      <th>2</th>\n",
              "      <td>INDUS</td>\n",
              "      <td>-0.062378</td>\n",
              "    </tr>\n",
              "    <tr>\n",
              "      <th>3</th>\n",
              "      <td>CHAS</td>\n",
              "      <td>0.642980</td>\n",
              "    </tr>\n",
              "    <tr>\n",
              "      <th>4</th>\n",
              "      <td>NOX</td>\n",
              "      <td>-1.302050</td>\n",
              "    </tr>\n",
              "    <tr>\n",
              "      <th>5</th>\n",
              "      <td>RM</td>\n",
              "      <td>2.902950</td>\n",
              "    </tr>\n",
              "    <tr>\n",
              "      <th>6</th>\n",
              "      <td>AGE</td>\n",
              "      <td>-0.000000</td>\n",
              "    </tr>\n",
              "    <tr>\n",
              "      <th>7</th>\n",
              "      <td>DIS</td>\n",
              "      <td>-2.026116</td>\n",
              "    </tr>\n",
              "    <tr>\n",
              "      <th>8</th>\n",
              "      <td>RAD</td>\n",
              "      <td>0.363541</td>\n",
              "    </tr>\n",
              "    <tr>\n",
              "      <th>9</th>\n",
              "      <td>TAX</td>\n",
              "      <td>-0.156927</td>\n",
              "    </tr>\n",
              "    <tr>\n",
              "      <th>10</th>\n",
              "      <td>PTRATIO</td>\n",
              "      <td>-1.846766</td>\n",
              "    </tr>\n",
              "    <tr>\n",
              "      <th>11</th>\n",
              "      <td>B</td>\n",
              "      <td>0.706693</td>\n",
              "    </tr>\n",
              "    <tr>\n",
              "      <th>12</th>\n",
              "      <td>LSTAT</td>\n",
              "      <td>-3.738695</td>\n",
              "    </tr>\n",
              "    <tr>\n",
              "      <th>13</th>\n",
              "      <td>Noise_1</td>\n",
              "      <td>0.015724</td>\n",
              "    </tr>\n",
              "    <tr>\n",
              "      <th>14</th>\n",
              "      <td>Noise_2</td>\n",
              "      <td>0.011118</td>\n",
              "    </tr>\n",
              "    <tr>\n",
              "      <th>15</th>\n",
              "      <td>Noise_3</td>\n",
              "      <td>-0.000000</td>\n",
              "    </tr>\n",
              "    <tr>\n",
              "      <th>16</th>\n",
              "      <td>Noise_4</td>\n",
              "      <td>0.000000</td>\n",
              "    </tr>\n",
              "    <tr>\n",
              "      <th>17</th>\n",
              "      <td>Noise_5</td>\n",
              "      <td>-0.159229</td>\n",
              "    </tr>\n",
              "  </tbody>\n",
              "</table>\n",
              "</div>"
            ],
            "text/plain": [
              "   Feature Name  alpha= 0.1566\n",
              "0          CRIM      -0.466706\n",
              "1            ZN       0.499231\n",
              "2         INDUS      -0.062378\n",
              "3          CHAS       0.642980\n",
              "4           NOX      -1.302050\n",
              "5            RM       2.902950\n",
              "6           AGE      -0.000000\n",
              "7           DIS      -2.026116\n",
              "8           RAD       0.363541\n",
              "9           TAX      -0.156927\n",
              "10      PTRATIO      -1.846766\n",
              "11            B       0.706693\n",
              "12        LSTAT      -3.738695\n",
              "13      Noise_1       0.015724\n",
              "14      Noise_2       0.011118\n",
              "15      Noise_3      -0.000000\n",
              "16      Noise_4       0.000000\n",
              "17      Noise_5      -0.159229"
            ]
          },
          "metadata": {
            "tags": []
          },
          "execution_count": 102
        }
      ]
    },
    {
      "cell_type": "code",
      "metadata": {
        "colab": {
          "base_uri": "https://localhost:8080/",
          "height": 607
        },
        "id": "KGEJKk6qV630",
        "outputId": "e6463b2b-0a42-46a0-e4dd-6c1517f35282"
      },
      "source": [
        "lasso([0.33])"
      ],
      "execution_count": 108,
      "outputs": [
        {
          "output_type": "execute_result",
          "data": {
            "text/html": [
              "<div>\n",
              "<style scoped>\n",
              "    .dataframe tbody tr th:only-of-type {\n",
              "        vertical-align: middle;\n",
              "    }\n",
              "\n",
              "    .dataframe tbody tr th {\n",
              "        vertical-align: top;\n",
              "    }\n",
              "\n",
              "    .dataframe thead th {\n",
              "        text-align: right;\n",
              "    }\n",
              "</style>\n",
              "<table border=\"1\" class=\"dataframe\">\n",
              "  <thead>\n",
              "    <tr style=\"text-align: right;\">\n",
              "      <th></th>\n",
              "      <th>Feature Name</th>\n",
              "      <th>alpha= 0.3300</th>\n",
              "    </tr>\n",
              "  </thead>\n",
              "  <tbody>\n",
              "    <tr>\n",
              "      <th>0</th>\n",
              "      <td>CRIM</td>\n",
              "      <td>-0.215009</td>\n",
              "    </tr>\n",
              "    <tr>\n",
              "      <th>1</th>\n",
              "      <td>ZN</td>\n",
              "      <td>0.000000</td>\n",
              "    </tr>\n",
              "    <tr>\n",
              "      <th>2</th>\n",
              "      <td>INDUS</td>\n",
              "      <td>-0.000000</td>\n",
              "    </tr>\n",
              "    <tr>\n",
              "      <th>3</th>\n",
              "      <td>CHAS</td>\n",
              "      <td>0.517036</td>\n",
              "    </tr>\n",
              "    <tr>\n",
              "      <th>4</th>\n",
              "      <td>NOX</td>\n",
              "      <td>-0.581669</td>\n",
              "    </tr>\n",
              "    <tr>\n",
              "      <th>5</th>\n",
              "      <td>RM</td>\n",
              "      <td>2.999991</td>\n",
              "    </tr>\n",
              "    <tr>\n",
              "      <th>6</th>\n",
              "      <td>AGE</td>\n",
              "      <td>-0.000000</td>\n",
              "    </tr>\n",
              "    <tr>\n",
              "      <th>7</th>\n",
              "      <td>DIS</td>\n",
              "      <td>-0.892479</td>\n",
              "    </tr>\n",
              "    <tr>\n",
              "      <th>8</th>\n",
              "      <td>RAD</td>\n",
              "      <td>0.000000</td>\n",
              "    </tr>\n",
              "    <tr>\n",
              "      <th>9</th>\n",
              "      <td>TAX</td>\n",
              "      <td>-0.000000</td>\n",
              "    </tr>\n",
              "    <tr>\n",
              "      <th>10</th>\n",
              "      <td>PTRATIO</td>\n",
              "      <td>-1.747801</td>\n",
              "    </tr>\n",
              "    <tr>\n",
              "      <th>11</th>\n",
              "      <td>B</td>\n",
              "      <td>0.615689</td>\n",
              "    </tr>\n",
              "    <tr>\n",
              "      <th>12</th>\n",
              "      <td>LSTAT</td>\n",
              "      <td>-3.701099</td>\n",
              "    </tr>\n",
              "    <tr>\n",
              "      <th>13</th>\n",
              "      <td>Noise_1</td>\n",
              "      <td>0.000000</td>\n",
              "    </tr>\n",
              "    <tr>\n",
              "      <th>14</th>\n",
              "      <td>Noise_2</td>\n",
              "      <td>0.000000</td>\n",
              "    </tr>\n",
              "    <tr>\n",
              "      <th>15</th>\n",
              "      <td>Noise_3</td>\n",
              "      <td>-0.000000</td>\n",
              "    </tr>\n",
              "    <tr>\n",
              "      <th>16</th>\n",
              "      <td>Noise_4</td>\n",
              "      <td>0.000000</td>\n",
              "    </tr>\n",
              "    <tr>\n",
              "      <th>17</th>\n",
              "      <td>Noise_5</td>\n",
              "      <td>-0.000000</td>\n",
              "    </tr>\n",
              "  </tbody>\n",
              "</table>\n",
              "</div>"
            ],
            "text/plain": [
              "   Feature Name  alpha= 0.3300\n",
              "0          CRIM      -0.215009\n",
              "1            ZN       0.000000\n",
              "2         INDUS      -0.000000\n",
              "3          CHAS       0.517036\n",
              "4           NOX      -0.581669\n",
              "5            RM       2.999991\n",
              "6           AGE      -0.000000\n",
              "7           DIS      -0.892479\n",
              "8           RAD       0.000000\n",
              "9           TAX      -0.000000\n",
              "10      PTRATIO      -1.747801\n",
              "11            B       0.615689\n",
              "12        LSTAT      -3.701099\n",
              "13      Noise_1       0.000000\n",
              "14      Noise_2       0.000000\n",
              "15      Noise_3      -0.000000\n",
              "16      Noise_4       0.000000\n",
              "17      Noise_5      -0.000000"
            ]
          },
          "metadata": {
            "tags": []
          },
          "execution_count": 108
        }
      ]
    },
    {
      "cell_type": "markdown",
      "metadata": {
        "id": "DjOhXNb8Vjle"
      },
      "source": [
        "#### **Result : LassoCV**\r\n",
        "\r\n",
        "**Interestingly, the optimal alpha given by LassoCV isn't strong enough to eliminate all the noises -- in this case I'd go for a stronger regularization e.g. $\\alpha$= .33 with some manual trial and error.**"
      ]
    },
    {
      "cell_type": "markdown",
      "metadata": {
        "id": "jhO8U-oHNY7m"
      },
      "source": [
        "### Ridge"
      ]
    },
    {
      "cell_type": "code",
      "metadata": {
        "id": "BycXXJZoP5eR"
      },
      "source": [
        "names = X.columns\n",
        "\n",
        "def ridge(alphas):\n",
        "    '''\n",
        "    Takes in a list of alphas. Outputs a dataframe containing the coefficients of ridge regressions from each alpha.\n",
        "    '''\n",
        "    df = pd.DataFrame()\n",
        "    df['Feature Name'] = names\n",
        "\n",
        "    for alpha in alphas:\n",
        "        ridge = Ridge(alpha= alpha)\n",
        "        ridge.fit(X_scaled, y)\n",
        "        column_name = 'alpha= %.4f' % alpha\n",
        "        df[column_name] = ridge.coef_\n",
        "        \n",
        "    return df"
      ],
      "execution_count": 49,
      "outputs": []
    },
    {
      "cell_type": "code",
      "metadata": {
        "id": "3XXSdX92P5eR",
        "colab": {
          "base_uri": "https://localhost:8080/",
          "height": 607
        },
        "outputId": "6a8d5d16-30e0-4f6c-e732-da1ab49d186b"
      },
      "source": [
        "ridge([0, .0001, .5, 10])"
      ],
      "execution_count": 50,
      "outputs": [
        {
          "output_type": "execute_result",
          "data": {
            "text/html": [
              "<div>\n",
              "<style scoped>\n",
              "    .dataframe tbody tr th:only-of-type {\n",
              "        vertical-align: middle;\n",
              "    }\n",
              "\n",
              "    .dataframe tbody tr th {\n",
              "        vertical-align: top;\n",
              "    }\n",
              "\n",
              "    .dataframe thead th {\n",
              "        text-align: right;\n",
              "    }\n",
              "</style>\n",
              "<table border=\"1\" class=\"dataframe\">\n",
              "  <thead>\n",
              "    <tr style=\"text-align: right;\">\n",
              "      <th></th>\n",
              "      <th>Feature Name</th>\n",
              "      <th>alpha= 0.0000</th>\n",
              "      <th>alpha= 0.0001</th>\n",
              "      <th>alpha= 0.5000</th>\n",
              "      <th>alpha= 10.0000</th>\n",
              "    </tr>\n",
              "  </thead>\n",
              "  <tbody>\n",
              "    <tr>\n",
              "      <th>0</th>\n",
              "      <td>CRIM</td>\n",
              "      <td>-0.970956</td>\n",
              "      <td>-0.970955</td>\n",
              "      <td>-0.966527</td>\n",
              "      <td>-0.897682</td>\n",
              "    </tr>\n",
              "    <tr>\n",
              "      <th>1</th>\n",
              "      <td>ZN</td>\n",
              "      <td>1.085205</td>\n",
              "      <td>1.085204</td>\n",
              "      <td>1.077303</td>\n",
              "      <td>0.954201</td>\n",
              "    </tr>\n",
              "    <tr>\n",
              "      <th>2</th>\n",
              "      <td>INDUS</td>\n",
              "      <td>0.162550</td>\n",
              "      <td>0.162548</td>\n",
              "      <td>0.150443</td>\n",
              "      <td>-0.022181</td>\n",
              "    </tr>\n",
              "    <tr>\n",
              "      <th>3</th>\n",
              "      <td>CHAS</td>\n",
              "      <td>0.692123</td>\n",
              "      <td>0.692123</td>\n",
              "      <td>0.693779</td>\n",
              "      <td>0.716778</td>\n",
              "    </tr>\n",
              "    <tr>\n",
              "      <th>4</th>\n",
              "      <td>NOX</td>\n",
              "      <td>-2.081694</td>\n",
              "      <td>-2.081691</td>\n",
              "      <td>-2.067339</td>\n",
              "      <td>-1.831075</td>\n",
              "    </tr>\n",
              "    <tr>\n",
              "      <th>5</th>\n",
              "      <td>RM</td>\n",
              "      <td>2.642885</td>\n",
              "      <td>2.642886</td>\n",
              "      <td>2.647491</td>\n",
              "      <td>2.715980</td>\n",
              "    </tr>\n",
              "    <tr>\n",
              "      <th>6</th>\n",
              "      <td>AGE</td>\n",
              "      <td>0.060165</td>\n",
              "      <td>0.060164</td>\n",
              "      <td>0.056592</td>\n",
              "      <td>0.001772</td>\n",
              "    </tr>\n",
              "    <tr>\n",
              "      <th>7</th>\n",
              "      <td>DIS</td>\n",
              "      <td>-3.103699</td>\n",
              "      <td>-3.103696</td>\n",
              "      <td>-3.090005</td>\n",
              "      <td>-2.851653</td>\n",
              "    </tr>\n",
              "    <tr>\n",
              "      <th>8</th>\n",
              "      <td>RAD</td>\n",
              "      <td>2.662255</td>\n",
              "      <td>2.662248</td>\n",
              "      <td>2.626060</td>\n",
              "      <td>2.092719</td>\n",
              "    </tr>\n",
              "    <tr>\n",
              "      <th>9</th>\n",
              "      <td>TAX</td>\n",
              "      <td>-2.098670</td>\n",
              "      <td>-2.098663</td>\n",
              "      <td>-2.064802</td>\n",
              "      <td>-1.584472</td>\n",
              "    </tr>\n",
              "    <tr>\n",
              "      <th>10</th>\n",
              "      <td>PTRATIO</td>\n",
              "      <td>-2.044880</td>\n",
              "      <td>-2.044879</td>\n",
              "      <td>-2.040792</td>\n",
              "      <td>-1.973012</td>\n",
              "    </tr>\n",
              "    <tr>\n",
              "      <th>11</th>\n",
              "      <td>B</td>\n",
              "      <td>0.795999</td>\n",
              "      <td>0.795999</td>\n",
              "      <td>0.796014</td>\n",
              "      <td>0.795535</td>\n",
              "    </tr>\n",
              "    <tr>\n",
              "      <th>12</th>\n",
              "      <td>LSTAT</td>\n",
              "      <td>-3.798198</td>\n",
              "      <td>-3.798196</td>\n",
              "      <td>-3.791276</td>\n",
              "      <td>-3.671185</td>\n",
              "    </tr>\n",
              "    <tr>\n",
              "      <th>13</th>\n",
              "      <td>Noise_1</td>\n",
              "      <td>0.156179</td>\n",
              "      <td>0.156179</td>\n",
              "      <td>0.156088</td>\n",
              "      <td>0.156221</td>\n",
              "    </tr>\n",
              "    <tr>\n",
              "      <th>14</th>\n",
              "      <td>Noise_2</td>\n",
              "      <td>0.244551</td>\n",
              "      <td>0.244551</td>\n",
              "      <td>0.243143</td>\n",
              "      <td>0.219236</td>\n",
              "    </tr>\n",
              "    <tr>\n",
              "      <th>15</th>\n",
              "      <td>Noise_3</td>\n",
              "      <td>-0.096878</td>\n",
              "      <td>-0.096878</td>\n",
              "      <td>-0.097454</td>\n",
              "      <td>-0.107115</td>\n",
              "    </tr>\n",
              "    <tr>\n",
              "      <th>16</th>\n",
              "      <td>Noise_4</td>\n",
              "      <td>0.041054</td>\n",
              "      <td>0.041054</td>\n",
              "      <td>0.041191</td>\n",
              "      <td>0.043269</td>\n",
              "    </tr>\n",
              "    <tr>\n",
              "      <th>17</th>\n",
              "      <td>Noise_5</td>\n",
              "      <td>-0.288286</td>\n",
              "      <td>-0.288286</td>\n",
              "      <td>-0.288061</td>\n",
              "      <td>-0.283450</td>\n",
              "    </tr>\n",
              "  </tbody>\n",
              "</table>\n",
              "</div>"
            ],
            "text/plain": [
              "   Feature Name  alpha= 0.0000  alpha= 0.0001  alpha= 0.5000  alpha= 10.0000\n",
              "0          CRIM      -0.970956      -0.970955      -0.966527       -0.897682\n",
              "1            ZN       1.085205       1.085204       1.077303        0.954201\n",
              "2         INDUS       0.162550       0.162548       0.150443       -0.022181\n",
              "3          CHAS       0.692123       0.692123       0.693779        0.716778\n",
              "4           NOX      -2.081694      -2.081691      -2.067339       -1.831075\n",
              "5            RM       2.642885       2.642886       2.647491        2.715980\n",
              "6           AGE       0.060165       0.060164       0.056592        0.001772\n",
              "7           DIS      -3.103699      -3.103696      -3.090005       -2.851653\n",
              "8           RAD       2.662255       2.662248       2.626060        2.092719\n",
              "9           TAX      -2.098670      -2.098663      -2.064802       -1.584472\n",
              "10      PTRATIO      -2.044880      -2.044879      -2.040792       -1.973012\n",
              "11            B       0.795999       0.795999       0.796014        0.795535\n",
              "12        LSTAT      -3.798198      -3.798196      -3.791276       -3.671185\n",
              "13      Noise_1       0.156179       0.156179       0.156088        0.156221\n",
              "14      Noise_2       0.244551       0.244551       0.243143        0.219236\n",
              "15      Noise_3      -0.096878      -0.096878      -0.097454       -0.107115\n",
              "16      Noise_4       0.041054       0.041054       0.041191        0.043269\n",
              "17      Noise_5      -0.288286      -0.288286      -0.288061       -0.283450"
            ]
          },
          "metadata": {
            "tags": []
          },
          "execution_count": 50
        }
      ]
    },
    {
      "cell_type": "code",
      "metadata": {
        "colab": {
          "base_uri": "https://localhost:8080/"
        },
        "id": "VT3PQ4x5Nshc",
        "outputId": "3df96f51-56e3-4cbd-83e6-0a7b6817a264"
      },
      "source": [
        "from sklearn.linear_model import RidgeCV\r\n",
        "\r\n",
        "# Opted for leave-one-out (cv=none), with standardized data as above (fit X_scaled without normalization)  \r\n",
        "ridge_opt = RidgeCV(alphas=(.0001, .5, 1, 10.0), cv= None, normalize= False).fit(X_scaled, y)\r\n",
        "ridge_opt.alpha_"
      ],
      "execution_count": 73,
      "outputs": [
        {
          "output_type": "execute_result",
          "data": {
            "text/plain": [
              "1.0"
            ]
          },
          "metadata": {
            "tags": []
          },
          "execution_count": 73
        }
      ]
    },
    {
      "cell_type": "markdown",
      "metadata": {
        "id": "-eJRXuMDIuNn"
      },
      "source": [
        "#### **Result : Ridge**\r\n",
        "\r\n",
        "**For Ridge Regression, the alpha values we tried did not make much difference on the result -- and it doesn't help us narrow down the feature selection. For this particular data, where there are a few features making an impact, Lasso is better as it helps us focus on these important features (by suppressing the less important ones).**"
      ]
    },
    {
      "cell_type": "markdown",
      "metadata": {
        "id": "ne2pSUk9O23w"
      },
      "source": [
        "### ElasticNet"
      ]
    },
    {
      "cell_type": "code",
      "metadata": {
        "id": "Hv9M86KIO4BL"
      },
      "source": [
        "names = X.columns\r\n",
        "\r\n",
        "def elasticnet(alphas, l1_ratio=.5):\r\n",
        "    '''\r\n",
        "    Takes in a list of alphas and l1_ratio (with default value = .5, or similar importance between l1 and l2) \r\n",
        "    Outputs a dataframe containing the coefficients of ridge regressions from each alpha.\r\n",
        "    '''\r\n",
        "    df = pd.DataFrame()\r\n",
        "    df['Feature Name'] = names\r\n",
        "    \r\n",
        "    for alpha in alphas:\r\n",
        "        elast = ElasticNet(alpha= alpha, l1_ratio= l1_ratio)\r\n",
        "\r\n",
        "        # Fit the lasso regression\r\n",
        "        elast.fit(X_scaled, y)\r\n",
        "        \r\n",
        "        # Create a column name for that alpha value\r\n",
        "        column_name = 'alpha= %.4f' % alpha\r\n",
        "\r\n",
        "        # Create a column of coefficient values\r\n",
        "        df[column_name] = elast.coef_\r\n",
        "        \r\n",
        "    # Return the dataframe  \r\n",
        "    return df"
      ],
      "execution_count": 112,
      "outputs": []
    },
    {
      "cell_type": "code",
      "metadata": {
        "colab": {
          "base_uri": "https://localhost:8080/",
          "height": 729
        },
        "id": "H18NkXUOPjGd",
        "outputId": "d675001c-733f-44c7-e23e-718b45cf1c29"
      },
      "source": [
        "elasticnet([0, .0001, .5, 10])"
      ],
      "execution_count": 110,
      "outputs": [
        {
          "output_type": "stream",
          "text": [
            "/usr/local/lib/python3.6/dist-packages/ipykernel_launcher.py:14: UserWarning: With alpha=0, this algorithm does not converge well. You are advised to use the LinearRegression estimator\n",
            "  \n",
            "/usr/local/lib/python3.6/dist-packages/sklearn/linear_model/_coordinate_descent.py:476: UserWarning: Coordinate descent with no regularization may lead to unexpected results and is discouraged.\n",
            "  positive)\n",
            "/usr/local/lib/python3.6/dist-packages/sklearn/linear_model/_coordinate_descent.py:476: ConvergenceWarning: Objective did not converge. You might want to increase the number of iterations. Duality gap: 5494.715375525261, tolerance: 4.2716295415019765\n",
            "  positive)\n"
          ],
          "name": "stderr"
        },
        {
          "output_type": "execute_result",
          "data": {
            "text/html": [
              "<div>\n",
              "<style scoped>\n",
              "    .dataframe tbody tr th:only-of-type {\n",
              "        vertical-align: middle;\n",
              "    }\n",
              "\n",
              "    .dataframe tbody tr th {\n",
              "        vertical-align: top;\n",
              "    }\n",
              "\n",
              "    .dataframe thead th {\n",
              "        text-align: right;\n",
              "    }\n",
              "</style>\n",
              "<table border=\"1\" class=\"dataframe\">\n",
              "  <thead>\n",
              "    <tr style=\"text-align: right;\">\n",
              "      <th></th>\n",
              "      <th>Feature Name</th>\n",
              "      <th>alpha= 0.0000</th>\n",
              "      <th>alpha= 0.0001</th>\n",
              "      <th>alpha= 0.5000</th>\n",
              "      <th>alpha= 10.0000</th>\n",
              "    </tr>\n",
              "  </thead>\n",
              "  <tbody>\n",
              "    <tr>\n",
              "      <th>0</th>\n",
              "      <td>CRIM</td>\n",
              "      <td>-0.970956</td>\n",
              "      <td>-0.970577</td>\n",
              "      <td>-0.402214</td>\n",
              "      <td>-0.000000</td>\n",
              "    </tr>\n",
              "    <tr>\n",
              "      <th>1</th>\n",
              "      <td>ZN</td>\n",
              "      <td>1.085205</td>\n",
              "      <td>1.084561</td>\n",
              "      <td>0.239731</td>\n",
              "      <td>0.000000</td>\n",
              "    </tr>\n",
              "    <tr>\n",
              "      <th>2</th>\n",
              "      <td>INDUS</td>\n",
              "      <td>0.162550</td>\n",
              "      <td>0.161453</td>\n",
              "      <td>-0.267574</td>\n",
              "      <td>-0.000000</td>\n",
              "    </tr>\n",
              "    <tr>\n",
              "      <th>3</th>\n",
              "      <td>CHAS</td>\n",
              "      <td>0.692123</td>\n",
              "      <td>0.692219</td>\n",
              "      <td>0.575125</td>\n",
              "      <td>0.000000</td>\n",
              "    </tr>\n",
              "    <tr>\n",
              "      <th>4</th>\n",
              "      <td>NOX</td>\n",
              "      <td>-2.081694</td>\n",
              "      <td>-2.080534</td>\n",
              "      <td>-0.490773</td>\n",
              "      <td>-0.000000</td>\n",
              "    </tr>\n",
              "    <tr>\n",
              "      <th>5</th>\n",
              "      <td>RM</td>\n",
              "      <td>2.642885</td>\n",
              "      <td>2.643212</td>\n",
              "      <td>2.721574</td>\n",
              "      <td>0.203314</td>\n",
              "    </tr>\n",
              "    <tr>\n",
              "      <th>6</th>\n",
              "      <td>AGE</td>\n",
              "      <td>0.060165</td>\n",
              "      <td>0.059754</td>\n",
              "      <td>-0.000000</td>\n",
              "      <td>-0.000000</td>\n",
              "    </tr>\n",
              "    <tr>\n",
              "      <th>7</th>\n",
              "      <td>DIS</td>\n",
              "      <td>-3.103699</td>\n",
              "      <td>-3.102815</td>\n",
              "      <td>-0.712458</td>\n",
              "      <td>0.000000</td>\n",
              "    </tr>\n",
              "    <tr>\n",
              "      <th>8</th>\n",
              "      <td>RAD</td>\n",
              "      <td>2.662255</td>\n",
              "      <td>2.659478</td>\n",
              "      <td>0.000000</td>\n",
              "      <td>-0.000000</td>\n",
              "    </tr>\n",
              "    <tr>\n",
              "      <th>9</th>\n",
              "      <td>TAX</td>\n",
              "      <td>-2.098670</td>\n",
              "      <td>-2.096025</td>\n",
              "      <td>-0.235678</td>\n",
              "      <td>-0.000000</td>\n",
              "    </tr>\n",
              "    <tr>\n",
              "      <th>10</th>\n",
              "      <td>PTRATIO</td>\n",
              "      <td>-2.044880</td>\n",
              "      <td>-2.044562</td>\n",
              "      <td>-1.490620</td>\n",
              "      <td>-0.000000</td>\n",
              "    </tr>\n",
              "    <tr>\n",
              "      <th>11</th>\n",
              "      <td>B</td>\n",
              "      <td>0.795999</td>\n",
              "      <td>0.795976</td>\n",
              "      <td>0.608814</td>\n",
              "      <td>0.000000</td>\n",
              "    </tr>\n",
              "    <tr>\n",
              "      <th>12</th>\n",
              "      <td>LSTAT</td>\n",
              "      <td>-3.798198</td>\n",
              "      <td>-3.797730</td>\n",
              "      <td>-2.831583</td>\n",
              "      <td>-0.275476</td>\n",
              "    </tr>\n",
              "    <tr>\n",
              "      <th>13</th>\n",
              "      <td>Noise_1</td>\n",
              "      <td>0.156179</td>\n",
              "      <td>0.156114</td>\n",
              "      <td>0.000000</td>\n",
              "      <td>0.000000</td>\n",
              "    </tr>\n",
              "    <tr>\n",
              "      <th>14</th>\n",
              "      <td>Noise_2</td>\n",
              "      <td>0.244551</td>\n",
              "      <td>0.244400</td>\n",
              "      <td>0.000000</td>\n",
              "      <td>0.000000</td>\n",
              "    </tr>\n",
              "    <tr>\n",
              "      <th>15</th>\n",
              "      <td>Noise_3</td>\n",
              "      <td>-0.096878</td>\n",
              "      <td>-0.096870</td>\n",
              "      <td>-0.000000</td>\n",
              "      <td>-0.000000</td>\n",
              "    </tr>\n",
              "    <tr>\n",
              "      <th>16</th>\n",
              "      <td>Noise_4</td>\n",
              "      <td>0.041054</td>\n",
              "      <td>0.041020</td>\n",
              "      <td>0.000000</td>\n",
              "      <td>-0.000000</td>\n",
              "    </tr>\n",
              "    <tr>\n",
              "      <th>17</th>\n",
              "      <td>Noise_5</td>\n",
              "      <td>-0.288286</td>\n",
              "      <td>-0.288225</td>\n",
              "      <td>-0.027247</td>\n",
              "      <td>-0.000000</td>\n",
              "    </tr>\n",
              "  </tbody>\n",
              "</table>\n",
              "</div>"
            ],
            "text/plain": [
              "   Feature Name  alpha= 0.0000  alpha= 0.0001  alpha= 0.5000  alpha= 10.0000\n",
              "0          CRIM      -0.970956      -0.970577      -0.402214       -0.000000\n",
              "1            ZN       1.085205       1.084561       0.239731        0.000000\n",
              "2         INDUS       0.162550       0.161453      -0.267574       -0.000000\n",
              "3          CHAS       0.692123       0.692219       0.575125        0.000000\n",
              "4           NOX      -2.081694      -2.080534      -0.490773       -0.000000\n",
              "5            RM       2.642885       2.643212       2.721574        0.203314\n",
              "6           AGE       0.060165       0.059754      -0.000000       -0.000000\n",
              "7           DIS      -3.103699      -3.102815      -0.712458        0.000000\n",
              "8           RAD       2.662255       2.659478       0.000000       -0.000000\n",
              "9           TAX      -2.098670      -2.096025      -0.235678       -0.000000\n",
              "10      PTRATIO      -2.044880      -2.044562      -1.490620       -0.000000\n",
              "11            B       0.795999       0.795976       0.608814        0.000000\n",
              "12        LSTAT      -3.798198      -3.797730      -2.831583       -0.275476\n",
              "13      Noise_1       0.156179       0.156114       0.000000        0.000000\n",
              "14      Noise_2       0.244551       0.244400       0.000000        0.000000\n",
              "15      Noise_3      -0.096878      -0.096870      -0.000000       -0.000000\n",
              "16      Noise_4       0.041054       0.041020       0.000000       -0.000000\n",
              "17      Noise_5      -0.288286      -0.288225      -0.027247       -0.000000"
            ]
          },
          "metadata": {
            "tags": []
          },
          "execution_count": 110
        }
      ]
    },
    {
      "cell_type": "code",
      "metadata": {
        "colab": {
          "base_uri": "https://localhost:8080/"
        },
        "id": "uefw-dlHUmSg",
        "outputId": "6575311d-46ec-4086-fabe-9cabe95772ae"
      },
      "source": [
        "from sklearn.linear_model import ElasticNetCV\r\n",
        "\r\n",
        "# Opted for leave-one-out (cv=none), with standardized data as above (fit X_scaled without normalization)  \r\n",
        "elast_opt = ElasticNetCV(l1_ratio=[.01, .1, .25, .5, .75, .9, .99, 1], cv= None, normalize=False).fit(X_scaled, y)\r\n",
        "print(elast_opt.alpha_)\r\n",
        "print(elast_opt.l1_ratio_)"
      ],
      "execution_count": 93,
      "outputs": [
        {
          "output_type": "stream",
          "text": [
            "0.19303000683678914\n",
            "0.1\n"
          ],
          "name": "stdout"
        }
      ]
    },
    {
      "cell_type": "code",
      "metadata": {
        "colab": {
          "base_uri": "https://localhost:8080/",
          "height": 607
        },
        "id": "Y8WKnd-gUcCl",
        "outputId": "56b0cc27-5307-4e97-bbf7-1db0d4619023"
      },
      "source": [
        "elasticnet([0.19303000683678914], .1)"
      ],
      "execution_count": 111,
      "outputs": [
        {
          "output_type": "execute_result",
          "data": {
            "text/html": [
              "<div>\n",
              "<style scoped>\n",
              "    .dataframe tbody tr th:only-of-type {\n",
              "        vertical-align: middle;\n",
              "    }\n",
              "\n",
              "    .dataframe tbody tr th {\n",
              "        vertical-align: top;\n",
              "    }\n",
              "\n",
              "    .dataframe thead th {\n",
              "        text-align: right;\n",
              "    }\n",
              "</style>\n",
              "<table border=\"1\" class=\"dataframe\">\n",
              "  <thead>\n",
              "    <tr style=\"text-align: right;\">\n",
              "      <th></th>\n",
              "      <th>Feature Name</th>\n",
              "      <th>alpha= 0.1930</th>\n",
              "    </tr>\n",
              "  </thead>\n",
              "  <tbody>\n",
              "    <tr>\n",
              "      <th>0</th>\n",
              "      <td>CRIM</td>\n",
              "      <td>-0.660869</td>\n",
              "    </tr>\n",
              "    <tr>\n",
              "      <th>1</th>\n",
              "      <td>ZN</td>\n",
              "      <td>0.563284</td>\n",
              "    </tr>\n",
              "    <tr>\n",
              "      <th>2</th>\n",
              "      <td>INDUS</td>\n",
              "      <td>-0.365328</td>\n",
              "    </tr>\n",
              "    <tr>\n",
              "      <th>3</th>\n",
              "      <td>CHAS</td>\n",
              "      <td>0.729678</td>\n",
              "    </tr>\n",
              "    <tr>\n",
              "      <th>4</th>\n",
              "      <td>NOX</td>\n",
              "      <td>-0.952684</td>\n",
              "    </tr>\n",
              "    <tr>\n",
              "      <th>5</th>\n",
              "      <td>RM</td>\n",
              "      <td>2.787811</td>\n",
              "    </tr>\n",
              "    <tr>\n",
              "      <th>6</th>\n",
              "      <td>AGE</td>\n",
              "      <td>-0.127436</td>\n",
              "    </tr>\n",
              "    <tr>\n",
              "      <th>7</th>\n",
              "      <td>DIS</td>\n",
              "      <td>-1.696627</td>\n",
              "    </tr>\n",
              "    <tr>\n",
              "      <th>8</th>\n",
              "      <td>RAD</td>\n",
              "      <td>0.675857</td>\n",
              "    </tr>\n",
              "    <tr>\n",
              "      <th>9</th>\n",
              "      <td>TAX</td>\n",
              "      <td>-0.601441</td>\n",
              "    </tr>\n",
              "    <tr>\n",
              "      <th>10</th>\n",
              "      <td>PTRATIO</td>\n",
              "      <td>-1.668812</td>\n",
              "    </tr>\n",
              "    <tr>\n",
              "      <th>11</th>\n",
              "      <td>B</td>\n",
              "      <td>0.747200</td>\n",
              "    </tr>\n",
              "    <tr>\n",
              "      <th>12</th>\n",
              "      <td>LSTAT</td>\n",
              "      <td>-3.048537</td>\n",
              "    </tr>\n",
              "    <tr>\n",
              "      <th>13</th>\n",
              "      <td>Noise_1</td>\n",
              "      <td>0.155078</td>\n",
              "    </tr>\n",
              "    <tr>\n",
              "      <th>14</th>\n",
              "      <td>Noise_2</td>\n",
              "      <td>0.101334</td>\n",
              "    </tr>\n",
              "    <tr>\n",
              "      <th>15</th>\n",
              "      <td>Noise_3</td>\n",
              "      <td>-0.129966</td>\n",
              "    </tr>\n",
              "    <tr>\n",
              "      <th>16</th>\n",
              "      <td>Noise_4</td>\n",
              "      <td>0.022305</td>\n",
              "    </tr>\n",
              "    <tr>\n",
              "      <th>17</th>\n",
              "      <td>Noise_5</td>\n",
              "      <td>-0.226617</td>\n",
              "    </tr>\n",
              "  </tbody>\n",
              "</table>\n",
              "</div>"
            ],
            "text/plain": [
              "   Feature Name  alpha= 0.1930\n",
              "0          CRIM      -0.660869\n",
              "1            ZN       0.563284\n",
              "2         INDUS      -0.365328\n",
              "3          CHAS       0.729678\n",
              "4           NOX      -0.952684\n",
              "5            RM       2.787811\n",
              "6           AGE      -0.127436\n",
              "7           DIS      -1.696627\n",
              "8           RAD       0.675857\n",
              "9           TAX      -0.601441\n",
              "10      PTRATIO      -1.668812\n",
              "11            B       0.747200\n",
              "12        LSTAT      -3.048537\n",
              "13      Noise_1       0.155078\n",
              "14      Noise_2       0.101334\n",
              "15      Noise_3      -0.129966\n",
              "16      Noise_4       0.022305\n",
              "17      Noise_5      -0.226617"
            ]
          },
          "metadata": {
            "tags": []
          },
          "execution_count": 111
        }
      ]
    },
    {
      "cell_type": "code",
      "metadata": {
        "colab": {
          "base_uri": "https://localhost:8080/",
          "height": 607
        },
        "id": "Wp-3v9vqX2QK",
        "outputId": "853505fd-f84a-4031-bea0-965d99e6e6e6"
      },
      "source": [
        "elasticnet([0.5], .8)"
      ],
      "execution_count": 130,
      "outputs": [
        {
          "output_type": "execute_result",
          "data": {
            "text/html": [
              "<div>\n",
              "<style scoped>\n",
              "    .dataframe tbody tr th:only-of-type {\n",
              "        vertical-align: middle;\n",
              "    }\n",
              "\n",
              "    .dataframe tbody tr th {\n",
              "        vertical-align: top;\n",
              "    }\n",
              "\n",
              "    .dataframe thead th {\n",
              "        text-align: right;\n",
              "    }\n",
              "</style>\n",
              "<table border=\"1\" class=\"dataframe\">\n",
              "  <thead>\n",
              "    <tr style=\"text-align: right;\">\n",
              "      <th></th>\n",
              "      <th>Feature Name</th>\n",
              "      <th>alpha= 0.5000</th>\n",
              "    </tr>\n",
              "  </thead>\n",
              "  <tbody>\n",
              "    <tr>\n",
              "      <th>0</th>\n",
              "      <td>CRIM</td>\n",
              "      <td>-0.256338</td>\n",
              "    </tr>\n",
              "    <tr>\n",
              "      <th>1</th>\n",
              "      <td>ZN</td>\n",
              "      <td>0.000000</td>\n",
              "    </tr>\n",
              "    <tr>\n",
              "      <th>2</th>\n",
              "      <td>INDUS</td>\n",
              "      <td>-0.000000</td>\n",
              "    </tr>\n",
              "    <tr>\n",
              "      <th>3</th>\n",
              "      <td>CHAS</td>\n",
              "      <td>0.474343</td>\n",
              "    </tr>\n",
              "    <tr>\n",
              "      <th>4</th>\n",
              "      <td>NOX</td>\n",
              "      <td>-0.330281</td>\n",
              "    </tr>\n",
              "    <tr>\n",
              "      <th>5</th>\n",
              "      <td>RM</td>\n",
              "      <td>2.907390</td>\n",
              "    </tr>\n",
              "    <tr>\n",
              "      <th>6</th>\n",
              "      <td>AGE</td>\n",
              "      <td>-0.000000</td>\n",
              "    </tr>\n",
              "    <tr>\n",
              "      <th>7</th>\n",
              "      <td>DIS</td>\n",
              "      <td>-0.376916</td>\n",
              "    </tr>\n",
              "    <tr>\n",
              "      <th>8</th>\n",
              "      <td>RAD</td>\n",
              "      <td>-0.000000</td>\n",
              "    </tr>\n",
              "    <tr>\n",
              "      <th>9</th>\n",
              "      <td>TAX</td>\n",
              "      <td>-0.097380</td>\n",
              "    </tr>\n",
              "    <tr>\n",
              "      <th>10</th>\n",
              "      <td>PTRATIO</td>\n",
              "      <td>-1.600505</td>\n",
              "    </tr>\n",
              "    <tr>\n",
              "      <th>11</th>\n",
              "      <td>B</td>\n",
              "      <td>0.577871</td>\n",
              "    </tr>\n",
              "    <tr>\n",
              "      <th>12</th>\n",
              "      <td>LSTAT</td>\n",
              "      <td>-3.254259</td>\n",
              "    </tr>\n",
              "    <tr>\n",
              "      <th>13</th>\n",
              "      <td>Noise_1</td>\n",
              "      <td>0.000000</td>\n",
              "    </tr>\n",
              "    <tr>\n",
              "      <th>14</th>\n",
              "      <td>Noise_2</td>\n",
              "      <td>0.000000</td>\n",
              "    </tr>\n",
              "    <tr>\n",
              "      <th>15</th>\n",
              "      <td>Noise_3</td>\n",
              "      <td>-0.000000</td>\n",
              "    </tr>\n",
              "    <tr>\n",
              "      <th>16</th>\n",
              "      <td>Noise_4</td>\n",
              "      <td>0.000000</td>\n",
              "    </tr>\n",
              "    <tr>\n",
              "      <th>17</th>\n",
              "      <td>Noise_5</td>\n",
              "      <td>-0.000000</td>\n",
              "    </tr>\n",
              "  </tbody>\n",
              "</table>\n",
              "</div>"
            ],
            "text/plain": [
              "   Feature Name  alpha= 0.5000\n",
              "0          CRIM      -0.256338\n",
              "1            ZN       0.000000\n",
              "2         INDUS      -0.000000\n",
              "3          CHAS       0.474343\n",
              "4           NOX      -0.330281\n",
              "5            RM       2.907390\n",
              "6           AGE      -0.000000\n",
              "7           DIS      -0.376916\n",
              "8           RAD      -0.000000\n",
              "9           TAX      -0.097380\n",
              "10      PTRATIO      -1.600505\n",
              "11            B       0.577871\n",
              "12        LSTAT      -3.254259\n",
              "13      Noise_1       0.000000\n",
              "14      Noise_2       0.000000\n",
              "15      Noise_3      -0.000000\n",
              "16      Noise_4       0.000000\n",
              "17      Noise_5      -0.000000"
            ]
          },
          "metadata": {
            "tags": []
          },
          "execution_count": 130
        }
      ]
    },
    {
      "cell_type": "markdown",
      "metadata": {
        "id": "G_KrEA8qUMLJ"
      },
      "source": [
        "#### **Result : ElasticNet**\r\n",
        "\r\n",
        "**ElasticNet takes into account l1 and l2 regularization, so in addition to optimizing alphas we can also try to optimize the l1/l2 ratio (ratio = 1 for l1 penalty, or ratio = 0 for l2 penalty.**\r\n",
        "\r\n",
        "**Trying to find the best value with ElasticNetCV gives us $\\alpha$=.1930 and l1_ratio= .1 (close to l2 penalty). However, these parameters don't help us \"clean out\" the noise we added.**\r\n",
        "\r\n",
        "**Perhaps for this data I'll use a stronger $\\alpha$=.5 with greater importance on l1 penalty (ratio= .8), to help remove the noise as well as some features that are less importance.**"
      ]
    }
  ]
}